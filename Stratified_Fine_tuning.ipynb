{
 "cells": [
  {
   "cell_type": "code",
   "execution_count": null,
   "metadata": {},
   "outputs": [],
   "source": [
    "!pip install transformers\n",
    "!pip install keras\n",
    "!pip install Sentencepiece\n",
    "!pip install torch torchvision torchaudio --extra-index-url https://download.pytorch.org/whl/cu113\n",
    "!pip install datasets\n",
    "!pip install -U scikit-learn"
   ]
  },
  {
   "cell_type": "code",
   "execution_count": 1,
   "metadata": {},
   "outputs": [],
   "source": [
    "import os\n",
    "#os.environ[\"CUDA_DEVICE_ORDER\"]=\"PCI_BUS_ID\"\n",
    "#os.environ[\"CUDA_VISIBLE_DEVICES\"]=\"0\"\n",
    "os.environ[\"WANDB_DISABLED\"] = \"true\""
   ]
  },
  {
   "cell_type": "code",
   "execution_count": 2,
   "metadata": {},
   "outputs": [
    {
     "name": "stderr",
     "output_type": "stream",
     "text": [
      "2022-10-23 14:25:25.816677: I tensorflow/core/util/util.cc:169] oneDNN custom operations are on. You may see slightly different numerical results due to floating-point round-off errors from different computation orders. To turn them off, set the environment variable `TF_ENABLE_ONEDNN_OPTS=0`.\n",
      "Using the `WANDB_DISABLED` environment variable is deprecated and will be removed in v5. Use the --report_to flag to control the integrations used for logging result (for instance --report_to none).\n"
     ]
    }
   ],
   "source": [
    "import transformers\n",
    "import torch\n",
    "from datasets import load_dataset, concatenate_datasets, Dataset, DatasetDict\n",
    "\n",
    "import numpy as np\n",
    "import pandas as pd\n",
    "import seaborn as sns\n",
    "import matplotlib.pyplot as plt\n",
    "\n",
    "from functions import *\n",
    "\n",
    "from transformers import TextClassificationPipeline\n",
    "from transformers.pipelines.pt_utils import KeyDataset\n",
    "\n",
    "from sklearn.metrics import confusion_matrix, precision_recall_fscore_support\n",
    "from sklearn.model_selection import StratifiedKFold\n",
    "from transformers import AutoModelForSequenceClassification, TrainingArguments, Trainer, AutoTokenizer"
   ]
  },
  {
   "cell_type": "markdown",
   "metadata": {
    "tags": []
   },
   "source": [
    "# Valence"
   ]
  },
  {
   "cell_type": "code",
   "execution_count": 4,
   "metadata": {},
   "outputs": [
    {
     "name": "stderr",
     "output_type": "stream",
     "text": [
      "Using custom data configuration default-1336a50e6ad1460e\n",
      "Found cached dataset csv (/home/jovyan/.cache/huggingface/datasets/csv/default-1336a50e6ad1460e/0.0.0/6b34fb8fcf56f7c8ba51dc895bfa2bfbe43546f190a60fcf74bb5e8afdcc2317)\n",
      "Loading cached processed dataset at /home/jovyan/.cache/huggingface/datasets/csv/default-1336a50e6ad1460e/0.0.0/6b34fb8fcf56f7c8ba51dc895bfa2bfbe43546f190a60fcf74bb5e8afdcc2317/cache-9f90d038b32f01c6.arrow\n"
     ]
    }
   ],
   "source": [
    "label_num = 2\n",
    "conf_scores = [0.5, 0.7, 0.95]\n",
    "conf_scores_lower = [0.4, 0.3, 0.2, 0.1]\n",
    "#load_tokenizer(\"distilbert-base-german-cased\")\n",
    "folds = StratifiedKFold(n_splits=10)\n",
    "\n",
    "forum = load_tokenize_enhanced_set(\"../Ablation_Studies/forum/valence/train_valence_preproc.csv\")\n",
    "splits = folds.split(np.zeros(forum.num_rows), forum[\"labels\"])"
   ]
  },
  {
   "cell_type": "code",
   "execution_count": null,
   "metadata": {},
   "outputs": [],
   "source": [
    "i = 0\n",
    "    \n",
    "training_args = TrainingArguments(\"original_forum\", evaluation_strategy=\"epoch\")\n",
    "metrics = {}\n",
    "for train_idxs, val_idxs in splits:\n",
    "    fold_dataset = DatasetDict({\n",
    "        \"train\":forum.select(train_idxs),\n",
    "        \"validation\":forum.select(val_idxs)\n",
    "    })\n",
    "    print(i)\n",
    "    model = AutoModelForSequenceClassification.from_pretrained(\"bert-base-german-cased\", num_labels=label_num)\n",
    "    trainer = Trainer(model=model, args=training_args, train_dataset=fold_dataset[\"train\"], eval_dataset=fold_dataset[\"validation\"], compute_metrics=compute_metrics)\n",
    "    trainer.train()\n",
    "    metrics[i] = {}\n",
    "    trainer.save_model(\"classif/stratified_cv_valence\")\n",
    "    metrics[i][\"orig\"] = compute_test_metrics(trainer.predict(fold_dataset[\"validation\"]), None)\n",
    "    metrics[i][\"train_support\"] = compute_test_metrics(trainer.predict(fold_dataset[\"train\"]), None)\n",
    "    model = AutoModelForSequenceClassification.from_pretrained(\"classif/stratified_cv_valence\", num_labels=label_num)\n",
    "    pipe = TextClassificationPipeline(model=model, tokenizer=tokenizer, return_all_scores=True, device=0)\n",
    "    dataset_1 = predict_valence_with_confidence(\"mot_05.csv\", pipe)\n",
    "    dataset_2 = predict_valence_with_confidence(\"mot_07.csv\", pipe)\n",
    "    dataset_3 = predict_valence_with_confidence(\"mot_095.csv\", pipe)\n",
    "    dataset_4 = predict_valence_with_confidence(\"new_data_both.csv\", pipe)\n",
    "    \n",
    "    for conf_score in conf_scores:\n",
    "        print(conf_score)\n",
    "        evaluation, support = finetune_more(dataset_1, conf_score, fold_dataset[\"train\"], 2, fold_dataset[\"validation\"], training_args, mode=\"confidence\")\n",
    "        metrics[i][\"FN 05 \" + str(conf_score)] = evaluation\n",
    "        metrics[i][\"FN 05 \" + str(conf_score)+\"_support\"] = support\n",
    "        \n",
    "        evaluation, support = finetune_more(dataset_2, conf_score, fold_dataset[\"train\"], 2, fold_dataset[\"validation\"], training_args, mode=\"confidence\")\n",
    "        metrics[i][\"FN 07 \" + str(conf_score)] = evaluation\n",
    "        metrics[i][\"FN 07 \" + str(conf_score)+\"_support\"] = support\n",
    "        \n",
    "        evaluation, support = finetune_more(dataset_3, conf_score, fold_dataset[\"train\"], 2, fold_dataset[\"validation\"], training_args, mode=\"confidence\")\n",
    "        metrics[i][\"FN 095 \" + str(conf_score)] = evaluation\n",
    "        metrics[i][\"FN 095 \" + str(conf_score)+\"_support\"] = support\n",
    "        \n",
    "        evaluation, support = finetune_more(dataset_4, conf_score, fold_dataset[\"train\"], 2, fold_dataset[\"validation\"], training_args, mode=\"confidence\")\n",
    "        metrics[i][\"no FN \" + str(conf_score)] = evaluation\n",
    "        metrics[i][\"no FN \" + str(conf_score)+\"_support\"] = support\n",
    "        \n",
    "        metrics_df = pd.DataFrame.from_dict({(i,j): metrics[i][j]\n",
    "                        for i in metrics.keys() \n",
    "                        for j in metrics[i].keys()},\n",
    "                    orient='columns').transpose()\n",
    "        metrics_df.to_csv(\"metrics/stratified_valence_FN_mot_test_sets_metrics.csv\")\n",
    "        i = i+1"
   ]
  },
  {
   "cell_type": "markdown",
   "metadata": {},
   "source": [
    "### Choose Option once we have right results on stratified testing"
   ]
  },
  {
   "cell_type": "code",
   "execution_count": null,
   "metadata": {},
   "outputs": [],
   "source": [
    "i = 0\n",
    "conf_scores = [0.5]\n",
    "    \n",
    "training_args = TrainingArguments(\"original_forum\", evaluation_strategy=\"epoch\")\n",
    "metrics = {}\n",
    "for train_idxs, val_idxs in splits:\n",
    "    fold_dataset = DatasetDict({\n",
    "        \"train\":forum.select(train_idxs),\n",
    "        \"validation\":forum.select(val_idxs)\n",
    "    })\n",
    "    print(i)\n",
    "    if i > 8:\n",
    "        metrics_old = pd.read_csv(\"metrics/stratified_valence_additional_tests.csv\")\n",
    "        model = AutoModelForSequenceClassification.from_pretrained(\"bert-base-german-cased\", num_labels=label_num)\n",
    "        trainer = Trainer(model=model, args=training_args, train_dataset=fold_dataset[\"train\"], eval_dataset=fold_dataset[\"validation\"], compute_metrics=compute_metrics)\n",
    "        trainer.train()\n",
    "        metrics[i] = {}\n",
    "        trainer.save_model(\"classif/stratified_cv_valence\")\n",
    "        metrics[i][\"orig\"] = compute_test_metrics(trainer.predict(fold_dataset[\"validation\"]), None)\n",
    "        metrics[i][\"train_support\"] = compute_test_metrics(trainer.predict(fold_dataset[\"train\"]), None)\n",
    "        model = AutoModelForSequenceClassification.from_pretrained(\"classif/stratified_cv_valence\", num_labels=label_num)\n",
    "        pipe = TextClassificationPipeline(model=model, tokenizer=tokenizer, return_all_scores=True, device=0)\n",
    "        '''dataset_1 = predict_valence_with_confidence(\"mot_05.csv\", pipe)\n",
    "        dataset_2 = predict_valence_with_confidence(\"mot_07.csv\", pipe)\n",
    "        dataset_3 = predict_valence_with_confidence(\"mot_095.csv\", pipe)'''\n",
    "        dataset_4 = predict_valence_with_confidence(\"new_data_both.csv\", pipe)\n",
    "        for conf_score in conf_scores:\n",
    "            '''evaluation, support = finetune_more(dataset_1, conf_score, fold_dataset[\"train\"], 2, fold_dataset[\"validation\"], training_args)\n",
    "            metrics[i][\"FN 05 \" + str(conf_score) + \"_only_minority\"] = evaluation\n",
    "            metrics[i][\"FN 05 \" + str(conf_score)+\"_support_only_minority\"] = support\n",
    "\n",
    "            evaluation, support = finetune_more(dataset_2, conf_score, fold_dataset[\"train\"], 2, fold_dataset[\"validation\"], training_args)\n",
    "            metrics[i][\"FN 07 \" + str(conf_score)+ \"_only_minority\"] = evaluation\n",
    "            metrics[i][\"FN 07 \" + str(conf_score)+\"_support_only_minority\"] = support\n",
    "\n",
    "            evaluation, support = finetune_more(dataset_3, conf_score, fold_dataset[\"train\"], 2, fold_dataset[\"validation\"], training_args)\n",
    "            metrics[i][\"FN 095 \" + str(conf_score) + \"_only_minority\"] = evaluation\n",
    "            metrics[i][\"FN 095 \" + str(conf_score)+\"_support_only_minority\"] = support'''\n",
    "\n",
    "            evaluation, support = finetune_more(dataset_4, conf_score, fold_dataset[\"train\"], 2, fold_dataset[\"validation\"], training_args)\n",
    "            metrics[i][\"no FN \" + str(conf_score)+ \"_only_minority\"] = evaluation\n",
    "            metrics[i][\"no FN \" + str(conf_score)+\"_support_only_minority\"] = support\n",
    "\n",
    "            metrics_df = pd.DataFrame.from_dict({(i,j): metrics[i][j]\n",
    "                            for i in metrics.keys() \n",
    "                            for j in metrics[i].keys()},\n",
    "                        orient='columns').transpose()\n",
    "            metrics_df = pd.concat([metrics_old, metrics_df], ignore_index=True)\n",
    "            metrics_df.to_csv(\"metrics/stratified_valence_additional_tests.csv\")\n",
    "\n",
    "            '''evaluation, support = finetune_more(dataset_1, conf_score, fold_dataset[\"train\"], 2, fold_dataset[\"validation\"], training_args, mode=\"equal\")\n",
    "            metrics[i][\"FN 05 \" + str(conf_score) + \"_equal\"] = evaluation\n",
    "            metrics[i][\"FN 05 \" + str(conf_score)+\"_support_equal\"] = support\n",
    "\n",
    "            evaluation, support = finetune_more(dataset_2, conf_score, fold_dataset[\"train\"], 2, fold_dataset[\"validation\"], training_args, mode=\"equal\")\n",
    "            metrics[i][\"FN 07 \" + str(conf_score)+ \"_equal\"] = evaluation\n",
    "            metrics[i][\"FN 07 \" + str(conf_score)+\"_support_equal\"] = support\n",
    "\n",
    "            evaluation, support = finetune_more(dataset_3, conf_score, fold_dataset[\"train\"], 2, fold_dataset[\"validation\"], training_args, mode=\"equal\")\n",
    "            metrics[i][\"FN 095 \" + str(conf_score) + \"_equal\"] = evaluation\n",
    "            metrics[i][\"FN 095 \" + str(conf_score)+\"_support_equal\"] = support'''\n",
    "\n",
    "            evaluation, support = finetune_more(dataset_4, conf_score, fold_dataset[\"train\"], 2, fold_dataset[\"validation\"], training_args, mode=\"equal\")\n",
    "            metrics[i][\"no FN \" + str(conf_score)+ \"_equal\"] = evaluation\n",
    "            metrics[i][\"no FN \" + str(conf_score)+\"_support_equal\"] = support\n",
    "\n",
    "            metrics_df = pd.DataFrame.from_dict({(i,j): metrics[i][j]\n",
    "                            for i in metrics.keys() \n",
    "                            for j in metrics[i].keys()},\n",
    "                        orient='columns').transpose()\n",
    "            #metrics_df.head()\n",
    "            metrics_df = pd.concat([metrics_old, metrics_df], ignore_index=True)\n",
    "            metrics_df.to_csv(\"metrics/stratified_valence_additional_tests.csv\")\n",
    "\n",
    "        for conf_score in conf_scores_lower:\n",
    "            print(conf_score)\n",
    "\n",
    "            '''evaluation, support = finetune_more(dataset_1, conf_score, fold_dataset[\"train\"], 2, fold_dataset[\"validation\"], training_args, mode=\"confidence\")\n",
    "            metrics[i][\"FN 05 \" + str(conf_score) + \"_low_conf_minority\"] = evaluation\n",
    "            metrics[i][\"FN 05 \" + str(conf_score)+\"_support_low_conf_minority\"] = support\n",
    "\n",
    "            evaluation, support = finetune_more(dataset_2, conf_score, fold_dataset[\"train\"], 2, fold_dataset[\"validation\"], training_args, mode=\"confidence\")\n",
    "            metrics[i][\"FN 07 \" + str(conf_score)+ \"_low_conf_minority\"] = evaluation\n",
    "            metrics[i][\"FN 07 \" + str(conf_score)+\"_support_low_conf_minority\"] = support\n",
    "\n",
    "            evaluation, support = finetune_more(dataset_3, conf_score, fold_dataset[\"train\"], 2, fold_dataset[\"validation\"], training_args, mode=\"confidence\")\n",
    "            metrics[i][\"FN 095 \" + str(conf_score) + \"_low_conf_minority\"] = evaluation\n",
    "            metrics[i][\"FN 095 \" + str(conf_score)+\"_support_low_conf_minority\"] = support'''\n",
    "\n",
    "            evaluation, support = finetune_more(dataset_4, conf_score, fold_dataset[\"train\"], 2, fold_dataset[\"validation\"], training_args, mode=\"confidence\")\n",
    "            metrics[i][\"no FN \" + str(conf_score)+ \"_low_conf_minority\"] = evaluation\n",
    "            metrics[i][\"no FN \" + str(conf_score)+\"_support_low_conf_minority\"] = support\n",
    "\n",
    "            metrics_df = pd.DataFrame.from_dict({(i,j): metrics[i][j]\n",
    "                            for i in metrics.keys() \n",
    "                            for j in metrics[i].keys()},\n",
    "                        orient='columns').transpose()\n",
    "            #metrics_df.head()\n",
    "            metrics_df = pd.concat([metrics_old, metrics_df], ignore_index=True)\n",
    "            metrics_df.to_csv(\"metrics/stratified_valence_additional_tests.csv\")\n",
    "    i = i+1"
   ]
  },
  {
   "cell_type": "markdown",
   "metadata": {
    "tags": []
   },
   "source": [
    "# Labels"
   ]
  },
  {
   "cell_type": "code",
   "execution_count": 4,
   "metadata": {},
   "outputs": [
    {
     "name": "stderr",
     "output_type": "stream",
     "text": [
      "Using custom data configuration default-097cb2dc197c9709\n",
      "Found cached dataset csv (/home/jovyan/.cache/huggingface/datasets/csv/default-097cb2dc197c9709/0.0.0/6b34fb8fcf56f7c8ba51dc895bfa2bfbe43546f190a60fcf74bb5e8afdcc2317)\n"
     ]
    },
    {
     "data": {
      "application/vnd.jupyter.widget-view+json": {
       "model_id": "cc8e1479a9a14afe8e24f56fded75f45",
       "version_major": 2,
       "version_minor": 0
      },
      "text/plain": [
       "  0%|          | 0/4 [00:00<?, ?ba/s]"
      ]
     },
     "metadata": {},
     "output_type": "display_data"
    }
   ],
   "source": [
    "label_num = 3\n",
    "conf_scores = [0.5, 0.7, 0.95]\n",
    "conf_scores_lower = [0.4, 0.3, 0.2, 0.1]\n",
    "folds = StratifiedKFold(n_splits=10)\n",
    "\n",
    "forum = load_tokenize_enhanced_set(\"../Ablation_Studies/forum/label/train_label_preproc.csv\")\n",
    "splits = folds.split(np.zeros(forum.num_rows), forum[\"labels\"])"
   ]
  },
  {
   "cell_type": "code",
   "execution_count": null,
   "metadata": {},
   "outputs": [],
   "source": [
    "i = 0\n",
    "label_num = 3\n",
    "    \n",
    "training_args = TrainingArguments(\"original_forum\", evaluation_strategy=\"epoch\")\n",
    "metrics = {}\n",
    "for train_idxs, val_idxs in splits:\n",
    "    fold_dataset = DatasetDict({\n",
    "        \"train\":forum.select(train_idxs),\n",
    "        \"validation\":forum.select(val_idxs)\n",
    "    })\n",
    "    print(i)\n",
    "    model = AutoModelForSequenceClassification.from_pretrained(\"bert-base-german-cased\", num_labels=label_num)\n",
    "    trainer = Trainer(model=model, args=training_args, train_dataset=fold_dataset[\"train\"], eval_dataset=fold_dataset[\"validation\"], compute_metrics=compute_metrics)\n",
    "    trainer.train()\n",
    "    metrics[i] = {}\n",
    "    trainer.save_model(\"classif/stratified_cv_labels\")\n",
    "    metrics[i][\"orig\"] = compute_test_metrics(trainer.predict(fold_dataset[\"validation\"]), None)\n",
    "    metrics[i][\"train_support\"] = compute_test_metrics(trainer.predict(fold_dataset[\"train\"]), None)\n",
    "    model = AutoModelForSequenceClassification.from_pretrained(\"classif/stratified_cv_labels\", num_labels=label_num)\n",
    "    pipe = TextClassificationPipeline(model=model, tokenizer=tokenizer, return_all_scores=True, device=0)\n",
    "    dataset_1 = predict_labels_with_confidence(\"mot_05.csv\", pipe)\n",
    "    dataset_2 = predict_labels_with_confidence(\"mot_07.csv\", pipe)\n",
    "    dataset_3 = predict_labels_with_confidence(\"mot_095.csv\", pipe)\n",
    "    dataset_4 = predict_labels_with_confidence(\"new_data_both.csv\", pipe)\n",
    "    \n",
    "    for conf_score in conf_scores:\n",
    "        print(conf_score)\n",
    "        evaluation, support = finetune_more_labels(dataset_1, conf_score, fold_dataset[\"train\"], label_num, fold_dataset[\"validation\"], training_args, mode=\"confidence\")\n",
    "        metrics[i][\"FN 05 \" + str(conf_score)] = evaluation\n",
    "        metrics[i][\"FN 05 \" + str(conf_score)+\"_support\"] = support\n",
    "        \n",
    "        evaluation, support = finetune_more_labels(dataset_2, conf_score, fold_dataset[\"train\"], label_num, fold_dataset[\"validation\"], training_args, mode=\"confidence\")\n",
    "        metrics[i][\"FN 07 \" + str(conf_score)] = evaluation\n",
    "        metrics[i][\"FN 07 \" + str(conf_score)+\"_support\"] = support\n",
    "        \n",
    "        evaluation, support = finetune_more_labels(dataset_3, conf_score, fold_dataset[\"train\"], label_num, fold_dataset[\"validation\"], training_args, mode=\"confidence\")\n",
    "        metrics[i][\"FN 095 \" + str(conf_score)] = evaluation\n",
    "        metrics[i][\"FN 095 \" + str(conf_score)+\"_support\"] = support\n",
    "        \n",
    "        evaluation, support = finetune_more_labels(dataset_4, conf_score, fold_dataset[\"train\"], label_num, fold_dataset[\"validation\"], training_args, mode=\"confidence\")\n",
    "        metrics[i][\"no FN \" + str(conf_score)] = evaluation\n",
    "        metrics[i][\"no FN \" + str(conf_score)+\"_support\"] = support\n",
    "        \n",
    "        metrics_df = pd.DataFrame.from_dict({(i,j): metrics[i][j]\n",
    "                        for i in metrics.keys() \n",
    "                        for j in metrics[i].keys()},\n",
    "                    orient='columns').transpose()\n",
    "        metrics_df.to_csv(\"metrics/stratified_labels_FN_mot_test_sets_metrics.csv\")\n",
    "        \n",
    "    i = i+1"
   ]
  },
  {
   "cell_type": "markdown",
   "metadata": {},
   "source": [
    "### Choose Option once we have right results on stratified testing"
   ]
  },
  {
   "cell_type": "code",
   "execution_count": null,
   "metadata": {},
   "outputs": [],
   "source": [
    "i = 0\n",
    "label_num = 3\n",
    "conf_scores = [0.95]\n",
    "    \n",
    "training_args = TrainingArguments(\"original_forum\", evaluation_strategy=\"epoch\")\n",
    "metrics = {}\n",
    "for train_idxs, val_idxs in splits:\n",
    "    fold_dataset = DatasetDict({\n",
    "        \"train\":forum.select(train_idxs),\n",
    "        \"validation\":forum.select(val_idxs)\n",
    "    })\n",
    "    print(i)\n",
    "    if i > 8:\n",
    "        metrics_old = pd.read_csv(\"metrics/stratified_labels_additional_tests.csv\")\n",
    "        model = AutoModelForSequenceClassification.from_pretrained(\"bert-base-german-cased\", num_labels=label_num)\n",
    "        trainer = Trainer(model=model, args=training_args, train_dataset=fold_dataset[\"train\"], eval_dataset=fold_dataset[\"validation\"], compute_metrics=compute_metrics)\n",
    "        trainer.train()\n",
    "        metrics[i] = {}\n",
    "        trainer.save_model(\"classif/stratified_cv_labels\")\n",
    "        metrics[i][\"orig\"] = compute_test_metrics(trainer.predict(fold_dataset[\"validation\"]), None)\n",
    "        metrics[i][\"train_support\"] = compute_test_metrics(trainer.predict(fold_dataset[\"train\"]), None)\n",
    "        model = AutoModelForSequenceClassification.from_pretrained(\"classif/stratified_cv_labels\", num_labels=label_num)\n",
    "        pipe = TextClassificationPipeline(model=model, tokenizer=tokenizer, return_all_scores=True, device=0)\n",
    "        '''dataset_1 = predict_labels_with_confidence(\"mot_05.csv\", pipe)\n",
    "        dataset_2 = predict_labels_with_confidence(\"mot_07.csv\", pipe)\n",
    "        dataset_3 = predict_labels_with_confidence(\"mot_095.csv\", pipe)'''\n",
    "        dataset_4 = predict_labels_with_confidence(\"new_data_both.csv\", pipe)\n",
    "\n",
    "        for conf_score in conf_scores:\n",
    "            print(conf_score)\n",
    "            '''evaluation, support = finetune_more_labels(dataset_1, conf_score, fold_dataset[\"train\"], label_num, fold_dataset[\"validation\"], training_args)\n",
    "            metrics[i][\"FN 05 \" + str(conf_score) + \"_only_minority\"] = evaluation\n",
    "            metrics[i][\"FN 05 \" + str(conf_score)+\"_support_only_minority\"] = support\n",
    "\n",
    "            evaluation, support = finetune_more_labels(dataset_2, conf_score, fold_dataset[\"train\"], label_num, fold_dataset[\"validation\"], training_args)\n",
    "            metrics[i][\"FN 07 \" + str(conf_score)+ \"_only_minority\"] = evaluation\n",
    "            metrics[i][\"FN 07 \" + str(conf_score)+\"_support_only_minority\"] = support\n",
    "\n",
    "            evaluation, support = finetune_more_labels(dataset_3, conf_score, fold_dataset[\"train\"], label_num, fold_dataset[\"validation\"], training_args)\n",
    "            metrics[i][\"FN 095 \" + str(conf_score) + \"_only_minority\"] = evaluation\n",
    "            metrics[i][\"FN 095 \" + str(conf_score)+\"_support_only_minority\"] = support'''\n",
    "\n",
    "            evaluation, support = finetune_more_labels(dataset_4, conf_score, fold_dataset[\"train\"], label_num, fold_dataset[\"validation\"], training_args)\n",
    "            metrics[i][\"no FN \" + str(conf_score)+ \"_only_minority\"] = evaluation\n",
    "            metrics[i][\"no FN \" + str(conf_score)+\"_support_only_minority\"] = support\n",
    "\n",
    "            metrics_df = pd.DataFrame.from_dict({(i,j): metrics[i][j]\n",
    "                            for i in metrics.keys() \n",
    "                            for j in metrics[i].keys()},\n",
    "                        orient='columns').transpose()\n",
    "            metrics_df = pd.concat([metrics_old, metrics_df], ignore_index=True)\n",
    "            metrics_df.to_csv(\"metrics/stratified_labels_additional_tests.csv\")\n",
    "\n",
    "            '''evaluation, support = finetune_more_labels(dataset_1, conf_score, fold_dataset[\"train\"], label_num, fold_dataset[\"validation\"], training_args, mode=\"equal\")\n",
    "            metrics[i][\"FN 05 \" + str(conf_score) + \"_equal\"] = evaluation\n",
    "            metrics[i][\"FN 05 \" + str(conf_score)+\"_support_equal\"] = support\n",
    "\n",
    "            evaluation, support = finetune_more_labels(dataset_2, conf_score, fold_dataset[\"train\"], label_num, fold_dataset[\"validation\"], training_args, mode=\"equal\")\n",
    "            metrics[i][\"FN 07 \" + str(conf_score)+ \"_equal\"] = evaluation\n",
    "            metrics[i][\"FN 07 \" + str(conf_score)+\"_support_equal\"] = support\n",
    "\n",
    "            evaluation, support = finetune_more_labels(dataset_3, conf_score, fold_dataset[\"train\"], label_num, fold_dataset[\"validation\"], training_args, mode=\"equal\")\n",
    "            metrics[i][\"FN 095 \" + str(conf_score) + \"_equal\"] = evaluation\n",
    "            metrics[i][\"FN 095 \" + str(conf_score)+\"_support_equal\"] = support'''\n",
    "\n",
    "            evaluation, support = finetune_more_labels(dataset_4, conf_score, fold_dataset[\"train\"], label_num, fold_dataset[\"validation\"], training_args, mode=\"equal\")\n",
    "            metrics[i][\"no FN \" + str(conf_score)+ \"_equal\"] = evaluation\n",
    "            metrics[i][\"no FN \" + str(conf_score)+\"_support_equal\"] = support\n",
    "\n",
    "            metrics_df = pd.DataFrame.from_dict({(i,j): metrics[i][j]\n",
    "                            for i in metrics.keys() \n",
    "                            for j in metrics[i].keys()},\n",
    "                        orient='columns').transpose()\n",
    "            #metrics_df.head()\n",
    "            metrics_df = pd.concat([metrics_old, metrics_df], ignore_index=True)\n",
    "            metrics_df.to_csv(\"metrics/stratified_labels_additional_tests.csv\")\n",
    "\n",
    "        for conf_score in conf_scores_lower:\n",
    "            print(conf_score)\n",
    "\n",
    "            '''evaluation, support = finetune_more_labels(dataset_1, conf_score, fold_dataset[\"train\"], label_num, fold_dataset[\"validation\"], training_args, mode=\"confidence\")\n",
    "            metrics[i][\"FN 05 \" + str(conf_score) + \"_low_conf_minority\"] = evaluation\n",
    "            metrics[i][\"FN 05 \" + str(conf_score)+\"_support_low_conf_minority\"] = support\n",
    "\n",
    "            evaluation, support = finetune_more_labels(dataset_2, conf_score, fold_dataset[\"train\"], label_num, fold_dataset[\"validation\"], training_args, mode=\"confidence\")\n",
    "            metrics[i][\"FN 07 \" + str(conf_score)+ \"_low_conf_minority\"] = evaluation\n",
    "            metrics[i][\"FN 07 \" + str(conf_score)+\"_support_low_conf_minority\"] = support\n",
    "\n",
    "            evaluation, support = finetune_more_labels(dataset_3, conf_score, fold_dataset[\"train\"], label_num, fold_dataset[\"validation\"], training_args, mode=\"confidence\")\n",
    "            metrics[i][\"FN 095 \" + str(conf_score) + \"_low_conf_minority\"] = evaluation\n",
    "            metrics[i][\"FN 095 \" + str(conf_score)+\"_support_low_conf_minority\"] = support'''\n",
    "\n",
    "            evaluation, support = finetune_more_labels(dataset_4, conf_score, fold_dataset[\"train\"], label_num, fold_dataset[\"validation\"], training_args, mode=\"confidence\")\n",
    "            metrics[i][\"no FN \" + str(conf_score)+ \"_low_conf_minority\"] = evaluation\n",
    "            metrics[i][\"no FN \" + str(conf_score)+\"_support_low_conf_minority\"] = support\n",
    "\n",
    "            metrics_df = pd.DataFrame.from_dict({(i,j): metrics[i][j]\n",
    "                            for i in metrics.keys() \n",
    "                            for j in metrics[i].keys()},\n",
    "                        orient='columns').transpose()\n",
    "            #metrics_df.head()\n",
    "            metrics_df = pd.concat([metrics_old, metrics_df], ignore_index=True)\n",
    "            metrics_df.to_csv(\"metrics/stratified_labels_additional_tests.csv\")\n",
    "    i = i+1"
   ]
  },
  {
   "cell_type": "markdown",
   "metadata": {
    "tags": []
   },
   "source": [
    "# Sublabels"
   ]
  },
  {
   "cell_type": "code",
   "execution_count": 3,
   "metadata": {},
   "outputs": [
    {
     "name": "stderr",
     "output_type": "stream",
     "text": [
      "Using custom data configuration default-3edc0ad1ac61e499\n",
      "Found cached dataset csv (/home/jovyan/.cache/huggingface/datasets/csv/default-3edc0ad1ac61e499/0.0.0/6b34fb8fcf56f7c8ba51dc895bfa2bfbe43546f190a60fcf74bb5e8afdcc2317)\n",
      "Loading cached processed dataset at /home/jovyan/.cache/huggingface/datasets/csv/default-3edc0ad1ac61e499/0.0.0/6b34fb8fcf56f7c8ba51dc895bfa2bfbe43546f190a60fcf74bb5e8afdcc2317/cache-e1d8785294ecdfce.arrow\n"
     ]
    }
   ],
   "source": [
    "label_num = 4\n",
    "conf_scores = [0.5, 0.7, 0.95]\n",
    "conf_scores_lower = [0.4, 0.3, 0.2, 0.1]\n",
    "#load_tokenizer(\"distilbert-base-german-cased\")\n",
    "folds = StratifiedKFold(n_splits=10)\n",
    "\n",
    "forum = load_tokenize_enhanced_set(\"../Ablation_Studies/forum/sublabel/train_sublabel_preproc.csv\")\n",
    "splits = folds.split(np.zeros(forum.num_rows), forum[\"labels\"])"
   ]
  },
  {
   "cell_type": "code",
   "execution_count": 8,
   "metadata": {},
   "outputs": [
    {
     "name": "stderr",
     "output_type": "stream",
     "text": [
      "PyTorch: setting up devices\n",
      "The default value for the training argument `--report_to` will change in v5 (from all installed integrations to none). In v5, you will need to use `--report_to all` to get the same behavior as now. You should start updating your code and make this info disappear :-).\n",
      "Using the `WANDB_DISABLED` environment variable is deprecated and will be removed in v5. Use the --report_to flag to control the integrations used for logging result (for instance --report_to none).\n"
     ]
    }
   ],
   "source": [
    "i = 0\n",
    "label_num = 4\n",
    "\n",
    "training_args = TrainingArguments(\"original_forum\", evaluation_strategy=\"epoch\")\n",
    "metrics = {}\n",
    "for train_idxs, val_idxs in splits:\n",
    "    fold_dataset = DatasetDict({\n",
    "        \"train\":forum.select(train_idxs),\n",
    "        \"validation\":forum.select(val_idxs)\n",
    "    })\n",
    "    print(i)\n",
    "    model = AutoModelForSequenceClassification.from_pretrained(\"bert-base-german-cased\", num_labels=label_num)\n",
    "    trainer = Trainer(model=model, args=training_args, train_dataset=fold_dataset[\"train\"], eval_dataset=fold_dataset[\"validation\"], compute_metrics=compute_metrics)\n",
    "    trainer.train()\n",
    "    metrics[i] = {}\n",
    "    trainer.save_model(\"classif/stratified_cv_sublabels\")\n",
    "    metrics[i][\"orig\"] = compute_test_metrics(trainer.predict(fold_dataset[\"validation\"]), None)\n",
    "    metrics[i][\"train_support\"] = compute_test_metrics(trainer.predict(fold_dataset[\"train\"]), None)\n",
    "    model = AutoModelForSequenceClassification.from_pretrained(\"classif/stratified_cv_sublabels\", num_labels=label_num)\n",
    "    pipe = TextClassificationPipeline(model=model, tokenizer=tokenizer, return_all_scores=True, device=0)\n",
    "    dataset_1 = predict_sublabels_with_confidence(\"mot_05.csv\", pipe)\n",
    "    dataset_2 = predict_sublabels_with_confidence(\"mot_07.csv\", pipe)\n",
    "    dataset_3 = predict_sublabels_with_confidence(\"mot_095.csv\", pipe)\n",
    "    dataset_4 = predict_sublabels_with_confidence(\"new_data_both.csv\", pipe)\n",
    "    \n",
    "    for conf_score in conf_scores:\n",
    "        print(conf_score)\n",
    "        evaluation, support = finetune_more_sublabels(dataset_1, conf_score, fold_dataset[\"train\"], label_num, fold_dataset[\"validation\"], training_args, mode=\"confidence\")\n",
    "        metrics[i][\"FN 05 \" + str(conf_score)] = evaluation\n",
    "        metrics[i][\"FN 05 \" + str(conf_score)+\"_support\"] = support\n",
    "        \n",
    "        evaluation, support = finetune_more_sublabels(dataset_2, conf_score, fold_dataset[\"train\"], label_num, fold_dataset[\"validation\"], training_args, mode=\"confidence\")\n",
    "        metrics[i][\"FN 07 \" + str(conf_score)] = evaluation\n",
    "        metrics[i][\"FN 07 \" + str(conf_score)+\"_support\"] = support\n",
    "        \n",
    "        evaluation, support = finetune_more_sublabels(dataset_3, conf_score, fold_dataset[\"train\"], label_num, fold_dataset[\"validation\"], training_args, mode=\"confidence\")\n",
    "        metrics[i][\"FN 095 \" + str(conf_score)] = evaluation\n",
    "        metrics[i][\"FN 095 \" + str(conf_score)+\"_support\"] = support\n",
    "        \n",
    "        evaluation, support = finetune_more_sublabels(dataset_4, conf_score, fold_dataset[\"train\"], label_num, fold_dataset[\"validation\"], training_args, mode=\"confidence\")\n",
    "        metrics[i][\"no FN \" + str(conf_score)] = evaluation\n",
    "        metrics[i][\"no FN \" + str(conf_score)+\"_support\"] = support\n",
    "        \n",
    "        metrics_df = pd.DataFrame.from_dict({(i,j): metrics[i][j]\n",
    "                        for i in metrics.keys() \n",
    "                        for j in metrics[i].keys()},\n",
    "                    orient='columns').transpose()\n",
    "        metrics_df.to_csv(\"metrics/stratified_sublabels_FN_mot_test_sets_metrics.csv\")\n",
    "    i = i+1"
   ]
  },
  {
   "cell_type": "markdown",
   "metadata": {},
   "source": [
    "### Choose Option once we have right results on stratified testing"
   ]
  },
  {
   "cell_type": "code",
   "execution_count": 4,
   "metadata": {},
   "outputs": [
    {
     "name": "stderr",
     "output_type": "stream",
     "text": [
      "Using the `WANDB_DISABLED` environment variable is deprecated and will be removed in v5. Use the --report_to flag to control the integrations used for logging result (for instance --report_to none).\n"
     ]
    },
    {
     "name": "stdout",
     "output_type": "stream",
     "text": [
      "0\n",
      "1\n",
      "2\n",
      "3\n",
      "4\n",
      "5\n",
      "6\n",
      "7\n",
      "8\n",
      "9\n"
     ]
    },
    {
     "name": "stderr",
     "output_type": "stream",
     "text": [
      "Some weights of the model checkpoint at bert-base-german-cased were not used when initializing BertForSequenceClassification: ['cls.seq_relationship.bias', 'cls.predictions.transform.LayerNorm.bias', 'cls.predictions.transform.LayerNorm.weight', 'cls.predictions.bias', 'cls.predictions.decoder.weight', 'cls.predictions.transform.dense.weight', 'cls.seq_relationship.weight', 'cls.predictions.transform.dense.bias']\n",
      "- This IS expected if you are initializing BertForSequenceClassification from the checkpoint of a model trained on another task or with another architecture (e.g. initializing a BertForSequenceClassification model from a BertForPreTraining model).\n",
      "- This IS NOT expected if you are initializing BertForSequenceClassification from the checkpoint of a model that you expect to be exactly identical (initializing a BertForSequenceClassification model from a BertForSequenceClassification model).\n",
      "Some weights of BertForSequenceClassification were not initialized from the model checkpoint at bert-base-german-cased and are newly initialized: ['classifier.weight', 'classifier.bias']\n",
      "You should probably TRAIN this model on a down-stream task to be able to use it for predictions and inference.\n",
      "The following columns in the training set don't have a corresponding argument in `BertForSequenceClassification.forward` and have been ignored: Sentence, nonfunction_Sentence, non_noun, non_noun_verb_adj, non_verb_aux, non_verb, function_Sentence, non_noun_adj. If Sentence, nonfunction_Sentence, non_noun, non_noun_verb_adj, non_verb_aux, non_verb, function_Sentence, non_noun_adj are not expected by `BertForSequenceClassification.forward`,  you can safely ignore this message.\n",
      "/opt/conda/lib/python3.9/site-packages/transformers/optimization.py:306: FutureWarning: This implementation of AdamW is deprecated and will be removed in a future version. Use the PyTorch implementation torch.optim.AdamW instead, or set `no_deprecation_warning=True` to disable this warning\n",
      "  warnings.warn(\n",
      "***** Running training *****\n",
      "  Num examples = 2170\n",
      "  Num Epochs = 3\n",
      "  Instantaneous batch size per device = 8\n",
      "  Total train batch size (w. parallel, distributed & accumulation) = 16\n",
      "  Gradient Accumulation steps = 1\n",
      "  Total optimization steps = 408\n",
      "/opt/conda/lib/python3.9/site-packages/torch/nn/parallel/_functions.py:68: UserWarning: Was asked to gather along dimension 0, but all input tensors were scalars; will instead unsqueeze and return a vector.\n",
      "  warnings.warn('Was asked to gather along dimension 0, but all '\n"
     ]
    },
    {
     "data": {
      "text/html": [
       "\n",
       "    <div>\n",
       "      \n",
       "      <progress value='408' max='408' style='width:300px; height:20px; vertical-align: middle;'></progress>\n",
       "      [408/408 02:09, Epoch 3/3]\n",
       "    </div>\n",
       "    <table border=\"1\" class=\"dataframe\">\n",
       "  <thead>\n",
       " <tr style=\"text-align: left;\">\n",
       "      <th>Epoch</th>\n",
       "      <th>Training Loss</th>\n",
       "      <th>Validation Loss</th>\n",
       "      <th>Accuracy</th>\n",
       "      <th>F1</th>\n",
       "      <th>Precision</th>\n",
       "      <th>Recall</th>\n",
       "      <th>Mcc</th>\n",
       "    </tr>\n",
       "  </thead>\n",
       "  <tbody>\n",
       "    <tr>\n",
       "      <td>1</td>\n",
       "      <td>No log</td>\n",
       "      <td>0.508733</td>\n",
       "      <td>0.821577</td>\n",
       "      <td>0.737449</td>\n",
       "      <td>0.750796</td>\n",
       "      <td>0.727741</td>\n",
       "      <td>0.628100</td>\n",
       "    </tr>\n",
       "    <tr>\n",
       "      <td>2</td>\n",
       "      <td>No log</td>\n",
       "      <td>0.518351</td>\n",
       "      <td>0.821577</td>\n",
       "      <td>0.747817</td>\n",
       "      <td>0.749376</td>\n",
       "      <td>0.752980</td>\n",
       "      <td>0.632009</td>\n",
       "    </tr>\n",
       "    <tr>\n",
       "      <td>3</td>\n",
       "      <td>No log</td>\n",
       "      <td>0.701555</td>\n",
       "      <td>0.821577</td>\n",
       "      <td>0.741729</td>\n",
       "      <td>0.751916</td>\n",
       "      <td>0.732805</td>\n",
       "      <td>0.630653</td>\n",
       "    </tr>\n",
       "  </tbody>\n",
       "</table><p>"
      ],
      "text/plain": [
       "<IPython.core.display.HTML object>"
      ]
     },
     "metadata": {},
     "output_type": "display_data"
    },
    {
     "name": "stderr",
     "output_type": "stream",
     "text": [
      "The following columns in the evaluation set don't have a corresponding argument in `BertForSequenceClassification.forward` and have been ignored: Sentence, nonfunction_Sentence, non_noun, non_noun_verb_adj, non_verb_aux, non_verb, function_Sentence, non_noun_adj. If Sentence, nonfunction_Sentence, non_noun, non_noun_verb_adj, non_verb_aux, non_verb, function_Sentence, non_noun_adj are not expected by `BertForSequenceClassification.forward`,  you can safely ignore this message.\n",
      "***** Running Evaluation *****\n",
      "  Num examples = 241\n",
      "  Batch size = 16\n",
      "/opt/conda/lib/python3.9/site-packages/torch/nn/parallel/_functions.py:68: UserWarning: Was asked to gather along dimension 0, but all input tensors were scalars; will instead unsqueeze and return a vector.\n",
      "  warnings.warn('Was asked to gather along dimension 0, but all '\n",
      "The following columns in the evaluation set don't have a corresponding argument in `BertForSequenceClassification.forward` and have been ignored: Sentence, nonfunction_Sentence, non_noun, non_noun_verb_adj, non_verb_aux, non_verb, function_Sentence, non_noun_adj. If Sentence, nonfunction_Sentence, non_noun, non_noun_verb_adj, non_verb_aux, non_verb, function_Sentence, non_noun_adj are not expected by `BertForSequenceClassification.forward`,  you can safely ignore this message.\n",
      "***** Running Evaluation *****\n",
      "  Num examples = 241\n",
      "  Batch size = 16\n",
      "/opt/conda/lib/python3.9/site-packages/torch/nn/parallel/_functions.py:68: UserWarning: Was asked to gather along dimension 0, but all input tensors were scalars; will instead unsqueeze and return a vector.\n",
      "  warnings.warn('Was asked to gather along dimension 0, but all '\n",
      "The following columns in the evaluation set don't have a corresponding argument in `BertForSequenceClassification.forward` and have been ignored: Sentence, nonfunction_Sentence, non_noun, non_noun_verb_adj, non_verb_aux, non_verb, function_Sentence, non_noun_adj. If Sentence, nonfunction_Sentence, non_noun, non_noun_verb_adj, non_verb_aux, non_verb, function_Sentence, non_noun_adj are not expected by `BertForSequenceClassification.forward`,  you can safely ignore this message.\n",
      "***** Running Evaluation *****\n",
      "  Num examples = 241\n",
      "  Batch size = 16\n",
      "\n",
      "\n",
      "Training completed. Do not forget to share your model on huggingface.co/models =)\n",
      "\n",
      "\n",
      "Saving model checkpoint to classif/stratified_cv_sublabels\n",
      "Configuration saved in classif/stratified_cv_sublabels/config.json\n",
      "Model weights saved in classif/stratified_cv_sublabels/pytorch_model.bin\n",
      "The following columns in the test set don't have a corresponding argument in `BertForSequenceClassification.forward` and have been ignored: Sentence, nonfunction_Sentence, non_noun, non_noun_verb_adj, non_verb_aux, non_verb, function_Sentence, non_noun_adj. If Sentence, nonfunction_Sentence, non_noun, non_noun_verb_adj, non_verb_aux, non_verb, function_Sentence, non_noun_adj are not expected by `BertForSequenceClassification.forward`,  you can safely ignore this message.\n",
      "***** Running Prediction *****\n",
      "  Num examples = 241\n",
      "  Batch size = 16\n",
      "/opt/conda/lib/python3.9/site-packages/torch/nn/parallel/_functions.py:68: UserWarning: Was asked to gather along dimension 0, but all input tensors were scalars; will instead unsqueeze and return a vector.\n",
      "  warnings.warn('Was asked to gather along dimension 0, but all '\n"
     ]
    },
    {
     "data": {
      "text/html": [],
      "text/plain": [
       "<IPython.core.display.HTML object>"
      ]
     },
     "metadata": {},
     "output_type": "display_data"
    },
    {
     "name": "stderr",
     "output_type": "stream",
     "text": [
      "The following columns in the test set don't have a corresponding argument in `BertForSequenceClassification.forward` and have been ignored: Sentence, nonfunction_Sentence, non_noun, non_noun_verb_adj, non_verb_aux, non_verb, function_Sentence, non_noun_adj. If Sentence, nonfunction_Sentence, non_noun, non_noun_verb_adj, non_verb_aux, non_verb, function_Sentence, non_noun_adj are not expected by `BertForSequenceClassification.forward`,  you can safely ignore this message.\n",
      "***** Running Prediction *****\n",
      "  Num examples = 2170\n",
      "  Batch size = 16\n",
      "/opt/conda/lib/python3.9/site-packages/torch/nn/parallel/_functions.py:68: UserWarning: Was asked to gather along dimension 0, but all input tensors were scalars; will instead unsqueeze and return a vector.\n",
      "  warnings.warn('Was asked to gather along dimension 0, but all '\n"
     ]
    },
    {
     "data": {
      "text/html": [],
      "text/plain": [
       "<IPython.core.display.HTML object>"
      ]
     },
     "metadata": {},
     "output_type": "display_data"
    },
    {
     "name": "stderr",
     "output_type": "stream",
     "text": [
      "loading configuration file classif/stratified_cv_sublabels/config.json\n",
      "Model config BertConfig {\n",
      "  \"_name_or_path\": \"classif/stratified_cv_sublabels\",\n",
      "  \"architectures\": [\n",
      "    \"BertForSequenceClassification\"\n",
      "  ],\n",
      "  \"attention_probs_dropout_prob\": 0.1,\n",
      "  \"classifier_dropout\": null,\n",
      "  \"hidden_act\": \"gelu\",\n",
      "  \"hidden_dropout_prob\": 0.1,\n",
      "  \"hidden_size\": 768,\n",
      "  \"id2label\": {\n",
      "    \"0\": \"LABEL_0\",\n",
      "    \"1\": \"LABEL_1\",\n",
      "    \"2\": \"LABEL_2\",\n",
      "    \"3\": \"LABEL_3\"\n",
      "  },\n",
      "  \"initializer_range\": 0.02,\n",
      "  \"intermediate_size\": 3072,\n",
      "  \"label2id\": {\n",
      "    \"LABEL_0\": 0,\n",
      "    \"LABEL_1\": 1,\n",
      "    \"LABEL_2\": 2,\n",
      "    \"LABEL_3\": 3\n",
      "  },\n",
      "  \"layer_norm_eps\": 1e-12,\n",
      "  \"max_position_embeddings\": 512,\n",
      "  \"model_type\": \"bert\",\n",
      "  \"num_attention_heads\": 12,\n",
      "  \"num_hidden_layers\": 12,\n",
      "  \"pad_token_id\": 0,\n",
      "  \"position_embedding_type\": \"absolute\",\n",
      "  \"problem_type\": \"single_label_classification\",\n",
      "  \"torch_dtype\": \"float32\",\n",
      "  \"transformers_version\": \"4.23.1\",\n",
      "  \"type_vocab_size\": 2,\n",
      "  \"use_cache\": true,\n",
      "  \"vocab_size\": 30000\n",
      "}\n",
      "\n",
      "loading weights file classif/stratified_cv_sublabels/pytorch_model.bin\n",
      "All model checkpoint weights were used when initializing BertForSequenceClassification.\n",
      "\n",
      "All the weights of BertForSequenceClassification were initialized from the model checkpoint at classif/stratified_cv_sublabels.\n",
      "If your task is similar to the task the model of the checkpoint was trained on, you can already use BertForSequenceClassification for predictions without further training.\n",
      "/opt/conda/lib/python3.9/site-packages/transformers/pipelines/text_classification.py:89: UserWarning: `return_all_scores` is now deprecated,  if want a similar funcionality use `top_k=None` instead of `return_all_scores=True` or `top_k=1` instead of `return_all_scores=False`.\n",
      "  warnings.warn(\n",
      "Using custom data configuration default-1e633c6629d14ee1\n",
      "Found cached dataset csv (/home/jovyan/.cache/huggingface/datasets/csv/default-1e633c6629d14ee1/0.0.0/6b34fb8fcf56f7c8ba51dc895bfa2bfbe43546f190a60fcf74bb5e8afdcc2317)\n",
      "Disabling tokenizer parallelism, we're using DataLoader multithreading already\n"
     ]
    },
    {
     "name": "stdout",
     "output_type": "stream",
     "text": [
      "0.5\n"
     ]
    },
    {
     "name": "stderr",
     "output_type": "stream",
     "text": [
      "Using custom data configuration default-19dc0b7735d794b8\n"
     ]
    },
    {
     "name": "stdout",
     "output_type": "stream",
     "text": [
      "Downloading and preparing dataset csv/default to /home/jovyan/.cache/huggingface/datasets/csv/default-19dc0b7735d794b8/0.0.0/6b34fb8fcf56f7c8ba51dc895bfa2bfbe43546f190a60fcf74bb5e8afdcc2317...\n"
     ]
    },
    {
     "data": {
      "application/vnd.jupyter.widget-view+json": {
       "model_id": "c11e9bd9075b4bc780e0a47f24c01bc5",
       "version_major": 2,
       "version_minor": 0
      },
      "text/plain": [
       "Downloading data files:   0%|          | 0/1 [00:00<?, ?it/s]"
      ]
     },
     "metadata": {},
     "output_type": "display_data"
    },
    {
     "data": {
      "application/vnd.jupyter.widget-view+json": {
       "model_id": "995f401a1fab44cb9a9a9413ee31972f",
       "version_major": 2,
       "version_minor": 0
      },
      "text/plain": [
       "Extracting data files:   0%|          | 0/1 [00:00<?, ?it/s]"
      ]
     },
     "metadata": {},
     "output_type": "display_data"
    },
    {
     "data": {
      "application/vnd.jupyter.widget-view+json": {
       "model_id": "",
       "version_major": 2,
       "version_minor": 0
      },
      "text/plain": [
       "0 tables [00:00, ? tables/s]"
      ]
     },
     "metadata": {},
     "output_type": "display_data"
    },
    {
     "name": "stdout",
     "output_type": "stream",
     "text": [
      "Dataset csv downloaded and prepared to /home/jovyan/.cache/huggingface/datasets/csv/default-19dc0b7735d794b8/0.0.0/6b34fb8fcf56f7c8ba51dc895bfa2bfbe43546f190a60fcf74bb5e8afdcc2317. Subsequent calls will reuse this data.\n"
     ]
    },
    {
     "data": {
      "application/vnd.jupyter.widget-view+json": {
       "model_id": "ac5d1770edec4919a90acc6eb5c6c3ff",
       "version_major": 2,
       "version_minor": 0
      },
      "text/plain": [
       "  0%|          | 0/1 [00:00<?, ?ba/s]"
      ]
     },
     "metadata": {},
     "output_type": "display_data"
    },
    {
     "name": "stderr",
     "output_type": "stream",
     "text": [
      "loading configuration file config.json from cache at /home/jovyan/.cache/huggingface/hub/models--bert-base-german-cased/snapshots/702774c02b32a4f360d5fea60ab034d64bf0141c/config.json\n",
      "Model config BertConfig {\n",
      "  \"_name_or_path\": \"bert-base-german-cased\",\n",
      "  \"architectures\": [\n",
      "    \"BertForMaskedLM\"\n",
      "  ],\n",
      "  \"attention_probs_dropout_prob\": 0.1,\n",
      "  \"classifier_dropout\": null,\n",
      "  \"hidden_act\": \"gelu\",\n",
      "  \"hidden_dropout_prob\": 0.1,\n",
      "  \"hidden_size\": 768,\n",
      "  \"id2label\": {\n",
      "    \"0\": \"LABEL_0\",\n",
      "    \"1\": \"LABEL_1\",\n",
      "    \"2\": \"LABEL_2\",\n",
      "    \"3\": \"LABEL_3\"\n",
      "  },\n",
      "  \"initializer_range\": 0.02,\n",
      "  \"intermediate_size\": 3072,\n",
      "  \"label2id\": {\n",
      "    \"LABEL_0\": 0,\n",
      "    \"LABEL_1\": 1,\n",
      "    \"LABEL_2\": 2,\n",
      "    \"LABEL_3\": 3\n",
      "  },\n",
      "  \"layer_norm_eps\": 1e-12,\n",
      "  \"max_position_embeddings\": 512,\n",
      "  \"model_type\": \"bert\",\n",
      "  \"num_attention_heads\": 12,\n",
      "  \"num_hidden_layers\": 12,\n",
      "  \"pad_token_id\": 0,\n",
      "  \"position_embedding_type\": \"absolute\",\n",
      "  \"transformers_version\": \"4.23.1\",\n",
      "  \"type_vocab_size\": 2,\n",
      "  \"use_cache\": true,\n",
      "  \"vocab_size\": 30000\n",
      "}\n",
      "\n",
      "loading weights file pytorch_model.bin from cache at /home/jovyan/.cache/huggingface/hub/models--bert-base-german-cased/snapshots/702774c02b32a4f360d5fea60ab034d64bf0141c/pytorch_model.bin\n",
      "Some weights of the model checkpoint at bert-base-german-cased were not used when initializing BertForSequenceClassification: ['cls.seq_relationship.bias', 'cls.predictions.transform.LayerNorm.bias', 'cls.predictions.transform.LayerNorm.weight', 'cls.predictions.bias', 'cls.predictions.decoder.weight', 'cls.predictions.transform.dense.weight', 'cls.seq_relationship.weight', 'cls.predictions.transform.dense.bias']\n",
      "- This IS expected if you are initializing BertForSequenceClassification from the checkpoint of a model trained on another task or with another architecture (e.g. initializing a BertForSequenceClassification model from a BertForPreTraining model).\n",
      "- This IS NOT expected if you are initializing BertForSequenceClassification from the checkpoint of a model that you expect to be exactly identical (initializing a BertForSequenceClassification model from a BertForSequenceClassification model).\n",
      "Some weights of BertForSequenceClassification were not initialized from the model checkpoint at bert-base-german-cased and are newly initialized: ['classifier.weight', 'classifier.bias']\n",
      "You should probably TRAIN this model on a down-stream task to be able to use it for predictions and inference.\n",
      "The following columns in the training set don't have a corresponding argument in `BertForSequenceClassification.forward` and have been ignored: 0, Sentence, nonfunction_Sentence, non_noun, non_noun_verb_adj, non_verb_aux, 2, function_Sentence, 3, non_verb, 1, non_noun_adj. If 0, Sentence, nonfunction_Sentence, non_noun, non_noun_verb_adj, non_verb_aux, 2, function_Sentence, 3, non_verb, 1, non_noun_adj are not expected by `BertForSequenceClassification.forward`,  you can safely ignore this message.\n",
      "/opt/conda/lib/python3.9/site-packages/transformers/optimization.py:306: FutureWarning: This implementation of AdamW is deprecated and will be removed in a future version. Use the PyTorch implementation torch.optim.AdamW instead, or set `no_deprecation_warning=True` to disable this warning\n",
      "  warnings.warn(\n",
      "***** Running training *****\n",
      "  Num examples = 2176\n",
      "  Num Epochs = 3\n",
      "  Instantaneous batch size per device = 8\n",
      "  Total train batch size (w. parallel, distributed & accumulation) = 16\n",
      "  Gradient Accumulation steps = 1\n",
      "  Total optimization steps = 408\n",
      "/opt/conda/lib/python3.9/site-packages/torch/nn/parallel/_functions.py:68: UserWarning: Was asked to gather along dimension 0, but all input tensors were scalars; will instead unsqueeze and return a vector.\n",
      "  warnings.warn('Was asked to gather along dimension 0, but all '\n"
     ]
    },
    {
     "data": {
      "text/html": [
       "\n",
       "    <div>\n",
       "      \n",
       "      <progress value='408' max='408' style='width:300px; height:20px; vertical-align: middle;'></progress>\n",
       "      [408/408 02:11, Epoch 3/3]\n",
       "    </div>\n",
       "    <table border=\"1\" class=\"dataframe\">\n",
       "  <thead>\n",
       " <tr style=\"text-align: left;\">\n",
       "      <th>Epoch</th>\n",
       "      <th>Training Loss</th>\n",
       "      <th>Validation Loss</th>\n",
       "      <th>Accuracy</th>\n",
       "      <th>F1</th>\n",
       "      <th>Precision</th>\n",
       "      <th>Recall</th>\n",
       "      <th>Mcc</th>\n",
       "    </tr>\n",
       "  </thead>\n",
       "  <tbody>\n",
       "    <tr>\n",
       "      <td>1</td>\n",
       "      <td>No log</td>\n",
       "      <td>0.565672</td>\n",
       "      <td>0.792531</td>\n",
       "      <td>0.640027</td>\n",
       "      <td>0.738221</td>\n",
       "      <td>0.612770</td>\n",
       "      <td>0.550023</td>\n",
       "    </tr>\n",
       "    <tr>\n",
       "      <td>2</td>\n",
       "      <td>No log</td>\n",
       "      <td>0.501042</td>\n",
       "      <td>0.821577</td>\n",
       "      <td>0.751679</td>\n",
       "      <td>0.747329</td>\n",
       "      <td>0.758084</td>\n",
       "      <td>0.637525</td>\n",
       "    </tr>\n",
       "    <tr>\n",
       "      <td>3</td>\n",
       "      <td>No log</td>\n",
       "      <td>0.646684</td>\n",
       "      <td>0.829876</td>\n",
       "      <td>0.749486</td>\n",
       "      <td>0.759217</td>\n",
       "      <td>0.749480</td>\n",
       "      <td>0.648591</td>\n",
       "    </tr>\n",
       "  </tbody>\n",
       "</table><p>"
      ],
      "text/plain": [
       "<IPython.core.display.HTML object>"
      ]
     },
     "metadata": {},
     "output_type": "display_data"
    },
    {
     "name": "stderr",
     "output_type": "stream",
     "text": [
      "The following columns in the evaluation set don't have a corresponding argument in `BertForSequenceClassification.forward` and have been ignored: Sentence, nonfunction_Sentence, non_noun, non_noun_verb_adj, non_verb_aux, non_verb, function_Sentence, non_noun_adj. If Sentence, nonfunction_Sentence, non_noun, non_noun_verb_adj, non_verb_aux, non_verb, function_Sentence, non_noun_adj are not expected by `BertForSequenceClassification.forward`,  you can safely ignore this message.\n",
      "***** Running Evaluation *****\n",
      "  Num examples = 241\n",
      "  Batch size = 16\n",
      "/opt/conda/lib/python3.9/site-packages/torch/nn/parallel/_functions.py:68: UserWarning: Was asked to gather along dimension 0, but all input tensors were scalars; will instead unsqueeze and return a vector.\n",
      "  warnings.warn('Was asked to gather along dimension 0, but all '\n",
      "The following columns in the evaluation set don't have a corresponding argument in `BertForSequenceClassification.forward` and have been ignored: Sentence, nonfunction_Sentence, non_noun, non_noun_verb_adj, non_verb_aux, non_verb, function_Sentence, non_noun_adj. If Sentence, nonfunction_Sentence, non_noun, non_noun_verb_adj, non_verb_aux, non_verb, function_Sentence, non_noun_adj are not expected by `BertForSequenceClassification.forward`,  you can safely ignore this message.\n",
      "***** Running Evaluation *****\n",
      "  Num examples = 241\n",
      "  Batch size = 16\n",
      "/opt/conda/lib/python3.9/site-packages/torch/nn/parallel/_functions.py:68: UserWarning: Was asked to gather along dimension 0, but all input tensors were scalars; will instead unsqueeze and return a vector.\n",
      "  warnings.warn('Was asked to gather along dimension 0, but all '\n",
      "The following columns in the evaluation set don't have a corresponding argument in `BertForSequenceClassification.forward` and have been ignored: Sentence, nonfunction_Sentence, non_noun, non_noun_verb_adj, non_verb_aux, non_verb, function_Sentence, non_noun_adj. If Sentence, nonfunction_Sentence, non_noun, non_noun_verb_adj, non_verb_aux, non_verb, function_Sentence, non_noun_adj are not expected by `BertForSequenceClassification.forward`,  you can safely ignore this message.\n",
      "***** Running Evaluation *****\n",
      "  Num examples = 241\n",
      "  Batch size = 16\n",
      "\n",
      "\n",
      "Training completed. Do not forget to share your model on huggingface.co/models =)\n",
      "\n",
      "\n",
      "The following columns in the test set don't have a corresponding argument in `BertForSequenceClassification.forward` and have been ignored: Sentence, nonfunction_Sentence, non_noun, non_noun_verb_adj, non_verb_aux, non_verb, function_Sentence, non_noun_adj. If Sentence, nonfunction_Sentence, non_noun, non_noun_verb_adj, non_verb_aux, non_verb, function_Sentence, non_noun_adj are not expected by `BertForSequenceClassification.forward`,  you can safely ignore this message.\n",
      "***** Running Prediction *****\n",
      "  Num examples = 241\n",
      "  Batch size = 16\n",
      "/opt/conda/lib/python3.9/site-packages/torch/nn/parallel/_functions.py:68: UserWarning: Was asked to gather along dimension 0, but all input tensors were scalars; will instead unsqueeze and return a vector.\n",
      "  warnings.warn('Was asked to gather along dimension 0, but all '\n"
     ]
    },
    {
     "data": {
      "text/html": [],
      "text/plain": [
       "<IPython.core.display.HTML object>"
      ]
     },
     "metadata": {},
     "output_type": "display_data"
    },
    {
     "name": "stderr",
     "output_type": "stream",
     "text": [
      "The following columns in the test set don't have a corresponding argument in `BertForSequenceClassification.forward` and have been ignored: 0, Sentence, nonfunction_Sentence, non_noun, non_noun_verb_adj, non_verb_aux, 2, function_Sentence, 3, non_verb, 1, non_noun_adj. If 0, Sentence, nonfunction_Sentence, non_noun, non_noun_verb_adj, non_verb_aux, 2, function_Sentence, 3, non_verb, 1, non_noun_adj are not expected by `BertForSequenceClassification.forward`,  you can safely ignore this message.\n",
      "***** Running Prediction *****\n",
      "  Num examples = 2176\n",
      "  Batch size = 16\n",
      "/opt/conda/lib/python3.9/site-packages/torch/nn/parallel/_functions.py:68: UserWarning: Was asked to gather along dimension 0, but all input tensors were scalars; will instead unsqueeze and return a vector.\n",
      "  warnings.warn('Was asked to gather along dimension 0, but all '\n"
     ]
    },
    {
     "data": {
      "text/html": [],
      "text/plain": [
       "<IPython.core.display.HTML object>"
      ]
     },
     "metadata": {},
     "output_type": "display_data"
    },
    {
     "name": "stderr",
     "output_type": "stream",
     "text": [
      "Using custom data configuration default-05c02b1f780bc673\n"
     ]
    },
    {
     "name": "stdout",
     "output_type": "stream",
     "text": [
      "Downloading and preparing dataset csv/default to /home/jovyan/.cache/huggingface/datasets/csv/default-05c02b1f780bc673/0.0.0/6b34fb8fcf56f7c8ba51dc895bfa2bfbe43546f190a60fcf74bb5e8afdcc2317...\n"
     ]
    },
    {
     "data": {
      "application/vnd.jupyter.widget-view+json": {
       "model_id": "5425d2684b5944e08e86ae80b327427e",
       "version_major": 2,
       "version_minor": 0
      },
      "text/plain": [
       "Downloading data files:   0%|          | 0/1 [00:00<?, ?it/s]"
      ]
     },
     "metadata": {},
     "output_type": "display_data"
    },
    {
     "data": {
      "application/vnd.jupyter.widget-view+json": {
       "model_id": "c088a468f58a47b2800e04e0724df971",
       "version_major": 2,
       "version_minor": 0
      },
      "text/plain": [
       "Extracting data files:   0%|          | 0/1 [00:00<?, ?it/s]"
      ]
     },
     "metadata": {},
     "output_type": "display_data"
    },
    {
     "data": {
      "application/vnd.jupyter.widget-view+json": {
       "model_id": "",
       "version_major": 2,
       "version_minor": 0
      },
      "text/plain": [
       "0 tables [00:00, ? tables/s]"
      ]
     },
     "metadata": {},
     "output_type": "display_data"
    },
    {
     "name": "stdout",
     "output_type": "stream",
     "text": [
      "Dataset csv downloaded and prepared to /home/jovyan/.cache/huggingface/datasets/csv/default-05c02b1f780bc673/0.0.0/6b34fb8fcf56f7c8ba51dc895bfa2bfbe43546f190a60fcf74bb5e8afdcc2317. Subsequent calls will reuse this data.\n"
     ]
    },
    {
     "data": {
      "application/vnd.jupyter.widget-view+json": {
       "model_id": "f3b0880ba8ae4966bf8ac063f2101e52",
       "version_major": 2,
       "version_minor": 0
      },
      "text/plain": [
       "  0%|          | 0/1 [00:00<?, ?ba/s]"
      ]
     },
     "metadata": {},
     "output_type": "display_data"
    },
    {
     "name": "stderr",
     "output_type": "stream",
     "text": [
      "loading configuration file config.json from cache at /home/jovyan/.cache/huggingface/hub/models--bert-base-german-cased/snapshots/702774c02b32a4f360d5fea60ab034d64bf0141c/config.json\n",
      "Model config BertConfig {\n",
      "  \"_name_or_path\": \"bert-base-german-cased\",\n",
      "  \"architectures\": [\n",
      "    \"BertForMaskedLM\"\n",
      "  ],\n",
      "  \"attention_probs_dropout_prob\": 0.1,\n",
      "  \"classifier_dropout\": null,\n",
      "  \"hidden_act\": \"gelu\",\n",
      "  \"hidden_dropout_prob\": 0.1,\n",
      "  \"hidden_size\": 768,\n",
      "  \"id2label\": {\n",
      "    \"0\": \"LABEL_0\",\n",
      "    \"1\": \"LABEL_1\",\n",
      "    \"2\": \"LABEL_2\",\n",
      "    \"3\": \"LABEL_3\"\n",
      "  },\n",
      "  \"initializer_range\": 0.02,\n",
      "  \"intermediate_size\": 3072,\n",
      "  \"label2id\": {\n",
      "    \"LABEL_0\": 0,\n",
      "    \"LABEL_1\": 1,\n",
      "    \"LABEL_2\": 2,\n",
      "    \"LABEL_3\": 3\n",
      "  },\n",
      "  \"layer_norm_eps\": 1e-12,\n",
      "  \"max_position_embeddings\": 512,\n",
      "  \"model_type\": \"bert\",\n",
      "  \"num_attention_heads\": 12,\n",
      "  \"num_hidden_layers\": 12,\n",
      "  \"pad_token_id\": 0,\n",
      "  \"position_embedding_type\": \"absolute\",\n",
      "  \"transformers_version\": \"4.23.1\",\n",
      "  \"type_vocab_size\": 2,\n",
      "  \"use_cache\": true,\n",
      "  \"vocab_size\": 30000\n",
      "}\n",
      "\n",
      "loading weights file pytorch_model.bin from cache at /home/jovyan/.cache/huggingface/hub/models--bert-base-german-cased/snapshots/702774c02b32a4f360d5fea60ab034d64bf0141c/pytorch_model.bin\n",
      "Some weights of the model checkpoint at bert-base-german-cased were not used when initializing BertForSequenceClassification: ['cls.seq_relationship.bias', 'cls.predictions.transform.LayerNorm.bias', 'cls.predictions.transform.LayerNorm.weight', 'cls.predictions.bias', 'cls.predictions.decoder.weight', 'cls.predictions.transform.dense.weight', 'cls.seq_relationship.weight', 'cls.predictions.transform.dense.bias']\n",
      "- This IS expected if you are initializing BertForSequenceClassification from the checkpoint of a model trained on another task or with another architecture (e.g. initializing a BertForSequenceClassification model from a BertForPreTraining model).\n",
      "- This IS NOT expected if you are initializing BertForSequenceClassification from the checkpoint of a model that you expect to be exactly identical (initializing a BertForSequenceClassification model from a BertForSequenceClassification model).\n",
      "Some weights of BertForSequenceClassification were not initialized from the model checkpoint at bert-base-german-cased and are newly initialized: ['classifier.weight', 'classifier.bias']\n",
      "You should probably TRAIN this model on a down-stream task to be able to use it for predictions and inference.\n",
      "The following columns in the training set don't have a corresponding argument in `BertForSequenceClassification.forward` and have been ignored: 0, Sentence, nonfunction_Sentence, non_noun, non_noun_verb_adj, non_verb_aux, 2, function_Sentence, 3, non_verb, 1, non_noun_adj. If 0, Sentence, nonfunction_Sentence, non_noun, non_noun_verb_adj, non_verb_aux, 2, function_Sentence, 3, non_verb, 1, non_noun_adj are not expected by `BertForSequenceClassification.forward`,  you can safely ignore this message.\n",
      "/opt/conda/lib/python3.9/site-packages/transformers/optimization.py:306: FutureWarning: This implementation of AdamW is deprecated and will be removed in a future version. Use the PyTorch implementation torch.optim.AdamW instead, or set `no_deprecation_warning=True` to disable this warning\n",
      "  warnings.warn(\n",
      "***** Running training *****\n",
      "  Num examples = 2194\n",
      "  Num Epochs = 3\n",
      "  Instantaneous batch size per device = 8\n",
      "  Total train batch size (w. parallel, distributed & accumulation) = 16\n",
      "  Gradient Accumulation steps = 1\n",
      "  Total optimization steps = 414\n",
      "/opt/conda/lib/python3.9/site-packages/torch/nn/parallel/_functions.py:68: UserWarning: Was asked to gather along dimension 0, but all input tensors were scalars; will instead unsqueeze and return a vector.\n",
      "  warnings.warn('Was asked to gather along dimension 0, but all '\n"
     ]
    },
    {
     "data": {
      "text/html": [
       "\n",
       "    <div>\n",
       "      \n",
       "      <progress value='414' max='414' style='width:300px; height:20px; vertical-align: middle;'></progress>\n",
       "      [414/414 02:13, Epoch 3/3]\n",
       "    </div>\n",
       "    <table border=\"1\" class=\"dataframe\">\n",
       "  <thead>\n",
       " <tr style=\"text-align: left;\">\n",
       "      <th>Epoch</th>\n",
       "      <th>Training Loss</th>\n",
       "      <th>Validation Loss</th>\n",
       "      <th>Accuracy</th>\n",
       "      <th>F1</th>\n",
       "      <th>Precision</th>\n",
       "      <th>Recall</th>\n",
       "      <th>Mcc</th>\n",
       "    </tr>\n",
       "  </thead>\n",
       "  <tbody>\n",
       "    <tr>\n",
       "      <td>1</td>\n",
       "      <td>No log</td>\n",
       "      <td>0.482162</td>\n",
       "      <td>0.817427</td>\n",
       "      <td>0.718518</td>\n",
       "      <td>0.771664</td>\n",
       "      <td>0.700133</td>\n",
       "      <td>0.607900</td>\n",
       "    </tr>\n",
       "    <tr>\n",
       "      <td>2</td>\n",
       "      <td>No log</td>\n",
       "      <td>0.533276</td>\n",
       "      <td>0.842324</td>\n",
       "      <td>0.776932</td>\n",
       "      <td>0.789636</td>\n",
       "      <td>0.765659</td>\n",
       "      <td>0.673505</td>\n",
       "    </tr>\n",
       "    <tr>\n",
       "      <td>3</td>\n",
       "      <td>No log</td>\n",
       "      <td>0.597749</td>\n",
       "      <td>0.825726</td>\n",
       "      <td>0.750355</td>\n",
       "      <td>0.745428</td>\n",
       "      <td>0.763850</td>\n",
       "      <td>0.644085</td>\n",
       "    </tr>\n",
       "  </tbody>\n",
       "</table><p>"
      ],
      "text/plain": [
       "<IPython.core.display.HTML object>"
      ]
     },
     "metadata": {},
     "output_type": "display_data"
    },
    {
     "name": "stderr",
     "output_type": "stream",
     "text": [
      "The following columns in the evaluation set don't have a corresponding argument in `BertForSequenceClassification.forward` and have been ignored: Sentence, nonfunction_Sentence, non_noun, non_noun_verb_adj, non_verb_aux, non_verb, function_Sentence, non_noun_adj. If Sentence, nonfunction_Sentence, non_noun, non_noun_verb_adj, non_verb_aux, non_verb, function_Sentence, non_noun_adj are not expected by `BertForSequenceClassification.forward`,  you can safely ignore this message.\n",
      "***** Running Evaluation *****\n",
      "  Num examples = 241\n",
      "  Batch size = 16\n",
      "/opt/conda/lib/python3.9/site-packages/torch/nn/parallel/_functions.py:68: UserWarning: Was asked to gather along dimension 0, but all input tensors were scalars; will instead unsqueeze and return a vector.\n",
      "  warnings.warn('Was asked to gather along dimension 0, but all '\n",
      "The following columns in the evaluation set don't have a corresponding argument in `BertForSequenceClassification.forward` and have been ignored: Sentence, nonfunction_Sentence, non_noun, non_noun_verb_adj, non_verb_aux, non_verb, function_Sentence, non_noun_adj. If Sentence, nonfunction_Sentence, non_noun, non_noun_verb_adj, non_verb_aux, non_verb, function_Sentence, non_noun_adj are not expected by `BertForSequenceClassification.forward`,  you can safely ignore this message.\n",
      "***** Running Evaluation *****\n",
      "  Num examples = 241\n",
      "  Batch size = 16\n",
      "/opt/conda/lib/python3.9/site-packages/torch/nn/parallel/_functions.py:68: UserWarning: Was asked to gather along dimension 0, but all input tensors were scalars; will instead unsqueeze and return a vector.\n",
      "  warnings.warn('Was asked to gather along dimension 0, but all '\n",
      "The following columns in the evaluation set don't have a corresponding argument in `BertForSequenceClassification.forward` and have been ignored: Sentence, nonfunction_Sentence, non_noun, non_noun_verb_adj, non_verb_aux, non_verb, function_Sentence, non_noun_adj. If Sentence, nonfunction_Sentence, non_noun, non_noun_verb_adj, non_verb_aux, non_verb, function_Sentence, non_noun_adj are not expected by `BertForSequenceClassification.forward`,  you can safely ignore this message.\n",
      "***** Running Evaluation *****\n",
      "  Num examples = 241\n",
      "  Batch size = 16\n",
      "\n",
      "\n",
      "Training completed. Do not forget to share your model on huggingface.co/models =)\n",
      "\n",
      "\n",
      "The following columns in the test set don't have a corresponding argument in `BertForSequenceClassification.forward` and have been ignored: Sentence, nonfunction_Sentence, non_noun, non_noun_verb_adj, non_verb_aux, non_verb, function_Sentence, non_noun_adj. If Sentence, nonfunction_Sentence, non_noun, non_noun_verb_adj, non_verb_aux, non_verb, function_Sentence, non_noun_adj are not expected by `BertForSequenceClassification.forward`,  you can safely ignore this message.\n",
      "***** Running Prediction *****\n",
      "  Num examples = 241\n",
      "  Batch size = 16\n",
      "/opt/conda/lib/python3.9/site-packages/torch/nn/parallel/_functions.py:68: UserWarning: Was asked to gather along dimension 0, but all input tensors were scalars; will instead unsqueeze and return a vector.\n",
      "  warnings.warn('Was asked to gather along dimension 0, but all '\n"
     ]
    },
    {
     "data": {
      "text/html": [],
      "text/plain": [
       "<IPython.core.display.HTML object>"
      ]
     },
     "metadata": {},
     "output_type": "display_data"
    },
    {
     "name": "stderr",
     "output_type": "stream",
     "text": [
      "The following columns in the test set don't have a corresponding argument in `BertForSequenceClassification.forward` and have been ignored: 0, Sentence, nonfunction_Sentence, non_noun, non_noun_verb_adj, non_verb_aux, 2, function_Sentence, 3, non_verb, 1, non_noun_adj. If 0, Sentence, nonfunction_Sentence, non_noun, non_noun_verb_adj, non_verb_aux, 2, function_Sentence, 3, non_verb, 1, non_noun_adj are not expected by `BertForSequenceClassification.forward`,  you can safely ignore this message.\n",
      "***** Running Prediction *****\n",
      "  Num examples = 2194\n",
      "  Batch size = 16\n",
      "/opt/conda/lib/python3.9/site-packages/torch/nn/parallel/_functions.py:68: UserWarning: Was asked to gather along dimension 0, but all input tensors were scalars; will instead unsqueeze and return a vector.\n",
      "  warnings.warn('Was asked to gather along dimension 0, but all '\n"
     ]
    },
    {
     "data": {
      "text/html": [],
      "text/plain": [
       "<IPython.core.display.HTML object>"
      ]
     },
     "metadata": {},
     "output_type": "display_data"
    },
    {
     "name": "stdout",
     "output_type": "stream",
     "text": [
      "0.4\n"
     ]
    },
    {
     "name": "stderr",
     "output_type": "stream",
     "text": [
      "Using custom data configuration default-4310cb091bd64257\n"
     ]
    },
    {
     "name": "stdout",
     "output_type": "stream",
     "text": [
      "Downloading and preparing dataset csv/default to /home/jovyan/.cache/huggingface/datasets/csv/default-4310cb091bd64257/0.0.0/6b34fb8fcf56f7c8ba51dc895bfa2bfbe43546f190a60fcf74bb5e8afdcc2317...\n"
     ]
    },
    {
     "data": {
      "application/vnd.jupyter.widget-view+json": {
       "model_id": "f88707526c984e7f9177eb39594e86dd",
       "version_major": 2,
       "version_minor": 0
      },
      "text/plain": [
       "Downloading data files:   0%|          | 0/1 [00:00<?, ?it/s]"
      ]
     },
     "metadata": {},
     "output_type": "display_data"
    },
    {
     "data": {
      "application/vnd.jupyter.widget-view+json": {
       "model_id": "57d66f7aabfc47e8926b68c6313e00d5",
       "version_major": 2,
       "version_minor": 0
      },
      "text/plain": [
       "Extracting data files:   0%|          | 0/1 [00:00<?, ?it/s]"
      ]
     },
     "metadata": {},
     "output_type": "display_data"
    },
    {
     "data": {
      "application/vnd.jupyter.widget-view+json": {
       "model_id": "",
       "version_major": 2,
       "version_minor": 0
      },
      "text/plain": [
       "0 tables [00:00, ? tables/s]"
      ]
     },
     "metadata": {},
     "output_type": "display_data"
    },
    {
     "name": "stdout",
     "output_type": "stream",
     "text": [
      "Dataset csv downloaded and prepared to /home/jovyan/.cache/huggingface/datasets/csv/default-4310cb091bd64257/0.0.0/6b34fb8fcf56f7c8ba51dc895bfa2bfbe43546f190a60fcf74bb5e8afdcc2317. Subsequent calls will reuse this data.\n"
     ]
    },
    {
     "data": {
      "application/vnd.jupyter.widget-view+json": {
       "model_id": "5e8868df96604bad897884592e0d7ba3",
       "version_major": 2,
       "version_minor": 0
      },
      "text/plain": [
       "  0%|          | 0/1 [00:00<?, ?ba/s]"
      ]
     },
     "metadata": {},
     "output_type": "display_data"
    },
    {
     "name": "stderr",
     "output_type": "stream",
     "text": [
      "loading configuration file config.json from cache at /home/jovyan/.cache/huggingface/hub/models--bert-base-german-cased/snapshots/702774c02b32a4f360d5fea60ab034d64bf0141c/config.json\n",
      "Model config BertConfig {\n",
      "  \"_name_or_path\": \"bert-base-german-cased\",\n",
      "  \"architectures\": [\n",
      "    \"BertForMaskedLM\"\n",
      "  ],\n",
      "  \"attention_probs_dropout_prob\": 0.1,\n",
      "  \"classifier_dropout\": null,\n",
      "  \"hidden_act\": \"gelu\",\n",
      "  \"hidden_dropout_prob\": 0.1,\n",
      "  \"hidden_size\": 768,\n",
      "  \"id2label\": {\n",
      "    \"0\": \"LABEL_0\",\n",
      "    \"1\": \"LABEL_1\",\n",
      "    \"2\": \"LABEL_2\",\n",
      "    \"3\": \"LABEL_3\"\n",
      "  },\n",
      "  \"initializer_range\": 0.02,\n",
      "  \"intermediate_size\": 3072,\n",
      "  \"label2id\": {\n",
      "    \"LABEL_0\": 0,\n",
      "    \"LABEL_1\": 1,\n",
      "    \"LABEL_2\": 2,\n",
      "    \"LABEL_3\": 3\n",
      "  },\n",
      "  \"layer_norm_eps\": 1e-12,\n",
      "  \"max_position_embeddings\": 512,\n",
      "  \"model_type\": \"bert\",\n",
      "  \"num_attention_heads\": 12,\n",
      "  \"num_hidden_layers\": 12,\n",
      "  \"pad_token_id\": 0,\n",
      "  \"position_embedding_type\": \"absolute\",\n",
      "  \"transformers_version\": \"4.23.1\",\n",
      "  \"type_vocab_size\": 2,\n",
      "  \"use_cache\": true,\n",
      "  \"vocab_size\": 30000\n",
      "}\n",
      "\n",
      "loading weights file pytorch_model.bin from cache at /home/jovyan/.cache/huggingface/hub/models--bert-base-german-cased/snapshots/702774c02b32a4f360d5fea60ab034d64bf0141c/pytorch_model.bin\n",
      "Some weights of the model checkpoint at bert-base-german-cased were not used when initializing BertForSequenceClassification: ['cls.seq_relationship.bias', 'cls.predictions.transform.LayerNorm.bias', 'cls.predictions.transform.LayerNorm.weight', 'cls.predictions.bias', 'cls.predictions.decoder.weight', 'cls.predictions.transform.dense.weight', 'cls.seq_relationship.weight', 'cls.predictions.transform.dense.bias']\n",
      "- This IS expected if you are initializing BertForSequenceClassification from the checkpoint of a model trained on another task or with another architecture (e.g. initializing a BertForSequenceClassification model from a BertForPreTraining model).\n",
      "- This IS NOT expected if you are initializing BertForSequenceClassification from the checkpoint of a model that you expect to be exactly identical (initializing a BertForSequenceClassification model from a BertForSequenceClassification model).\n",
      "Some weights of BertForSequenceClassification were not initialized from the model checkpoint at bert-base-german-cased and are newly initialized: ['classifier.weight', 'classifier.bias']\n",
      "You should probably TRAIN this model on a down-stream task to be able to use it for predictions and inference.\n",
      "The following columns in the training set don't have a corresponding argument in `BertForSequenceClassification.forward` and have been ignored: 0, Sentence, nonfunction_Sentence, non_noun, non_noun_verb_adj, non_verb_aux, 2, function_Sentence, 3, non_verb, 1, non_noun_adj. If 0, Sentence, nonfunction_Sentence, non_noun, non_noun_verb_adj, non_verb_aux, 2, function_Sentence, 3, non_verb, 1, non_noun_adj are not expected by `BertForSequenceClassification.forward`,  you can safely ignore this message.\n",
      "/opt/conda/lib/python3.9/site-packages/transformers/optimization.py:306: FutureWarning: This implementation of AdamW is deprecated and will be removed in a future version. Use the PyTorch implementation torch.optim.AdamW instead, or set `no_deprecation_warning=True` to disable this warning\n",
      "  warnings.warn(\n",
      "***** Running training *****\n",
      "  Num examples = 2392\n",
      "  Num Epochs = 3\n",
      "  Instantaneous batch size per device = 8\n",
      "  Total train batch size (w. parallel, distributed & accumulation) = 16\n",
      "  Gradient Accumulation steps = 1\n",
      "  Total optimization steps = 450\n",
      "/opt/conda/lib/python3.9/site-packages/torch/nn/parallel/_functions.py:68: UserWarning: Was asked to gather along dimension 0, but all input tensors were scalars; will instead unsqueeze and return a vector.\n",
      "  warnings.warn('Was asked to gather along dimension 0, but all '\n"
     ]
    },
    {
     "data": {
      "text/html": [
       "\n",
       "    <div>\n",
       "      \n",
       "      <progress value='450' max='450' style='width:300px; height:20px; vertical-align: middle;'></progress>\n",
       "      [450/450 02:24, Epoch 3/3]\n",
       "    </div>\n",
       "    <table border=\"1\" class=\"dataframe\">\n",
       "  <thead>\n",
       " <tr style=\"text-align: left;\">\n",
       "      <th>Epoch</th>\n",
       "      <th>Training Loss</th>\n",
       "      <th>Validation Loss</th>\n",
       "      <th>Accuracy</th>\n",
       "      <th>F1</th>\n",
       "      <th>Precision</th>\n",
       "      <th>Recall</th>\n",
       "      <th>Mcc</th>\n",
       "    </tr>\n",
       "  </thead>\n",
       "  <tbody>\n",
       "    <tr>\n",
       "      <td>1</td>\n",
       "      <td>No log</td>\n",
       "      <td>0.590365</td>\n",
       "      <td>0.788382</td>\n",
       "      <td>0.689614</td>\n",
       "      <td>0.700466</td>\n",
       "      <td>0.708545</td>\n",
       "      <td>0.579173</td>\n",
       "    </tr>\n",
       "    <tr>\n",
       "      <td>2</td>\n",
       "      <td>No log</td>\n",
       "      <td>0.486579</td>\n",
       "      <td>0.834025</td>\n",
       "      <td>0.745483</td>\n",
       "      <td>0.786727</td>\n",
       "      <td>0.723665</td>\n",
       "      <td>0.646164</td>\n",
       "    </tr>\n",
       "    <tr>\n",
       "      <td>3</td>\n",
       "      <td>No log</td>\n",
       "      <td>0.605393</td>\n",
       "      <td>0.838174</td>\n",
       "      <td>0.777647</td>\n",
       "      <td>0.793670</td>\n",
       "      <td>0.769902</td>\n",
       "      <td>0.660968</td>\n",
       "    </tr>\n",
       "  </tbody>\n",
       "</table><p>"
      ],
      "text/plain": [
       "<IPython.core.display.HTML object>"
      ]
     },
     "metadata": {},
     "output_type": "display_data"
    },
    {
     "name": "stderr",
     "output_type": "stream",
     "text": [
      "The following columns in the evaluation set don't have a corresponding argument in `BertForSequenceClassification.forward` and have been ignored: Sentence, nonfunction_Sentence, non_noun, non_noun_verb_adj, non_verb_aux, non_verb, function_Sentence, non_noun_adj. If Sentence, nonfunction_Sentence, non_noun, non_noun_verb_adj, non_verb_aux, non_verb, function_Sentence, non_noun_adj are not expected by `BertForSequenceClassification.forward`,  you can safely ignore this message.\n",
      "***** Running Evaluation *****\n",
      "  Num examples = 241\n",
      "  Batch size = 16\n",
      "/opt/conda/lib/python3.9/site-packages/torch/nn/parallel/_functions.py:68: UserWarning: Was asked to gather along dimension 0, but all input tensors were scalars; will instead unsqueeze and return a vector.\n",
      "  warnings.warn('Was asked to gather along dimension 0, but all '\n",
      "The following columns in the evaluation set don't have a corresponding argument in `BertForSequenceClassification.forward` and have been ignored: Sentence, nonfunction_Sentence, non_noun, non_noun_verb_adj, non_verb_aux, non_verb, function_Sentence, non_noun_adj. If Sentence, nonfunction_Sentence, non_noun, non_noun_verb_adj, non_verb_aux, non_verb, function_Sentence, non_noun_adj are not expected by `BertForSequenceClassification.forward`,  you can safely ignore this message.\n",
      "***** Running Evaluation *****\n",
      "  Num examples = 241\n",
      "  Batch size = 16\n",
      "/opt/conda/lib/python3.9/site-packages/torch/nn/parallel/_functions.py:68: UserWarning: Was asked to gather along dimension 0, but all input tensors were scalars; will instead unsqueeze and return a vector.\n",
      "  warnings.warn('Was asked to gather along dimension 0, but all '\n",
      "The following columns in the evaluation set don't have a corresponding argument in `BertForSequenceClassification.forward` and have been ignored: Sentence, nonfunction_Sentence, non_noun, non_noun_verb_adj, non_verb_aux, non_verb, function_Sentence, non_noun_adj. If Sentence, nonfunction_Sentence, non_noun, non_noun_verb_adj, non_verb_aux, non_verb, function_Sentence, non_noun_adj are not expected by `BertForSequenceClassification.forward`,  you can safely ignore this message.\n",
      "***** Running Evaluation *****\n",
      "  Num examples = 241\n",
      "  Batch size = 16\n",
      "\n",
      "\n",
      "Training completed. Do not forget to share your model on huggingface.co/models =)\n",
      "\n",
      "\n",
      "The following columns in the test set don't have a corresponding argument in `BertForSequenceClassification.forward` and have been ignored: Sentence, nonfunction_Sentence, non_noun, non_noun_verb_adj, non_verb_aux, non_verb, function_Sentence, non_noun_adj. If Sentence, nonfunction_Sentence, non_noun, non_noun_verb_adj, non_verb_aux, non_verb, function_Sentence, non_noun_adj are not expected by `BertForSequenceClassification.forward`,  you can safely ignore this message.\n",
      "***** Running Prediction *****\n",
      "  Num examples = 241\n",
      "  Batch size = 16\n",
      "/opt/conda/lib/python3.9/site-packages/torch/nn/parallel/_functions.py:68: UserWarning: Was asked to gather along dimension 0, but all input tensors were scalars; will instead unsqueeze and return a vector.\n",
      "  warnings.warn('Was asked to gather along dimension 0, but all '\n"
     ]
    },
    {
     "data": {
      "text/html": [],
      "text/plain": [
       "<IPython.core.display.HTML object>"
      ]
     },
     "metadata": {},
     "output_type": "display_data"
    },
    {
     "name": "stderr",
     "output_type": "stream",
     "text": [
      "The following columns in the test set don't have a corresponding argument in `BertForSequenceClassification.forward` and have been ignored: 0, Sentence, nonfunction_Sentence, non_noun, non_noun_verb_adj, non_verb_aux, 2, function_Sentence, 3, non_verb, 1, non_noun_adj. If 0, Sentence, nonfunction_Sentence, non_noun, non_noun_verb_adj, non_verb_aux, 2, function_Sentence, 3, non_verb, 1, non_noun_adj are not expected by `BertForSequenceClassification.forward`,  you can safely ignore this message.\n",
      "***** Running Prediction *****\n",
      "  Num examples = 2392\n",
      "  Batch size = 16\n",
      "/opt/conda/lib/python3.9/site-packages/torch/nn/parallel/_functions.py:68: UserWarning: Was asked to gather along dimension 0, but all input tensors were scalars; will instead unsqueeze and return a vector.\n",
      "  warnings.warn('Was asked to gather along dimension 0, but all '\n"
     ]
    },
    {
     "data": {
      "text/html": [],
      "text/plain": [
       "<IPython.core.display.HTML object>"
      ]
     },
     "metadata": {},
     "output_type": "display_data"
    },
    {
     "name": "stdout",
     "output_type": "stream",
     "text": [
      "0.3\n"
     ]
    },
    {
     "name": "stderr",
     "output_type": "stream",
     "text": [
      "Using custom data configuration default-062aaf3bb26d74bb\n"
     ]
    },
    {
     "name": "stdout",
     "output_type": "stream",
     "text": [
      "Downloading and preparing dataset csv/default to /home/jovyan/.cache/huggingface/datasets/csv/default-062aaf3bb26d74bb/0.0.0/6b34fb8fcf56f7c8ba51dc895bfa2bfbe43546f190a60fcf74bb5e8afdcc2317...\n"
     ]
    },
    {
     "data": {
      "application/vnd.jupyter.widget-view+json": {
       "model_id": "7af33438715a470890bf218b67ced612",
       "version_major": 2,
       "version_minor": 0
      },
      "text/plain": [
       "Downloading data files:   0%|          | 0/1 [00:00<?, ?it/s]"
      ]
     },
     "metadata": {},
     "output_type": "display_data"
    },
    {
     "data": {
      "application/vnd.jupyter.widget-view+json": {
       "model_id": "936037640a7648ab91fdf9fedb54c47a",
       "version_major": 2,
       "version_minor": 0
      },
      "text/plain": [
       "Extracting data files:   0%|          | 0/1 [00:00<?, ?it/s]"
      ]
     },
     "metadata": {},
     "output_type": "display_data"
    },
    {
     "data": {
      "application/vnd.jupyter.widget-view+json": {
       "model_id": "c5362a7e2c7f4371bcbfc87f438eb434",
       "version_major": 2,
       "version_minor": 0
      },
      "text/plain": [
       "0 tables [00:00, ? tables/s]"
      ]
     },
     "metadata": {},
     "output_type": "display_data"
    },
    {
     "name": "stdout",
     "output_type": "stream",
     "text": [
      "Dataset csv downloaded and prepared to /home/jovyan/.cache/huggingface/datasets/csv/default-062aaf3bb26d74bb/0.0.0/6b34fb8fcf56f7c8ba51dc895bfa2bfbe43546f190a60fcf74bb5e8afdcc2317. Subsequent calls will reuse this data.\n"
     ]
    },
    {
     "data": {
      "application/vnd.jupyter.widget-view+json": {
       "model_id": "328c437739144179ba37034333af003a",
       "version_major": 2,
       "version_minor": 0
      },
      "text/plain": [
       "  0%|          | 0/1 [00:00<?, ?ba/s]"
      ]
     },
     "metadata": {},
     "output_type": "display_data"
    },
    {
     "name": "stderr",
     "output_type": "stream",
     "text": [
      "loading configuration file config.json from cache at /home/jovyan/.cache/huggingface/hub/models--bert-base-german-cased/snapshots/702774c02b32a4f360d5fea60ab034d64bf0141c/config.json\n",
      "Model config BertConfig {\n",
      "  \"_name_or_path\": \"bert-base-german-cased\",\n",
      "  \"architectures\": [\n",
      "    \"BertForMaskedLM\"\n",
      "  ],\n",
      "  \"attention_probs_dropout_prob\": 0.1,\n",
      "  \"classifier_dropout\": null,\n",
      "  \"hidden_act\": \"gelu\",\n",
      "  \"hidden_dropout_prob\": 0.1,\n",
      "  \"hidden_size\": 768,\n",
      "  \"id2label\": {\n",
      "    \"0\": \"LABEL_0\",\n",
      "    \"1\": \"LABEL_1\",\n",
      "    \"2\": \"LABEL_2\",\n",
      "    \"3\": \"LABEL_3\"\n",
      "  },\n",
      "  \"initializer_range\": 0.02,\n",
      "  \"intermediate_size\": 3072,\n",
      "  \"label2id\": {\n",
      "    \"LABEL_0\": 0,\n",
      "    \"LABEL_1\": 1,\n",
      "    \"LABEL_2\": 2,\n",
      "    \"LABEL_3\": 3\n",
      "  },\n",
      "  \"layer_norm_eps\": 1e-12,\n",
      "  \"max_position_embeddings\": 512,\n",
      "  \"model_type\": \"bert\",\n",
      "  \"num_attention_heads\": 12,\n",
      "  \"num_hidden_layers\": 12,\n",
      "  \"pad_token_id\": 0,\n",
      "  \"position_embedding_type\": \"absolute\",\n",
      "  \"transformers_version\": \"4.23.1\",\n",
      "  \"type_vocab_size\": 2,\n",
      "  \"use_cache\": true,\n",
      "  \"vocab_size\": 30000\n",
      "}\n",
      "\n",
      "loading weights file pytorch_model.bin from cache at /home/jovyan/.cache/huggingface/hub/models--bert-base-german-cased/snapshots/702774c02b32a4f360d5fea60ab034d64bf0141c/pytorch_model.bin\n",
      "Some weights of the model checkpoint at bert-base-german-cased were not used when initializing BertForSequenceClassification: ['cls.seq_relationship.bias', 'cls.predictions.transform.LayerNorm.bias', 'cls.predictions.transform.LayerNorm.weight', 'cls.predictions.bias', 'cls.predictions.decoder.weight', 'cls.predictions.transform.dense.weight', 'cls.seq_relationship.weight', 'cls.predictions.transform.dense.bias']\n",
      "- This IS expected if you are initializing BertForSequenceClassification from the checkpoint of a model trained on another task or with another architecture (e.g. initializing a BertForSequenceClassification model from a BertForPreTraining model).\n",
      "- This IS NOT expected if you are initializing BertForSequenceClassification from the checkpoint of a model that you expect to be exactly identical (initializing a BertForSequenceClassification model from a BertForSequenceClassification model).\n",
      "Some weights of BertForSequenceClassification were not initialized from the model checkpoint at bert-base-german-cased and are newly initialized: ['classifier.weight', 'classifier.bias']\n",
      "You should probably TRAIN this model on a down-stream task to be able to use it for predictions and inference.\n",
      "The following columns in the training set don't have a corresponding argument in `BertForSequenceClassification.forward` and have been ignored: 0, Sentence, nonfunction_Sentence, non_noun, non_noun_verb_adj, non_verb_aux, 2, function_Sentence, 3, non_verb, 1, non_noun_adj. If 0, Sentence, nonfunction_Sentence, non_noun, non_noun_verb_adj, non_verb_aux, 2, function_Sentence, 3, non_verb, 1, non_noun_adj are not expected by `BertForSequenceClassification.forward`,  you can safely ignore this message.\n",
      "/opt/conda/lib/python3.9/site-packages/transformers/optimization.py:306: FutureWarning: This implementation of AdamW is deprecated and will be removed in a future version. Use the PyTorch implementation torch.optim.AdamW instead, or set `no_deprecation_warning=True` to disable this warning\n",
      "  warnings.warn(\n",
      "***** Running training *****\n",
      "  Num examples = 2393\n",
      "  Num Epochs = 3\n",
      "  Instantaneous batch size per device = 8\n",
      "  Total train batch size (w. parallel, distributed & accumulation) = 16\n",
      "  Gradient Accumulation steps = 1\n",
      "  Total optimization steps = 450\n",
      "/opt/conda/lib/python3.9/site-packages/torch/nn/parallel/_functions.py:68: UserWarning: Was asked to gather along dimension 0, but all input tensors were scalars; will instead unsqueeze and return a vector.\n",
      "  warnings.warn('Was asked to gather along dimension 0, but all '\n"
     ]
    },
    {
     "data": {
      "text/html": [
       "\n",
       "    <div>\n",
       "      \n",
       "      <progress value='450' max='450' style='width:300px; height:20px; vertical-align: middle;'></progress>\n",
       "      [450/450 02:24, Epoch 3/3]\n",
       "    </div>\n",
       "    <table border=\"1\" class=\"dataframe\">\n",
       "  <thead>\n",
       " <tr style=\"text-align: left;\">\n",
       "      <th>Epoch</th>\n",
       "      <th>Training Loss</th>\n",
       "      <th>Validation Loss</th>\n",
       "      <th>Accuracy</th>\n",
       "      <th>F1</th>\n",
       "      <th>Precision</th>\n",
       "      <th>Recall</th>\n",
       "      <th>Mcc</th>\n",
       "    </tr>\n",
       "  </thead>\n",
       "  <tbody>\n",
       "    <tr>\n",
       "      <td>1</td>\n",
       "      <td>No log</td>\n",
       "      <td>0.680699</td>\n",
       "      <td>0.755187</td>\n",
       "      <td>0.511852</td>\n",
       "      <td>0.867765</td>\n",
       "      <td>0.468138</td>\n",
       "      <td>0.426280</td>\n",
       "    </tr>\n",
       "    <tr>\n",
       "      <td>2</td>\n",
       "      <td>No log</td>\n",
       "      <td>0.587783</td>\n",
       "      <td>0.784232</td>\n",
       "      <td>0.677179</td>\n",
       "      <td>0.692345</td>\n",
       "      <td>0.664319</td>\n",
       "      <td>0.550815</td>\n",
       "    </tr>\n",
       "    <tr>\n",
       "      <td>3</td>\n",
       "      <td>No log</td>\n",
       "      <td>0.682201</td>\n",
       "      <td>0.792531</td>\n",
       "      <td>0.686574</td>\n",
       "      <td>0.711485</td>\n",
       "      <td>0.666577</td>\n",
       "      <td>0.561374</td>\n",
       "    </tr>\n",
       "  </tbody>\n",
       "</table><p>"
      ],
      "text/plain": [
       "<IPython.core.display.HTML object>"
      ]
     },
     "metadata": {},
     "output_type": "display_data"
    },
    {
     "name": "stderr",
     "output_type": "stream",
     "text": [
      "The following columns in the evaluation set don't have a corresponding argument in `BertForSequenceClassification.forward` and have been ignored: Sentence, nonfunction_Sentence, non_noun, non_noun_verb_adj, non_verb_aux, non_verb, function_Sentence, non_noun_adj. If Sentence, nonfunction_Sentence, non_noun, non_noun_verb_adj, non_verb_aux, non_verb, function_Sentence, non_noun_adj are not expected by `BertForSequenceClassification.forward`,  you can safely ignore this message.\n",
      "***** Running Evaluation *****\n",
      "  Num examples = 241\n",
      "  Batch size = 16\n",
      "/opt/conda/lib/python3.9/site-packages/torch/nn/parallel/_functions.py:68: UserWarning: Was asked to gather along dimension 0, but all input tensors were scalars; will instead unsqueeze and return a vector.\n",
      "  warnings.warn('Was asked to gather along dimension 0, but all '\n",
      "The following columns in the evaluation set don't have a corresponding argument in `BertForSequenceClassification.forward` and have been ignored: Sentence, nonfunction_Sentence, non_noun, non_noun_verb_adj, non_verb_aux, non_verb, function_Sentence, non_noun_adj. If Sentence, nonfunction_Sentence, non_noun, non_noun_verb_adj, non_verb_aux, non_verb, function_Sentence, non_noun_adj are not expected by `BertForSequenceClassification.forward`,  you can safely ignore this message.\n",
      "***** Running Evaluation *****\n",
      "  Num examples = 241\n",
      "  Batch size = 16\n",
      "/opt/conda/lib/python3.9/site-packages/torch/nn/parallel/_functions.py:68: UserWarning: Was asked to gather along dimension 0, but all input tensors were scalars; will instead unsqueeze and return a vector.\n",
      "  warnings.warn('Was asked to gather along dimension 0, but all '\n",
      "The following columns in the evaluation set don't have a corresponding argument in `BertForSequenceClassification.forward` and have been ignored: Sentence, nonfunction_Sentence, non_noun, non_noun_verb_adj, non_verb_aux, non_verb, function_Sentence, non_noun_adj. If Sentence, nonfunction_Sentence, non_noun, non_noun_verb_adj, non_verb_aux, non_verb, function_Sentence, non_noun_adj are not expected by `BertForSequenceClassification.forward`,  you can safely ignore this message.\n",
      "***** Running Evaluation *****\n",
      "  Num examples = 241\n",
      "  Batch size = 16\n",
      "\n",
      "\n",
      "Training completed. Do not forget to share your model on huggingface.co/models =)\n",
      "\n",
      "\n",
      "The following columns in the test set don't have a corresponding argument in `BertForSequenceClassification.forward` and have been ignored: Sentence, nonfunction_Sentence, non_noun, non_noun_verb_adj, non_verb_aux, non_verb, function_Sentence, non_noun_adj. If Sentence, nonfunction_Sentence, non_noun, non_noun_verb_adj, non_verb_aux, non_verb, function_Sentence, non_noun_adj are not expected by `BertForSequenceClassification.forward`,  you can safely ignore this message.\n",
      "***** Running Prediction *****\n",
      "  Num examples = 241\n",
      "  Batch size = 16\n",
      "/opt/conda/lib/python3.9/site-packages/torch/nn/parallel/_functions.py:68: UserWarning: Was asked to gather along dimension 0, but all input tensors were scalars; will instead unsqueeze and return a vector.\n",
      "  warnings.warn('Was asked to gather along dimension 0, but all '\n"
     ]
    },
    {
     "data": {
      "text/html": [],
      "text/plain": [
       "<IPython.core.display.HTML object>"
      ]
     },
     "metadata": {},
     "output_type": "display_data"
    },
    {
     "name": "stderr",
     "output_type": "stream",
     "text": [
      "The following columns in the test set don't have a corresponding argument in `BertForSequenceClassification.forward` and have been ignored: 0, Sentence, nonfunction_Sentence, non_noun, non_noun_verb_adj, non_verb_aux, 2, function_Sentence, 3, non_verb, 1, non_noun_adj. If 0, Sentence, nonfunction_Sentence, non_noun, non_noun_verb_adj, non_verb_aux, 2, function_Sentence, 3, non_verb, 1, non_noun_adj are not expected by `BertForSequenceClassification.forward`,  you can safely ignore this message.\n",
      "***** Running Prediction *****\n",
      "  Num examples = 2393\n",
      "  Batch size = 16\n",
      "/opt/conda/lib/python3.9/site-packages/torch/nn/parallel/_functions.py:68: UserWarning: Was asked to gather along dimension 0, but all input tensors were scalars; will instead unsqueeze and return a vector.\n",
      "  warnings.warn('Was asked to gather along dimension 0, but all '\n"
     ]
    },
    {
     "data": {
      "text/html": [],
      "text/plain": [
       "<IPython.core.display.HTML object>"
      ]
     },
     "metadata": {},
     "output_type": "display_data"
    },
    {
     "name": "stdout",
     "output_type": "stream",
     "text": [
      "0.2\n"
     ]
    },
    {
     "name": "stderr",
     "output_type": "stream",
     "text": [
      "Using custom data configuration default-b4417881471f897e\n"
     ]
    },
    {
     "name": "stdout",
     "output_type": "stream",
     "text": [
      "Downloading and preparing dataset csv/default to /home/jovyan/.cache/huggingface/datasets/csv/default-b4417881471f897e/0.0.0/6b34fb8fcf56f7c8ba51dc895bfa2bfbe43546f190a60fcf74bb5e8afdcc2317...\n"
     ]
    },
    {
     "data": {
      "application/vnd.jupyter.widget-view+json": {
       "model_id": "0f2141ade6ea4630ae08a9a0eace62f1",
       "version_major": 2,
       "version_minor": 0
      },
      "text/plain": [
       "Downloading data files:   0%|          | 0/1 [00:00<?, ?it/s]"
      ]
     },
     "metadata": {},
     "output_type": "display_data"
    },
    {
     "data": {
      "application/vnd.jupyter.widget-view+json": {
       "model_id": "5a831aaa9fc948ee8143b722c3cce3a3",
       "version_major": 2,
       "version_minor": 0
      },
      "text/plain": [
       "Extracting data files:   0%|          | 0/1 [00:00<?, ?it/s]"
      ]
     },
     "metadata": {},
     "output_type": "display_data"
    },
    {
     "data": {
      "application/vnd.jupyter.widget-view+json": {
       "model_id": "e088f461d3fc476faee5be526c49adb3",
       "version_major": 2,
       "version_minor": 0
      },
      "text/plain": [
       "0 tables [00:00, ? tables/s]"
      ]
     },
     "metadata": {},
     "output_type": "display_data"
    },
    {
     "name": "stdout",
     "output_type": "stream",
     "text": [
      "Dataset csv downloaded and prepared to /home/jovyan/.cache/huggingface/datasets/csv/default-b4417881471f897e/0.0.0/6b34fb8fcf56f7c8ba51dc895bfa2bfbe43546f190a60fcf74bb5e8afdcc2317. Subsequent calls will reuse this data.\n"
     ]
    },
    {
     "data": {
      "application/vnd.jupyter.widget-view+json": {
       "model_id": "2504c47690c04c55b3b941d3f38f2874",
       "version_major": 2,
       "version_minor": 0
      },
      "text/plain": [
       "  0%|          | 0/1 [00:00<?, ?ba/s]"
      ]
     },
     "metadata": {},
     "output_type": "display_data"
    },
    {
     "name": "stderr",
     "output_type": "stream",
     "text": [
      "loading configuration file config.json from cache at /home/jovyan/.cache/huggingface/hub/models--bert-base-german-cased/snapshots/702774c02b32a4f360d5fea60ab034d64bf0141c/config.json\n",
      "Model config BertConfig {\n",
      "  \"_name_or_path\": \"bert-base-german-cased\",\n",
      "  \"architectures\": [\n",
      "    \"BertForMaskedLM\"\n",
      "  ],\n",
      "  \"attention_probs_dropout_prob\": 0.1,\n",
      "  \"classifier_dropout\": null,\n",
      "  \"hidden_act\": \"gelu\",\n",
      "  \"hidden_dropout_prob\": 0.1,\n",
      "  \"hidden_size\": 768,\n",
      "  \"id2label\": {\n",
      "    \"0\": \"LABEL_0\",\n",
      "    \"1\": \"LABEL_1\",\n",
      "    \"2\": \"LABEL_2\",\n",
      "    \"3\": \"LABEL_3\"\n",
      "  },\n",
      "  \"initializer_range\": 0.02,\n",
      "  \"intermediate_size\": 3072,\n",
      "  \"label2id\": {\n",
      "    \"LABEL_0\": 0,\n",
      "    \"LABEL_1\": 1,\n",
      "    \"LABEL_2\": 2,\n",
      "    \"LABEL_3\": 3\n",
      "  },\n",
      "  \"layer_norm_eps\": 1e-12,\n",
      "  \"max_position_embeddings\": 512,\n",
      "  \"model_type\": \"bert\",\n",
      "  \"num_attention_heads\": 12,\n",
      "  \"num_hidden_layers\": 12,\n",
      "  \"pad_token_id\": 0,\n",
      "  \"position_embedding_type\": \"absolute\",\n",
      "  \"transformers_version\": \"4.23.1\",\n",
      "  \"type_vocab_size\": 2,\n",
      "  \"use_cache\": true,\n",
      "  \"vocab_size\": 30000\n",
      "}\n",
      "\n",
      "loading weights file pytorch_model.bin from cache at /home/jovyan/.cache/huggingface/hub/models--bert-base-german-cased/snapshots/702774c02b32a4f360d5fea60ab034d64bf0141c/pytorch_model.bin\n",
      "Some weights of the model checkpoint at bert-base-german-cased were not used when initializing BertForSequenceClassification: ['cls.seq_relationship.bias', 'cls.predictions.transform.LayerNorm.bias', 'cls.predictions.transform.LayerNorm.weight', 'cls.predictions.bias', 'cls.predictions.decoder.weight', 'cls.predictions.transform.dense.weight', 'cls.seq_relationship.weight', 'cls.predictions.transform.dense.bias']\n",
      "- This IS expected if you are initializing BertForSequenceClassification from the checkpoint of a model trained on another task or with another architecture (e.g. initializing a BertForSequenceClassification model from a BertForPreTraining model).\n",
      "- This IS NOT expected if you are initializing BertForSequenceClassification from the checkpoint of a model that you expect to be exactly identical (initializing a BertForSequenceClassification model from a BertForSequenceClassification model).\n",
      "Some weights of BertForSequenceClassification were not initialized from the model checkpoint at bert-base-german-cased and are newly initialized: ['classifier.weight', 'classifier.bias']\n",
      "You should probably TRAIN this model on a down-stream task to be able to use it for predictions and inference.\n",
      "The following columns in the training set don't have a corresponding argument in `BertForSequenceClassification.forward` and have been ignored: 0, Sentence, nonfunction_Sentence, non_noun, non_noun_verb_adj, non_verb_aux, 2, function_Sentence, 3, non_verb, 1, non_noun_adj. If 0, Sentence, nonfunction_Sentence, non_noun, non_noun_verb_adj, non_verb_aux, 2, function_Sentence, 3, non_verb, 1, non_noun_adj are not expected by `BertForSequenceClassification.forward`,  you can safely ignore this message.\n",
      "/opt/conda/lib/python3.9/site-packages/transformers/optimization.py:306: FutureWarning: This implementation of AdamW is deprecated and will be removed in a future version. Use the PyTorch implementation torch.optim.AdamW instead, or set `no_deprecation_warning=True` to disable this warning\n",
      "  warnings.warn(\n",
      "***** Running training *****\n",
      "  Num examples = 2393\n",
      "  Num Epochs = 3\n",
      "  Instantaneous batch size per device = 8\n",
      "  Total train batch size (w. parallel, distributed & accumulation) = 16\n",
      "  Gradient Accumulation steps = 1\n",
      "  Total optimization steps = 450\n",
      "/opt/conda/lib/python3.9/site-packages/torch/nn/parallel/_functions.py:68: UserWarning: Was asked to gather along dimension 0, but all input tensors were scalars; will instead unsqueeze and return a vector.\n",
      "  warnings.warn('Was asked to gather along dimension 0, but all '\n"
     ]
    },
    {
     "data": {
      "text/html": [
       "\n",
       "    <div>\n",
       "      \n",
       "      <progress value='450' max='450' style='width:300px; height:20px; vertical-align: middle;'></progress>\n",
       "      [450/450 02:24, Epoch 3/3]\n",
       "    </div>\n",
       "    <table border=\"1\" class=\"dataframe\">\n",
       "  <thead>\n",
       " <tr style=\"text-align: left;\">\n",
       "      <th>Epoch</th>\n",
       "      <th>Training Loss</th>\n",
       "      <th>Validation Loss</th>\n",
       "      <th>Accuracy</th>\n",
       "      <th>F1</th>\n",
       "      <th>Precision</th>\n",
       "      <th>Recall</th>\n",
       "      <th>Mcc</th>\n",
       "    </tr>\n",
       "  </thead>\n",
       "  <tbody>\n",
       "    <tr>\n",
       "      <td>1</td>\n",
       "      <td>No log</td>\n",
       "      <td>0.618779</td>\n",
       "      <td>0.788382</td>\n",
       "      <td>0.608584</td>\n",
       "      <td>0.798076</td>\n",
       "      <td>0.561280</td>\n",
       "      <td>0.529028</td>\n",
       "    </tr>\n",
       "    <tr>\n",
       "      <td>2</td>\n",
       "      <td>No log</td>\n",
       "      <td>0.579673</td>\n",
       "      <td>0.825726</td>\n",
       "      <td>0.742425</td>\n",
       "      <td>0.759334</td>\n",
       "      <td>0.729256</td>\n",
       "      <td>0.635424</td>\n",
       "    </tr>\n",
       "    <tr>\n",
       "      <td>3</td>\n",
       "      <td>No log</td>\n",
       "      <td>0.654275</td>\n",
       "      <td>0.813278</td>\n",
       "      <td>0.730179</td>\n",
       "      <td>0.756869</td>\n",
       "      <td>0.710292</td>\n",
       "      <td>0.607695</td>\n",
       "    </tr>\n",
       "  </tbody>\n",
       "</table><p>"
      ],
      "text/plain": [
       "<IPython.core.display.HTML object>"
      ]
     },
     "metadata": {},
     "output_type": "display_data"
    },
    {
     "name": "stderr",
     "output_type": "stream",
     "text": [
      "The following columns in the evaluation set don't have a corresponding argument in `BertForSequenceClassification.forward` and have been ignored: Sentence, nonfunction_Sentence, non_noun, non_noun_verb_adj, non_verb_aux, non_verb, function_Sentence, non_noun_adj. If Sentence, nonfunction_Sentence, non_noun, non_noun_verb_adj, non_verb_aux, non_verb, function_Sentence, non_noun_adj are not expected by `BertForSequenceClassification.forward`,  you can safely ignore this message.\n",
      "***** Running Evaluation *****\n",
      "  Num examples = 241\n",
      "  Batch size = 16\n",
      "/opt/conda/lib/python3.9/site-packages/torch/nn/parallel/_functions.py:68: UserWarning: Was asked to gather along dimension 0, but all input tensors were scalars; will instead unsqueeze and return a vector.\n",
      "  warnings.warn('Was asked to gather along dimension 0, but all '\n",
      "The following columns in the evaluation set don't have a corresponding argument in `BertForSequenceClassification.forward` and have been ignored: Sentence, nonfunction_Sentence, non_noun, non_noun_verb_adj, non_verb_aux, non_verb, function_Sentence, non_noun_adj. If Sentence, nonfunction_Sentence, non_noun, non_noun_verb_adj, non_verb_aux, non_verb, function_Sentence, non_noun_adj are not expected by `BertForSequenceClassification.forward`,  you can safely ignore this message.\n",
      "***** Running Evaluation *****\n",
      "  Num examples = 241\n",
      "  Batch size = 16\n",
      "/opt/conda/lib/python3.9/site-packages/torch/nn/parallel/_functions.py:68: UserWarning: Was asked to gather along dimension 0, but all input tensors were scalars; will instead unsqueeze and return a vector.\n",
      "  warnings.warn('Was asked to gather along dimension 0, but all '\n",
      "The following columns in the evaluation set don't have a corresponding argument in `BertForSequenceClassification.forward` and have been ignored: Sentence, nonfunction_Sentence, non_noun, non_noun_verb_adj, non_verb_aux, non_verb, function_Sentence, non_noun_adj. If Sentence, nonfunction_Sentence, non_noun, non_noun_verb_adj, non_verb_aux, non_verb, function_Sentence, non_noun_adj are not expected by `BertForSequenceClassification.forward`,  you can safely ignore this message.\n",
      "***** Running Evaluation *****\n",
      "  Num examples = 241\n",
      "  Batch size = 16\n",
      "\n",
      "\n",
      "Training completed. Do not forget to share your model on huggingface.co/models =)\n",
      "\n",
      "\n",
      "The following columns in the test set don't have a corresponding argument in `BertForSequenceClassification.forward` and have been ignored: Sentence, nonfunction_Sentence, non_noun, non_noun_verb_adj, non_verb_aux, non_verb, function_Sentence, non_noun_adj. If Sentence, nonfunction_Sentence, non_noun, non_noun_verb_adj, non_verb_aux, non_verb, function_Sentence, non_noun_adj are not expected by `BertForSequenceClassification.forward`,  you can safely ignore this message.\n",
      "***** Running Prediction *****\n",
      "  Num examples = 241\n",
      "  Batch size = 16\n",
      "/opt/conda/lib/python3.9/site-packages/torch/nn/parallel/_functions.py:68: UserWarning: Was asked to gather along dimension 0, but all input tensors were scalars; will instead unsqueeze and return a vector.\n",
      "  warnings.warn('Was asked to gather along dimension 0, but all '\n"
     ]
    },
    {
     "data": {
      "text/html": [],
      "text/plain": [
       "<IPython.core.display.HTML object>"
      ]
     },
     "metadata": {},
     "output_type": "display_data"
    },
    {
     "name": "stderr",
     "output_type": "stream",
     "text": [
      "The following columns in the test set don't have a corresponding argument in `BertForSequenceClassification.forward` and have been ignored: 0, Sentence, nonfunction_Sentence, non_noun, non_noun_verb_adj, non_verb_aux, 2, function_Sentence, 3, non_verb, 1, non_noun_adj. If 0, Sentence, nonfunction_Sentence, non_noun, non_noun_verb_adj, non_verb_aux, 2, function_Sentence, 3, non_verb, 1, non_noun_adj are not expected by `BertForSequenceClassification.forward`,  you can safely ignore this message.\n",
      "***** Running Prediction *****\n",
      "  Num examples = 2393\n",
      "  Batch size = 16\n",
      "/opt/conda/lib/python3.9/site-packages/torch/nn/parallel/_functions.py:68: UserWarning: Was asked to gather along dimension 0, but all input tensors were scalars; will instead unsqueeze and return a vector.\n",
      "  warnings.warn('Was asked to gather along dimension 0, but all '\n"
     ]
    },
    {
     "data": {
      "text/html": [],
      "text/plain": [
       "<IPython.core.display.HTML object>"
      ]
     },
     "metadata": {},
     "output_type": "display_data"
    },
    {
     "name": "stdout",
     "output_type": "stream",
     "text": [
      "0.1\n"
     ]
    },
    {
     "name": "stderr",
     "output_type": "stream",
     "text": [
      "Using custom data configuration default-c25f11df29164130\n"
     ]
    },
    {
     "name": "stdout",
     "output_type": "stream",
     "text": [
      "Downloading and preparing dataset csv/default to /home/jovyan/.cache/huggingface/datasets/csv/default-c25f11df29164130/0.0.0/6b34fb8fcf56f7c8ba51dc895bfa2bfbe43546f190a60fcf74bb5e8afdcc2317...\n"
     ]
    },
    {
     "data": {
      "application/vnd.jupyter.widget-view+json": {
       "model_id": "3ac082912ba24bcebd93aec6bc540d65",
       "version_major": 2,
       "version_minor": 0
      },
      "text/plain": [
       "Downloading data files:   0%|          | 0/1 [00:00<?, ?it/s]"
      ]
     },
     "metadata": {},
     "output_type": "display_data"
    },
    {
     "data": {
      "application/vnd.jupyter.widget-view+json": {
       "model_id": "9e008c10b7b9476a9617f89639e2042b",
       "version_major": 2,
       "version_minor": 0
      },
      "text/plain": [
       "Extracting data files:   0%|          | 0/1 [00:00<?, ?it/s]"
      ]
     },
     "metadata": {},
     "output_type": "display_data"
    },
    {
     "data": {
      "application/vnd.jupyter.widget-view+json": {
       "model_id": "bc4b17f40e0941ef8aa243449f110f4f",
       "version_major": 2,
       "version_minor": 0
      },
      "text/plain": [
       "0 tables [00:00, ? tables/s]"
      ]
     },
     "metadata": {},
     "output_type": "display_data"
    },
    {
     "name": "stdout",
     "output_type": "stream",
     "text": [
      "Dataset csv downloaded and prepared to /home/jovyan/.cache/huggingface/datasets/csv/default-c25f11df29164130/0.0.0/6b34fb8fcf56f7c8ba51dc895bfa2bfbe43546f190a60fcf74bb5e8afdcc2317. Subsequent calls will reuse this data.\n"
     ]
    },
    {
     "data": {
      "application/vnd.jupyter.widget-view+json": {
       "model_id": "f7a59db5ebce4b89827afaa7c3fbd604",
       "version_major": 2,
       "version_minor": 0
      },
      "text/plain": [
       "  0%|          | 0/1 [00:00<?, ?ba/s]"
      ]
     },
     "metadata": {},
     "output_type": "display_data"
    },
    {
     "name": "stderr",
     "output_type": "stream",
     "text": [
      "loading configuration file config.json from cache at /home/jovyan/.cache/huggingface/hub/models--bert-base-german-cased/snapshots/702774c02b32a4f360d5fea60ab034d64bf0141c/config.json\n",
      "Model config BertConfig {\n",
      "  \"_name_or_path\": \"bert-base-german-cased\",\n",
      "  \"architectures\": [\n",
      "    \"BertForMaskedLM\"\n",
      "  ],\n",
      "  \"attention_probs_dropout_prob\": 0.1,\n",
      "  \"classifier_dropout\": null,\n",
      "  \"hidden_act\": \"gelu\",\n",
      "  \"hidden_dropout_prob\": 0.1,\n",
      "  \"hidden_size\": 768,\n",
      "  \"id2label\": {\n",
      "    \"0\": \"LABEL_0\",\n",
      "    \"1\": \"LABEL_1\",\n",
      "    \"2\": \"LABEL_2\",\n",
      "    \"3\": \"LABEL_3\"\n",
      "  },\n",
      "  \"initializer_range\": 0.02,\n",
      "  \"intermediate_size\": 3072,\n",
      "  \"label2id\": {\n",
      "    \"LABEL_0\": 0,\n",
      "    \"LABEL_1\": 1,\n",
      "    \"LABEL_2\": 2,\n",
      "    \"LABEL_3\": 3\n",
      "  },\n",
      "  \"layer_norm_eps\": 1e-12,\n",
      "  \"max_position_embeddings\": 512,\n",
      "  \"model_type\": \"bert\",\n",
      "  \"num_attention_heads\": 12,\n",
      "  \"num_hidden_layers\": 12,\n",
      "  \"pad_token_id\": 0,\n",
      "  \"position_embedding_type\": \"absolute\",\n",
      "  \"transformers_version\": \"4.23.1\",\n",
      "  \"type_vocab_size\": 2,\n",
      "  \"use_cache\": true,\n",
      "  \"vocab_size\": 30000\n",
      "}\n",
      "\n",
      "loading weights file pytorch_model.bin from cache at /home/jovyan/.cache/huggingface/hub/models--bert-base-german-cased/snapshots/702774c02b32a4f360d5fea60ab034d64bf0141c/pytorch_model.bin\n",
      "Some weights of the model checkpoint at bert-base-german-cased were not used when initializing BertForSequenceClassification: ['cls.seq_relationship.bias', 'cls.predictions.transform.LayerNorm.bias', 'cls.predictions.transform.LayerNorm.weight', 'cls.predictions.bias', 'cls.predictions.decoder.weight', 'cls.predictions.transform.dense.weight', 'cls.seq_relationship.weight', 'cls.predictions.transform.dense.bias']\n",
      "- This IS expected if you are initializing BertForSequenceClassification from the checkpoint of a model trained on another task or with another architecture (e.g. initializing a BertForSequenceClassification model from a BertForPreTraining model).\n",
      "- This IS NOT expected if you are initializing BertForSequenceClassification from the checkpoint of a model that you expect to be exactly identical (initializing a BertForSequenceClassification model from a BertForSequenceClassification model).\n",
      "Some weights of BertForSequenceClassification were not initialized from the model checkpoint at bert-base-german-cased and are newly initialized: ['classifier.weight', 'classifier.bias']\n",
      "You should probably TRAIN this model on a down-stream task to be able to use it for predictions and inference.\n",
      "The following columns in the training set don't have a corresponding argument in `BertForSequenceClassification.forward` and have been ignored: 0, Sentence, nonfunction_Sentence, non_noun, non_noun_verb_adj, non_verb_aux, 2, function_Sentence, 3, non_verb, 1, non_noun_adj. If 0, Sentence, nonfunction_Sentence, non_noun, non_noun_verb_adj, non_verb_aux, 2, function_Sentence, 3, non_verb, 1, non_noun_adj are not expected by `BertForSequenceClassification.forward`,  you can safely ignore this message.\n",
      "/opt/conda/lib/python3.9/site-packages/transformers/optimization.py:306: FutureWarning: This implementation of AdamW is deprecated and will be removed in a future version. Use the PyTorch implementation torch.optim.AdamW instead, or set `no_deprecation_warning=True` to disable this warning\n",
      "  warnings.warn(\n",
      "***** Running training *****\n",
      "  Num examples = 2393\n",
      "  Num Epochs = 3\n",
      "  Instantaneous batch size per device = 8\n",
      "  Total train batch size (w. parallel, distributed & accumulation) = 16\n",
      "  Gradient Accumulation steps = 1\n",
      "  Total optimization steps = 450\n",
      "/opt/conda/lib/python3.9/site-packages/torch/nn/parallel/_functions.py:68: UserWarning: Was asked to gather along dimension 0, but all input tensors were scalars; will instead unsqueeze and return a vector.\n",
      "  warnings.warn('Was asked to gather along dimension 0, but all '\n"
     ]
    },
    {
     "data": {
      "text/html": [
       "\n",
       "    <div>\n",
       "      \n",
       "      <progress value='450' max='450' style='width:300px; height:20px; vertical-align: middle;'></progress>\n",
       "      [450/450 02:24, Epoch 3/3]\n",
       "    </div>\n",
       "    <table border=\"1\" class=\"dataframe\">\n",
       "  <thead>\n",
       " <tr style=\"text-align: left;\">\n",
       "      <th>Epoch</th>\n",
       "      <th>Training Loss</th>\n",
       "      <th>Validation Loss</th>\n",
       "      <th>Accuracy</th>\n",
       "      <th>F1</th>\n",
       "      <th>Precision</th>\n",
       "      <th>Recall</th>\n",
       "      <th>Mcc</th>\n",
       "    </tr>\n",
       "  </thead>\n",
       "  <tbody>\n",
       "    <tr>\n",
       "      <td>1</td>\n",
       "      <td>No log</td>\n",
       "      <td>0.761236</td>\n",
       "      <td>0.751037</td>\n",
       "      <td>0.483567</td>\n",
       "      <td>0.858262</td>\n",
       "      <td>0.451472</td>\n",
       "      <td>0.413138</td>\n",
       "    </tr>\n",
       "    <tr>\n",
       "      <td>2</td>\n",
       "      <td>No log</td>\n",
       "      <td>0.607395</td>\n",
       "      <td>0.788382</td>\n",
       "      <td>0.679367</td>\n",
       "      <td>0.685910</td>\n",
       "      <td>0.686783</td>\n",
       "      <td>0.565706</td>\n",
       "    </tr>\n",
       "    <tr>\n",
       "      <td>3</td>\n",
       "      <td>No log</td>\n",
       "      <td>0.716195</td>\n",
       "      <td>0.796680</td>\n",
       "      <td>0.697910</td>\n",
       "      <td>0.714232</td>\n",
       "      <td>0.684790</td>\n",
       "      <td>0.578316</td>\n",
       "    </tr>\n",
       "  </tbody>\n",
       "</table><p>"
      ],
      "text/plain": [
       "<IPython.core.display.HTML object>"
      ]
     },
     "metadata": {},
     "output_type": "display_data"
    },
    {
     "name": "stderr",
     "output_type": "stream",
     "text": [
      "The following columns in the evaluation set don't have a corresponding argument in `BertForSequenceClassification.forward` and have been ignored: Sentence, nonfunction_Sentence, non_noun, non_noun_verb_adj, non_verb_aux, non_verb, function_Sentence, non_noun_adj. If Sentence, nonfunction_Sentence, non_noun, non_noun_verb_adj, non_verb_aux, non_verb, function_Sentence, non_noun_adj are not expected by `BertForSequenceClassification.forward`,  you can safely ignore this message.\n",
      "***** Running Evaluation *****\n",
      "  Num examples = 241\n",
      "  Batch size = 16\n",
      "/opt/conda/lib/python3.9/site-packages/torch/nn/parallel/_functions.py:68: UserWarning: Was asked to gather along dimension 0, but all input tensors were scalars; will instead unsqueeze and return a vector.\n",
      "  warnings.warn('Was asked to gather along dimension 0, but all '\n",
      "The following columns in the evaluation set don't have a corresponding argument in `BertForSequenceClassification.forward` and have been ignored: Sentence, nonfunction_Sentence, non_noun, non_noun_verb_adj, non_verb_aux, non_verb, function_Sentence, non_noun_adj. If Sentence, nonfunction_Sentence, non_noun, non_noun_verb_adj, non_verb_aux, non_verb, function_Sentence, non_noun_adj are not expected by `BertForSequenceClassification.forward`,  you can safely ignore this message.\n",
      "***** Running Evaluation *****\n",
      "  Num examples = 241\n",
      "  Batch size = 16\n",
      "/opt/conda/lib/python3.9/site-packages/torch/nn/parallel/_functions.py:68: UserWarning: Was asked to gather along dimension 0, but all input tensors were scalars; will instead unsqueeze and return a vector.\n",
      "  warnings.warn('Was asked to gather along dimension 0, but all '\n",
      "The following columns in the evaluation set don't have a corresponding argument in `BertForSequenceClassification.forward` and have been ignored: Sentence, nonfunction_Sentence, non_noun, non_noun_verb_adj, non_verb_aux, non_verb, function_Sentence, non_noun_adj. If Sentence, nonfunction_Sentence, non_noun, non_noun_verb_adj, non_verb_aux, non_verb, function_Sentence, non_noun_adj are not expected by `BertForSequenceClassification.forward`,  you can safely ignore this message.\n",
      "***** Running Evaluation *****\n",
      "  Num examples = 241\n",
      "  Batch size = 16\n",
      "\n",
      "\n",
      "Training completed. Do not forget to share your model on huggingface.co/models =)\n",
      "\n",
      "\n",
      "The following columns in the test set don't have a corresponding argument in `BertForSequenceClassification.forward` and have been ignored: Sentence, nonfunction_Sentence, non_noun, non_noun_verb_adj, non_verb_aux, non_verb, function_Sentence, non_noun_adj. If Sentence, nonfunction_Sentence, non_noun, non_noun_verb_adj, non_verb_aux, non_verb, function_Sentence, non_noun_adj are not expected by `BertForSequenceClassification.forward`,  you can safely ignore this message.\n",
      "***** Running Prediction *****\n",
      "  Num examples = 241\n",
      "  Batch size = 16\n",
      "/opt/conda/lib/python3.9/site-packages/torch/nn/parallel/_functions.py:68: UserWarning: Was asked to gather along dimension 0, but all input tensors were scalars; will instead unsqueeze and return a vector.\n",
      "  warnings.warn('Was asked to gather along dimension 0, but all '\n"
     ]
    },
    {
     "data": {
      "text/html": [],
      "text/plain": [
       "<IPython.core.display.HTML object>"
      ]
     },
     "metadata": {},
     "output_type": "display_data"
    },
    {
     "name": "stderr",
     "output_type": "stream",
     "text": [
      "The following columns in the test set don't have a corresponding argument in `BertForSequenceClassification.forward` and have been ignored: 0, Sentence, nonfunction_Sentence, non_noun, non_noun_verb_adj, non_verb_aux, 2, function_Sentence, 3, non_verb, 1, non_noun_adj. If 0, Sentence, nonfunction_Sentence, non_noun, non_noun_verb_adj, non_verb_aux, 2, function_Sentence, 3, non_verb, 1, non_noun_adj are not expected by `BertForSequenceClassification.forward`,  you can safely ignore this message.\n",
      "***** Running Prediction *****\n",
      "  Num examples = 2393\n",
      "  Batch size = 16\n",
      "/opt/conda/lib/python3.9/site-packages/torch/nn/parallel/_functions.py:68: UserWarning: Was asked to gather along dimension 0, but all input tensors were scalars; will instead unsqueeze and return a vector.\n",
      "  warnings.warn('Was asked to gather along dimension 0, but all '\n"
     ]
    },
    {
     "data": {
      "text/html": [],
      "text/plain": [
       "<IPython.core.display.HTML object>"
      ]
     },
     "metadata": {},
     "output_type": "display_data"
    }
   ],
   "source": [
    "i = 0\n",
    "label_num = 4\n",
    "conf_scores = [0.5]\n",
    "\n",
    "training_args = TrainingArguments(\"original_forum\", evaluation_strategy=\"epoch\")\n",
    "metrics = {}\n",
    "for train_idxs, val_idxs in splits:\n",
    "    fold_dataset = DatasetDict({\n",
    "        \"train\":forum.select(train_idxs),\n",
    "        \"validation\":forum.select(val_idxs)\n",
    "    })\n",
    "    print(i)\n",
    "    if i > 8:\n",
    "        metrics_old = pd.read_csv(\"metrics/stratified_sublabels_additional_tests.csv\")\n",
    "        model = AutoModelForSequenceClassification.from_pretrained(\"bert-base-german-cased\", num_labels=label_num)\n",
    "        trainer = Trainer(model=model, args=training_args, train_dataset=fold_dataset[\"train\"], eval_dataset=fold_dataset[\"validation\"], compute_metrics=compute_metrics)\n",
    "        trainer.train()\n",
    "        metrics[i] = {}\n",
    "        trainer.save_model(\"classif/stratified_cv_sublabels\")\n",
    "        metrics[i][\"orig\"] = compute_test_metrics(trainer.predict(fold_dataset[\"validation\"]), None)\n",
    "        metrics[i][\"train_support\"] = compute_test_metrics(trainer.predict(fold_dataset[\"train\"]), None)\n",
    "        model = AutoModelForSequenceClassification.from_pretrained(\"classif/stratified_cv_sublabels\", num_labels=label_num)\n",
    "        pipe = TextClassificationPipeline(model=model, tokenizer=tokenizer, return_all_scores=True, device=0)\n",
    "        #dataset_1 = predict_sublabels_with_confidence(\"mot_05.csv\", pipe)\n",
    "        dataset_2 = predict_sublabels_with_confidence(\"mot_07.csv\", pipe)\n",
    "        '''dataset_3 = predict_sublabels_with_confidence(\"mot_095.csv\", pipe)\n",
    "        dataset_4 = predict_sublabels_with_confidence(\"new_data_both.csv\", pipe)'''\n",
    "\n",
    "        for conf_score in conf_scores:\n",
    "            print(conf_score)\n",
    "            '''evaluation, support = finetune_more_sublabels(dataset_1, conf_score, fold_dataset[\"train\"], label_num, fold_dataset[\"validation\"], training_args)\n",
    "            metrics[i][\"FN 05 \" + str(conf_score) + \"_only_minority\"] = evaluation\n",
    "            metrics[i][\"FN 05 \" + str(conf_score)+\"_support_only_minority\"] = support'''\n",
    "\n",
    "            evaluation, support = finetune_more_sublabels(dataset_2, conf_score, fold_dataset[\"train\"], label_num, fold_dataset[\"validation\"], training_args)\n",
    "            metrics[i][\"FN 07 \" + str(conf_score)+ \"_only_minority\"] = evaluation\n",
    "            metrics[i][\"FN 07 \" + str(conf_score)+\"_support_only_minority\"] = support\n",
    "\n",
    "            '''evaluation, support = finetune_more_sublabels(dataset_3, conf_score, fold_dataset[\"train\"], label_num, fold_dataset[\"validation\"], training_args)\n",
    "            metrics[i][\"FN 095 \" + str(conf_score) + \"_only_minority\"] = evaluation\n",
    "            metrics[i][\"FN 095 \" + str(conf_score)+\"_support_only_minority\"] = support\n",
    "\n",
    "            evaluation, support = finetune_more_sublabels(dataset_4, conf_score, fold_dataset[\"train\"], label_num, fold_dataset[\"validation\"], training_args)\n",
    "            metrics[i][\"no FN \" + str(conf_score)+ \"_only_minority\"] = evaluation\n",
    "            metrics[i][\"no FN \" + str(conf_score)+\"_support_only_minority\"] = support'''\n",
    "\n",
    "            metrics_df = pd.DataFrame.from_dict({(i,j): metrics[i][j]\n",
    "                            for i in metrics.keys() \n",
    "                            for j in metrics[i].keys()},\n",
    "                        orient='columns').transpose()\n",
    "            metrics_df = pd.concat([metrics_old, metrics_df], ignore_index=True)\n",
    "            metrics_df.to_csv(\"metrics/stratified_sublabels_additional_tests.csv\")\n",
    "\n",
    "            '''evaluation, support = finetune_more_sublabels(dataset_1, conf_score, fold_dataset[\"train\"], label_num, fold_dataset[\"validation\"], training_args, mode=\"equal\")\n",
    "            metrics[i][\"FN 05 \" + str(conf_score) + \"_equal\"] = evaluation\n",
    "            metrics[i][\"FN 05 \" + str(conf_score)+\"_support_equal\"] = support'''\n",
    "\n",
    "            evaluation, support = finetune_more_sublabels(dataset_2, conf_score, fold_dataset[\"train\"], label_num, fold_dataset[\"validation\"], training_args, mode=\"equal\")\n",
    "            metrics[i][\"FN 07 \" + str(conf_score)+ \"_equal\"] = evaluation\n",
    "            metrics[i][\"FN 07 \" + str(conf_score)+\"_support_equal\"] = support\n",
    "\n",
    "            '''evaluation, support = finetune_more_sublabels(dataset_3, conf_score, fold_dataset[\"train\"], label_num, fold_dataset[\"validation\"], training_args, mode=\"equal\")\n",
    "            metrics[i][\"FN 095 \" + str(conf_score) + \"_equal\"] = evaluation\n",
    "            metrics[i][\"FN 095 \" + str(conf_score)+\"_support_equal\"] = support\n",
    "\n",
    "            evaluation, support = finetune_more_sublabels(dataset_3, conf_score, fold_dataset[\"train\"], label_num, fold_dataset[\"validation\"], training_args, mode=\"equal\")\n",
    "            metrics[i][\"no FN \" + str(conf_score)+ \"_equal\"] = evaluation\n",
    "            metrics[i][\"no FN \" + str(conf_score)+\"_support_equal\"] = support'''\n",
    "\n",
    "            metrics_df = pd.DataFrame.from_dict({(i,j): metrics[i][j]\n",
    "                            for i in metrics.keys() \n",
    "                            for j in metrics[i].keys()},\n",
    "                        orient='columns').transpose()\n",
    "            #metrics_df.head()\n",
    "            metrics_df = pd.concat([metrics_old, metrics_df], ignore_index=True)\n",
    "            metrics_df.to_csv(\"metrics/stratified_sublabels_additional_tests.csv\")\n",
    "\n",
    "        for conf_score in conf_scores_lower:\n",
    "            print(conf_score)\n",
    "\n",
    "            '''evaluation, support = finetune_more_sublabels(dataset_1, conf_score, fold_dataset[\"train\"], label_num, fold_dataset[\"validation\"], training_args, mode=\"confidence\")\n",
    "            metrics[i][\"FN 05 \" + str(conf_score) + \"_low_conf_minority\"] = evaluation\n",
    "            metrics[i][\"FN 05 \" + str(conf_score)+\"_support_low_conf_minority\"] = support'''\n",
    "\n",
    "            evaluation, support = finetune_more_sublabels(dataset_2, conf_score, fold_dataset[\"train\"], label_num, fold_dataset[\"validation\"], training_args, mode=\"confidence\")\n",
    "            metrics[i][\"FN 07 \" + str(conf_score)+ \"_low_conf_minority\"] = evaluation\n",
    "            metrics[i][\"FN 07 \" + str(conf_score)+\"_support_low_conf_minority\"] = support\n",
    "\n",
    "            '''evaluation, support = finetune_more_sublabels(dataset_3, conf_score, fold_dataset[\"train\"], label_num, fold_dataset[\"validation\"], training_args, mode=\"confidence\")\n",
    "            metrics[i][\"FN 095 \" + str(conf_score) + \"_low_conf_minority\"] = evaluation\n",
    "            metrics[i][\"FN 095 \" + str(conf_score)+\"_support_low_conf_minority\"] = support\n",
    "\n",
    "            evaluation, support = finetune_more_sublabels(dataset_3, conf_score, fold_dataset[\"train\"], label_num, fold_dataset[\"validation\"], training_args, mode=\"confidence\")\n",
    "            metrics[i][\"no FN \" + str(conf_score)+ \"_low_conf_minority\"] = evaluation\n",
    "            metrics[i][\"no FN \" + str(conf_score)+\"_support_low_conf_minority\"] = support'''\n",
    "\n",
    "            metrics_df = pd.DataFrame.from_dict({(i,j): metrics[i][j]\n",
    "                            for i in metrics.keys() \n",
    "                            for j in metrics[i].keys()},\n",
    "                        orient='columns').transpose()\n",
    "            #metrics_df.head()\n",
    "            metrics_df = pd.concat([metrics_old, metrics_df], ignore_index=True)\n",
    "            metrics_df.to_csv(\"metrics/stratified_sublabels_additional_tests.csv\")\n",
    "    i = i+1"
   ]
  },
  {
   "cell_type": "code",
   "execution_count": 12,
   "metadata": {},
   "outputs": [
    {
     "data": {
      "text/plain": [
       "(3333, 12)"
      ]
     },
     "execution_count": 12,
     "metadata": {},
     "output_type": "execute_result"
    }
   ],
   "source": [
    "forum_trains[i].shape"
   ]
  },
  {
   "cell_type": "code",
   "execution_count": 13,
   "metadata": {},
   "outputs": [
    {
     "data": {
      "text/plain": [
       "(992, 4)"
      ]
     },
     "execution_count": 13,
     "metadata": {},
     "output_type": "execute_result"
    }
   ],
   "source": [
    "predict.shape"
   ]
  },
  {
   "cell_type": "code",
   "execution_count": null,
   "metadata": {},
   "outputs": [],
   "source": [
    "for feature in features:\n",
    "    print(feature)\n",
    "    forum_vals, forum_trains = load_and_tokenize_training_set(\"../Ablation_Studies/forum/valence/train_valence_preproc.csv\")\n",
    "    training_args = TrainingArguments(\"original_forum\", evaluation_strategy=\"epoch\")\n",
    "    metrics = {}\n",
    "    for i in range(1):\n",
    "        print(i)\n",
    "        model = AutoModelForSequenceClassification.from_pretrained(\"bert-base-german-cased\", num_labels=label_num)\n",
    "        trainer = Trainer(model=model, args=training_args, train_dataset=forum_trains[i], eval_dataset=forum_vals[i], compute_metrics=compute_metrics)\n",
    "        trainer.train()\n",
    "        metrics[i] = trainer.evaluate()\n",
    "        dataset_1 = load_dataset(\"csv\", data_files=\"mot_05.csv\", split=\"train\")\n",
    "        dataset_2 = load_dataset(\"csv\", data_files=\"mot_07.csv\", split=\"train\")\n",
    "        dataset_3 = load_dataset(\"csv\", data_files=\"mot_095.csv\", split=\"train\")\n",
    "        #dataset_4 = load_dataset(\"csv\", data_files=\"new_data_both.csv\", split=\"train\")\n",
    "        pipe = TextClassificationPipeline(model=model, tokenizer=tokenizer, return_all_scores=True, device=0)\n",
    "        label_0_scores = []\n",
    "        label_1_scores = []\n",
    "        #label_2_scores = []\n",
    "        #label_3_scores = []\n",
    "        for out in pipe(KeyDataset(dataset_1, \"split\"), batch_size=8, truncation=\"only_first\"):\n",
    "            label_0_scores.append(out[0]['score'])\n",
    "            label_1_scores.append(out[1]['score'])\n",
    "           # label_2_scores.append(out[2]['score'])\n",
    "           # label_3_scores.append(out[3]['score'])\n",
    "        pred_train_df_1 = pd.DataFrame({\"split\": dataset_1[:]['split'], \"0\":label_0_scores, \"1\": label_1_scores#, \"2\": label_2_scores, \"3\": label_3_scores \n",
    "                                       })\n",
    "        label_0_scores = []\n",
    "        label_1_scores = []\n",
    "       # label_2_scores = []\n",
    "       # label_3_scores = []\n",
    "        for out in pipe(KeyDataset(dataset_2, \"split\"), batch_size=8, truncation=\"only_first\"):\n",
    "            label_0_scores.append(out[0]['score'])\n",
    "            label_1_scores.append(out[1]['score'])\n",
    "            #label_2_scores.append(out[2]['score'])\n",
    "            #label_3_scores.append(out[3]['score'])\n",
    "        pred_train_df_2 = pd.DataFrame({\"split\": dataset_2[:]['split'], \"0\":label_0_scores, \"1\": label_1_scores#, \"2\": label_2_scores, \"3\": label_3_scores \n",
    "                                       })\n",
    "        label_0_scores = []\n",
    "        label_1_scores = []\n",
    "        #label_2_scores = []\n",
    "        #label_3_scores = []\n",
    "        for out in pipe(KeyDataset(dataset_3, \"split\"), batch_size=8, truncation=\"only_first\"):\n",
    "            label_0_scores.append(out[0]['score'])\n",
    "            label_1_scores.append(out[1]['score'])\n",
    "           # label_2_scores.append(out[2]['score'])\n",
    "           # label_3_scores.append(out[3]['score'])\n",
    "        pred_train_df_3 = pd.DataFrame({\"split\": dataset_3[:]['split'], \"0\":label_0_scores, \"1\": label_1_scores#, \"2\": label_2_scores, \"3\": label_3_scores  \n",
    "                                       })\n",
    "        '''label_0_scores = []\n",
    "        label_1_scores = []\n",
    "        label_2_scores = []\n",
    "        label_3_scores = []\n",
    "        for out in pipe(KeyDataset(dataset_4, \"split\"), batch_size=8, truncation=\"only_first\"):\n",
    "            label_0_scores.append(out[0]['score'])\n",
    "            label_1_scores.append(out[1]['score'])\n",
    "            label_2_scores.append(out[2]['score'])\n",
    "            label_3_scores.append(out[3]['score'])\n",
    "        pred_train_df_4 = pd.DataFrame({\"split\": dataset_4[:]['split'], \"0\":label_0_scores, \"1\": label_1_scores, \"2\": label_2_scores, \"3\": label_3_scores  })'''\n",
    "        for conf_score in conf_scores:\n",
    "            print(conf_score)\n",
    "            _1 = pred_train_df_1[pred_train_df_1[\"0\"] > conf_score].copy()\n",
    "            a_1 = pred_train_df_1[pred_train_df_1[\"1\"] > conf_score].copy()\n",
    "            #d_1 = pred_train_df_1[pred_train_df_1[\"2\"] > conf_score].copy()\n",
    "            #n_1 = pred_train_df_1[pred_train_df_1[\"3\"] > conf_score].copy()\n",
    "            _1[\"labels\"] = 0\n",
    "            a_1[\"labels\"] = 1\n",
    "           # d_1[\"labels\"] = 2\n",
    "           # n_1[\"labels\"] = 3\n",
    "            predict_1 = pd.concat([_1,a_1#, d_1, n_1\n",
    "                                  ]).sample(frac=1)\n",
    "            predict_1.rename(columns={\"split\":\"Sentence\"}, inplace=True)\n",
    "            predict_1.to_csv(\"enhanced_test_1.csv\")\n",
    "            enhanced_pred_1 = load_tokenize_enhanced_set(\"enhanced_test_1.csv\")\n",
    "            enhanced_1 = concatenate_datasets([forum_trains[i], enhanced_pred_1])\n",
    "            enhanced_1 = enhanced_1.shuffle()\n",
    "            model = AutoModelForSequenceClassification.from_pretrained(\"bert-base-german-cased\", num_labels=label_num)\n",
    "            trainer = Trainer(model=model, args=training_args, train_dataset=enhanced_1, eval_dataset=forum_vals[i], compute_metrics=compute_metrics)\n",
    "            trainer.train()\n",
    "            metrics[i][\"FN 05 \" + str(conf_score)] = trainer.evaluate()\n",
    "            trainer.save_model(\"classif/valence_FN_05_\"+str(conf_score)+\"_model\")\n",
    "            _2 = pred_train_df_2[pred_train_df_2[\"0\"] > conf_score].copy()\n",
    "            a_2 = pred_train_df_2[pred_train_df_2[\"1\"] > conf_score].copy()\n",
    "            #d_2 = pred_train_df_2[pred_train_df_2[\"2\"] > conf_score].copy()\n",
    "            #n_2 = pred_train_df_2[pred_train_df_2[\"3\"] > conf_score].copy()\n",
    "            _2[\"labels\"] = 0\n",
    "            a_2[\"labels\"] = 1\n",
    "           # d_2[\"labels\"] = 2\n",
    "           # n_2[\"labels\"] = 3\n",
    "            predict_2 = pd.concat([_2,a_2#, d_2, n_2\n",
    "                                  ]).sample(frac=1)\n",
    "            predict_2.rename(columns={\"split\":\"Sentence\"}, inplace=True)\n",
    "            predict_2.to_csv(\"enhanced_test_2.csv\")\n",
    "            enhanced_pred_2 = load_tokenize_enhanced_set(\"enhanced_test_2.csv\")\n",
    "            enhanced_2 = concatenate_datasets([forum_trains[i], enhanced_pred_2])\n",
    "            enhanced_2 = enhanced_2.shuffle()\n",
    "            model = AutoModelForSequenceClassification.from_pretrained(\"bert-base-german-cased\", num_labels=label_num)\n",
    "            trainer = Trainer(model=model, args=training_args, train_dataset=enhanced_2, eval_dataset=forum_vals[i], compute_metrics=compute_metrics)\n",
    "            trainer.train()\n",
    "            metrics[i][\"FN 07 \" + str(conf_score)] = trainer.evaluate()\n",
    "            trainer.save_model(\"classif/valence_FN_07_\"+str(conf_score)+\"_model\")\n",
    "            _3 = pred_train_df_3[pred_train_df_3[\"0\"] > conf_score].copy()\n",
    "            a_3 = pred_train_df_3[pred_train_df_3[\"1\"] > conf_score].copy()\n",
    "           # d_3 = pred_train_df_3[pred_train_df_3[\"2\"] > conf_score].copy()\n",
    "           # n_3 = pred_train_df_3[pred_train_df_3[\"3\"] > conf_score].copy()\n",
    "            _3[\"labels\"] = 0\n",
    "            a_3[\"labels\"] = 1\n",
    "           # d_3[\"labels\"] = 2\n",
    "           # n_3[\"labels\"] = 3\n",
    "            predict_3 = pd.concat([_3,a_3#, d_3, n_3\n",
    "                                  ]).sample(frac=1)\n",
    "            predict_3.rename(columns={\"split\":\"Sentence\"}, inplace=True)\n",
    "            predict_3.to_csv(\"enhanced_test_3.csv\")\n",
    "            enhanced_pred_3 = load_tokenize_enhanced_set(\"enhanced_test_3.csv\")\n",
    "            enhanced_3 = concatenate_datasets([forum_trains[i], enhanced_pred_3])\n",
    "            enhanced_3 = enhanced_3.shuffle()\n",
    "            model = AutoModelForSequenceClassification.from_pretrained(\"bert-base-german-cased\", num_labels=label_num)\n",
    "            trainer = Trainer(model=model, args=training_args, train_dataset=enhanced_3, eval_dataset=forum_vals[i], compute_metrics=compute_metrics)\n",
    "            trainer.train()\n",
    "            metrics[i][\"FN 095 \" + str(conf_score)] = trainer.evaluate()\n",
    "            '''_4 = pred_train_df_4[pred_train_df_4[\"0\"] > conf_score].copy()\n",
    "            a_4 = pred_train_df_4[pred_train_df_4[\"1\"] > conf_score].copy()\n",
    "            d_4 = pred_train_df_4[pred_train_df_4[\"2\"] > conf_score].copy()\n",
    "            n_4 = pred_train_df_4[pred_train_df_4[\"3\"] > conf_score].copy()\n",
    "            _4[\"labels\"] = 0\n",
    "            a_4[\"labels\"] = 1\n",
    "            d_4[\"labels\"] = 2\n",
    "            n_4[\"labels\"] = 3\n",
    "            predict_4 = pd.concat([_4,a_4, d_4, n_4]).sample(frac=1)\n",
    "            predict_4.rename(columns={\"split\":\"Sentence\"}, inplace=True)\n",
    "            predict_4.to_csv(\"enhanced_test_4.csv\")\n",
    "            enhanced_pred_4 = load_tokenize_enhanced_set(\"enhanced_test_4.csv\")\n",
    "            enhanced_4 = concatenate_datasets([forum_trains[i], enhanced_pred_4])\n",
    "            enhanced_4 = enhanced_4.shuffle()\n",
    "            model = AutoModelForSequenceClassification.from_pretrained(\"bert-base-german-cased\", num_labels=label_num)\n",
    "            trainer = Trainer(model=model, args=training_args, train_dataset=enhanced_4, eval_dataset=forum_vals[i], compute_metrics=compute_metrics)\n",
    "            trainer.train()\n",
    "            metrics[i][\"no FN \" + str(conf_score)] = trainer.evaluate()'''\n",
    "            trainer.save_model(\"classif/valence_FN_095_\"+str(conf_score)+\"_model\")\n",
    "            metrics_df = pd.DataFrame.from_dict({(i,j): metrics[i][j]\n",
    "                               for i in metrics.keys() \n",
    "                               for j in metrics[i].keys()},\n",
    "                           orient='columns').transpose()\n",
    "        #metrics_df.head()\n",
    "            metrics_df.to_csv(\"metrics/valence_FN_mot_test_sets_metrics_average_none.csv\")"
   ]
  }
 ],
 "metadata": {
  "kernelspec": {
   "display_name": "Python 3 (ipykernel)",
   "language": "python",
   "name": "python3"
  },
  "language_info": {
   "codemirror_mode": {
    "name": "ipython",
    "version": 3
   },
   "file_extension": ".py",
   "mimetype": "text/x-python",
   "name": "python",
   "nbconvert_exporter": "python",
   "pygments_lexer": "ipython3",
   "version": "3.9.13"
  }
 },
 "nbformat": 4,
 "nbformat_minor": 4
}
