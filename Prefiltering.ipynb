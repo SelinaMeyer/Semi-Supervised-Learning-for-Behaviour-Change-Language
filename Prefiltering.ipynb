{
 "cells": [
  {
   "cell_type": "code",
   "execution_count": null,
   "id": "7789b912-9a17-4cf5-9043-0a80d3c59c6d",
   "metadata": {},
   "outputs": [],
   "source": [
    "!pip install transformers\n",
    "!pip install keras\n",
    "!pip install Sentencepiece\n",
    "!pip install torch torchvision torchaudio --extra-index-url https://download.pytorch.org/whl/cu113\n",
    "!pip install datasets\n",
    "!pip install -U scikit-learn"
   ]
  },
  {
   "cell_type": "code",
   "execution_count": 6,
   "id": "2c7a140a-79ae-4a5d-8cf4-c89427388e21",
   "metadata": {},
   "outputs": [],
   "source": [
    "import os\n",
    "os.environ[\"CUDA_DEVICE_ORDER\"]=\"PCI_BUS_ID\"\n",
    "os.environ[\"CUDA_VISIBLE_DEVICES\"]=\"1\"\n",
    "os.environ[\"WANDB_DISABLED\"] = \"true\""
   ]
  },
  {
   "cell_type": "code",
   "execution_count": 7,
   "id": "df10a018-dd26-4048-9156-9c8c06815a8e",
   "metadata": {},
   "outputs": [],
   "source": [
    "import transformers\n",
    "import torch\n",
    "#import keras\n",
    "from datasets import load_dataset, concatenate_datasets\n",
    "\n",
    "import numpy as np\n",
    "import pandas as pd\n",
    "import seaborn as sns\n",
    "import matplotlib.pyplot as plt\n",
    "\n",
    "from functions import *\n",
    "\n",
    "from sklearn.metrics import confusion_matrix, precision_recall_fscore_support\n",
    "from transformers import AutoModelForSequenceClassification, TrainingArguments, Trainer, AutoTokenizer"
   ]
  },
  {
   "cell_type": "code",
   "execution_count": 3,
   "id": "a5dadafe-cf10-46a3-a145-d4d02ae535d4",
   "metadata": {},
   "outputs": [
    {
     "data": {
      "text/html": [
       "<div>\n",
       "<style scoped>\n",
       "    .dataframe tbody tr th:only-of-type {\n",
       "        vertical-align: middle;\n",
       "    }\n",
       "\n",
       "    .dataframe tbody tr th {\n",
       "        vertical-align: top;\n",
       "    }\n",
       "\n",
       "    .dataframe thead th {\n",
       "        text-align: right;\n",
       "    }\n",
       "</style>\n",
       "<table border=\"1\" class=\"dataframe\">\n",
       "  <thead>\n",
       "    <tr style=\"text-align: right;\">\n",
       "      <th></th>\n",
       "      <th>index</th>\n",
       "      <th>title</th>\n",
       "      <th>thread_id</th>\n",
       "      <th>post_id</th>\n",
       "      <th>Satz-Id</th>\n",
       "      <th>date</th>\n",
       "      <th>username</th>\n",
       "      <th>split</th>\n",
       "    </tr>\n",
       "  </thead>\n",
       "  <tbody>\n",
       "    <tr>\n",
       "      <th>0</th>\n",
       "      <td>0</td>\n",
       "      <td>Milli's Weg - über's MMK zur OP</td>\n",
       "      <td>98262</td>\n",
       "      <td>1962865</td>\n",
       "      <td>1</td>\n",
       "      <td>17. Juli 2022, 23:34</td>\n",
       "      <td>Milli84</td>\n",
       "      <td>so..</td>\n",
       "    </tr>\n",
       "    <tr>\n",
       "      <th>1</th>\n",
       "      <td>1</td>\n",
       "      <td>Milli's Weg - über's MMK zur OP</td>\n",
       "      <td>98262</td>\n",
       "      <td>1962865</td>\n",
       "      <td>2</td>\n",
       "      <td>17. Juli 2022, 23:34</td>\n",
       "      <td>Milli84</td>\n",
       "      <td>seit gut 3 Wochen habe ich nach jeder 2-3.</td>\n",
       "    </tr>\n",
       "    <tr>\n",
       "      <th>2</th>\n",
       "      <td>2</td>\n",
       "      <td>Milli's Weg - über's MMK zur OP</td>\n",
       "      <td>98262</td>\n",
       "      <td>1962865</td>\n",
       "      <td>3</td>\n",
       "      <td>17. Juli 2022, 23:34</td>\n",
       "      <td>Milli84</td>\n",
       "      <td>Mahlzeit üblen Durchfall.</td>\n",
       "    </tr>\n",
       "    <tr>\n",
       "      <th>3</th>\n",
       "      <td>3</td>\n",
       "      <td>Milli's Weg - über's MMK zur OP</td>\n",
       "      <td>98262</td>\n",
       "      <td>1962865</td>\n",
       "      <td>4</td>\n",
       "      <td>17. Juli 2022, 23:34</td>\n",
       "      <td>Milli84</td>\n",
       "      <td>Die Blähungen werden wieder schlimmer..</td>\n",
       "    </tr>\n",
       "    <tr>\n",
       "      <th>4</th>\n",
       "      <td>4</td>\n",
       "      <td>Milli's Weg - über's MMK zur OP</td>\n",
       "      <td>98262</td>\n",
       "      <td>1962865</td>\n",
       "      <td>5</td>\n",
       "      <td>17. Juli 2022, 23:34</td>\n",
       "      <td>Milli84</td>\n",
       "      <td>für morgen früh steht auf dem Plan, dass ich...</td>\n",
       "    </tr>\n",
       "  </tbody>\n",
       "</table>\n",
       "</div>"
      ],
      "text/plain": [
       "   index                            title  thread_id  post_id  Satz-Id  \\\n",
       "0      0  Milli's Weg - über's MMK zur OP      98262  1962865        1   \n",
       "1      1  Milli's Weg - über's MMK zur OP      98262  1962865        2   \n",
       "2      2  Milli's Weg - über's MMK zur OP      98262  1962865        3   \n",
       "3      3  Milli's Weg - über's MMK zur OP      98262  1962865        4   \n",
       "4      4  Milli's Weg - über's MMK zur OP      98262  1962865        5   \n",
       "\n",
       "                   date username  \\\n",
       "0  17. Juli 2022, 23:34  Milli84   \n",
       "1  17. Juli 2022, 23:34  Milli84   \n",
       "2  17. Juli 2022, 23:34  Milli84   \n",
       "3  17. Juli 2022, 23:34  Milli84   \n",
       "4  17. Juli 2022, 23:34  Milli84   \n",
       "\n",
       "                                               split  \n",
       "0                                               so..  \n",
       "1         seit gut 3 Wochen habe ich nach jeder 2-3.  \n",
       "2                          Mahlzeit üblen Durchfall.  \n",
       "3            Die Blähungen werden wieder schlimmer..  \n",
       "4    für morgen früh steht auf dem Plan, dass ich...  "
      ]
     },
     "execution_count": 3,
     "metadata": {},
     "output_type": "execute_result"
    }
   ],
   "source": [
    "allgemein = pd.read_csv(\"new_data_allgemein.csv\", sep=\";\", index_col=\"Unnamed: 0\")\n",
    "psycho = pd.read_csv(\"new_data_PsychoTherapie.csv\", sep=\";\", index_col=\"Unnamed: 0\")\n",
    "new = pd.concat([allgemein, psycho])\n",
    "new.head()"
   ]
  },
  {
   "cell_type": "code",
   "execution_count": 4,
   "id": "08664be1-ef6d-4e66-94e9-ebfabc538f35",
   "metadata": {},
   "outputs": [],
   "source": [
    "new.to_csv(\"new_data_both.csv\")"
   ]
  },
  {
   "cell_type": "code",
   "execution_count": 8,
   "id": "035f26da-38e5-4c15-81aa-107ed27793a1",
   "metadata": {},
   "outputs": [
    {
     "name": "stderr",
     "output_type": "stream",
     "text": [
      "Using custom data configuration default-40b45abc75636b27\n",
      "Found cached dataset csv (/home/jovyan/.cache/huggingface/datasets/csv/default-40b45abc75636b27/0.0.0/652c3096f041ee27b04d2232d41f10547a8fecda3e284a79a0ec4053c916ef7a)\n"
     ]
    }
   ],
   "source": [
    "dataset = load_dataset(\"csv\", data_files=\"new_data_both.csv\", split=\"train\")"
   ]
  },
  {
   "cell_type": "code",
   "execution_count": 4,
   "id": "087f4338-4c01-43ef-84b4-0538f81bda82",
   "metadata": {},
   "outputs": [],
   "source": [
    "sentences = new[\"split\"].to_list()\n",
    "#sentences_test = gpt_test[\"Sentence\"].to_list()\n",
    "splitted_sent = np.array_split(sentences, 10)"
   ]
  },
  {
   "cell_type": "code",
   "execution_count": 15,
   "id": "fb5d30d3-b157-46da-8f28-f2e2d69aab1d",
   "metadata": {},
   "outputs": [],
   "source": [
    "from transformers import TextClassificationPipeline\n",
    "from transformers.pipelines.pt_utils import KeyDataset\n",
    "\n",
    "cuda = torch.device('cuda')\n",
    "model = AutoModelForSequenceClassification.from_pretrained(\"../MI_Data/Bert_Finetuning/models/FN_finetuned_gbert/model\", local_files_only=True).cuda()\n",
    "tokenizer = AutoTokenizer.from_pretrained(\"deepset/gbert-base\")\n",
    "pipe = TextClassificationPipeline(model=model, tokenizer=tokenizer, return_all_scores=True, device=0)"
   ]
  },
  {
   "cell_type": "code",
   "execution_count": 17,
   "id": "f465839d-6d73-4800-8cb8-028486831636",
   "metadata": {},
   "outputs": [],
   "source": [
    "sents = []\n",
    "label_0_scores = []\n",
    "label_1_scores = []\n",
    "\n",
    "'''for entry in splitted_sent:\n",
    "    with pipe.device_placement():\n",
    "        torch.cuda.empty_cache()\n",
    "        predictions_train = pipe(list(entry), truncation=True, batch_size=4)\n",
    "        for entry in predictions_train:\n",
    "            sents.append(entry)\n",
    "            label_0_scores.append(entry[0]['score'])\n",
    "            label_1_scores.append(entry[1]['score'])'''\n",
    "\n",
    "for out in pipe(KeyDataset(dataset, \"split\"), batch_size=8, truncation=\"only_first\"):\n",
    "            label_0_scores.append(out[0]['score'])\n",
    "            label_1_scores.append(out[1]['score'])"
   ]
  },
  {
   "cell_type": "code",
   "execution_count": 18,
   "id": "8232c078-65ef-4324-8f90-1b8c5a9b7e2f",
   "metadata": {},
   "outputs": [],
   "source": [
    "#len(label_0_scores)\n",
    "pred_train_df = pd.DataFrame({\"split\": dataset[:]['split'], \"0\":label_0_scores, \"1\": label_1_scores })"
   ]
  },
  {
   "cell_type": "code",
   "execution_count": 19,
   "id": "30cc38f0-d41f-4745-ab0f-07f52f4689cb",
   "metadata": {},
   "outputs": [
    {
     "data": {
      "text/html": [
       "<div>\n",
       "<style scoped>\n",
       "    .dataframe tbody tr th:only-of-type {\n",
       "        vertical-align: middle;\n",
       "    }\n",
       "\n",
       "    .dataframe tbody tr th {\n",
       "        vertical-align: top;\n",
       "    }\n",
       "\n",
       "    .dataframe thead th {\n",
       "        text-align: right;\n",
       "    }\n",
       "</style>\n",
       "<table border=\"1\" class=\"dataframe\">\n",
       "  <thead>\n",
       "    <tr style=\"text-align: right;\">\n",
       "      <th></th>\n",
       "      <th>split</th>\n",
       "      <th>0</th>\n",
       "      <th>1</th>\n",
       "    </tr>\n",
       "  </thead>\n",
       "  <tbody>\n",
       "    <tr>\n",
       "      <th>0</th>\n",
       "      <td>so..</td>\n",
       "      <td>0.998540</td>\n",
       "      <td>0.001460</td>\n",
       "    </tr>\n",
       "    <tr>\n",
       "      <th>1</th>\n",
       "      <td>seit gut 3 Wochen habe ich nach jeder 2-3.</td>\n",
       "      <td>0.030142</td>\n",
       "      <td>0.969858</td>\n",
       "    </tr>\n",
       "    <tr>\n",
       "      <th>2</th>\n",
       "      <td>Mahlzeit üblen Durchfall.</td>\n",
       "      <td>0.028735</td>\n",
       "      <td>0.971265</td>\n",
       "    </tr>\n",
       "    <tr>\n",
       "      <th>3</th>\n",
       "      <td>Die Blähungen werden wieder schlimmer..</td>\n",
       "      <td>0.972059</td>\n",
       "      <td>0.027941</td>\n",
       "    </tr>\n",
       "    <tr>\n",
       "      <th>4</th>\n",
       "      <td>für morgen früh steht auf dem Plan, dass ich...</td>\n",
       "      <td>0.866028</td>\n",
       "      <td>0.133972</td>\n",
       "    </tr>\n",
       "    <tr>\n",
       "      <th>...</th>\n",
       "      <td>...</td>\n",
       "      <td>...</td>\n",
       "      <td>...</td>\n",
       "    </tr>\n",
       "    <tr>\n",
       "      <th>987</th>\n",
       "      <td>Was ich damit sagen will, nicht aufgeben.</td>\n",
       "      <td>0.991707</td>\n",
       "      <td>0.008293</td>\n",
       "    </tr>\n",
       "    <tr>\n",
       "      <th>988</th>\n",
       "      <td>Jeder Stein der sich in den Weg stellt, ist e...</td>\n",
       "      <td>0.964459</td>\n",
       "      <td>0.035541</td>\n",
       "    </tr>\n",
       "    <tr>\n",
       "      <th>989</th>\n",
       "      <td>Wenn nicht, na dann stellt sich der gleiche S...</td>\n",
       "      <td>0.998407</td>\n",
       "      <td>0.001593</td>\n",
       "    </tr>\n",
       "    <tr>\n",
       "      <th>990</th>\n",
       "      <td>Ist nicht weiter tragisch ....</td>\n",
       "      <td>0.003337</td>\n",
       "      <td>0.996663</td>\n",
       "    </tr>\n",
       "    <tr>\n",
       "      <th>991</th>\n",
       "      <td>ich wünsche dir auf alle Fälle ganz viel Erfo...</td>\n",
       "      <td>0.999001</td>\n",
       "      <td>0.000999</td>\n",
       "    </tr>\n",
       "  </tbody>\n",
       "</table>\n",
       "<p>992 rows × 3 columns</p>\n",
       "</div>"
      ],
      "text/plain": [
       "                                                 split         0         1\n",
       "0                                                 so..  0.998540  0.001460\n",
       "1           seit gut 3 Wochen habe ich nach jeder 2-3.  0.030142  0.969858\n",
       "2                            Mahlzeit üblen Durchfall.  0.028735  0.971265\n",
       "3              Die Blähungen werden wieder schlimmer..  0.972059  0.027941\n",
       "4      für morgen früh steht auf dem Plan, dass ich...  0.866028  0.133972\n",
       "..                                                 ...       ...       ...\n",
       "987          Was ich damit sagen will, nicht aufgeben.  0.991707  0.008293\n",
       "988   Jeder Stein der sich in den Weg stellt, ist e...  0.964459  0.035541\n",
       "989   Wenn nicht, na dann stellt sich der gleiche S...  0.998407  0.001593\n",
       "990                     Ist nicht weiter tragisch ....  0.003337  0.996663\n",
       "991   ich wünsche dir auf alle Fälle ganz viel Erfo...  0.999001  0.000999\n",
       "\n",
       "[992 rows x 3 columns]"
      ]
     },
     "execution_count": 19,
     "metadata": {},
     "output_type": "execute_result"
    }
   ],
   "source": [
    "pred_train_df"
   ]
  },
  {
   "cell_type": "code",
   "execution_count": 20,
   "id": "40ef71b9-38e4-4d15-a7a7-1009917e5b50",
   "metadata": {},
   "outputs": [],
   "source": [
    "pred_train_df.to_csv(\"FN_mot_predictions.csv\")"
   ]
  },
  {
   "cell_type": "code",
   "execution_count": 9,
   "id": "16937be7-5a97-4572-be51-11c9c743f728",
   "metadata": {},
   "outputs": [],
   "source": [
    "pred_train_df = pd.read_csv(\"FN_mot_predictions.csv\", index_col=\"Unnamed: 0\")"
   ]
  },
  {
   "cell_type": "code",
   "execution_count": 10,
   "id": "37f43a0f-db38-4ee0-b66d-08b9fb7f39f4",
   "metadata": {},
   "outputs": [
    {
     "data": {
      "text/html": [
       "<div>\n",
       "<style scoped>\n",
       "    .dataframe tbody tr th:only-of-type {\n",
       "        vertical-align: middle;\n",
       "    }\n",
       "\n",
       "    .dataframe tbody tr th {\n",
       "        vertical-align: top;\n",
       "    }\n",
       "\n",
       "    .dataframe thead th {\n",
       "        text-align: right;\n",
       "    }\n",
       "</style>\n",
       "<table border=\"1\" class=\"dataframe\">\n",
       "  <thead>\n",
       "    <tr style=\"text-align: right;\">\n",
       "      <th></th>\n",
       "      <th>0</th>\n",
       "      <th>1</th>\n",
       "    </tr>\n",
       "  </thead>\n",
       "  <tbody>\n",
       "    <tr>\n",
       "      <th>count</th>\n",
       "      <td>992.000000</td>\n",
       "      <td>992.000000</td>\n",
       "    </tr>\n",
       "    <tr>\n",
       "      <th>mean</th>\n",
       "      <td>0.746963</td>\n",
       "      <td>0.253037</td>\n",
       "    </tr>\n",
       "    <tr>\n",
       "      <th>std</th>\n",
       "      <td>0.398731</td>\n",
       "      <td>0.398731</td>\n",
       "    </tr>\n",
       "    <tr>\n",
       "      <th>min</th>\n",
       "      <td>0.001567</td>\n",
       "      <td>0.000593</td>\n",
       "    </tr>\n",
       "    <tr>\n",
       "      <th>25%</th>\n",
       "      <td>0.475100</td>\n",
       "      <td>0.001922</td>\n",
       "    </tr>\n",
       "    <tr>\n",
       "      <th>50%</th>\n",
       "      <td>0.993599</td>\n",
       "      <td>0.006401</td>\n",
       "    </tr>\n",
       "    <tr>\n",
       "      <th>75%</th>\n",
       "      <td>0.998078</td>\n",
       "      <td>0.524900</td>\n",
       "    </tr>\n",
       "    <tr>\n",
       "      <th>max</th>\n",
       "      <td>0.999407</td>\n",
       "      <td>0.998433</td>\n",
       "    </tr>\n",
       "  </tbody>\n",
       "</table>\n",
       "</div>"
      ],
      "text/plain": [
       "                0           1\n",
       "count  992.000000  992.000000\n",
       "mean     0.746963    0.253037\n",
       "std      0.398731    0.398731\n",
       "min      0.001567    0.000593\n",
       "25%      0.475100    0.001922\n",
       "50%      0.993599    0.006401\n",
       "75%      0.998078    0.524900\n",
       "max      0.999407    0.998433"
      ]
     },
     "execution_count": 10,
     "metadata": {},
     "output_type": "execute_result"
    }
   ],
   "source": [
    "pred_train_df.describe()"
   ]
  },
  {
   "cell_type": "code",
   "execution_count": 17,
   "id": "a6cc8490-3255-4a57-9cbc-fb935a5ad7f3",
   "metadata": {},
   "outputs": [],
   "source": [
    "mot = pred_train_df[pred_train_df[\"1\"] > 0.95]"
   ]
  },
  {
   "cell_type": "code",
   "execution_count": 18,
   "id": "92cd0bba-9e33-4abb-9604-d85c1ea86acb",
   "metadata": {},
   "outputs": [
    {
     "data": {
      "text/plain": [
       "166"
      ]
     },
     "execution_count": 18,
     "metadata": {},
     "output_type": "execute_result"
    }
   ],
   "source": [
    "len(mot)"
   ]
  },
  {
   "cell_type": "code",
   "execution_count": 19,
   "id": "440cfdeb-337d-4c24-bd3e-d241811a9f06",
   "metadata": {},
   "outputs": [],
   "source": [
    "mot.to_csv(\"mot_095.csv\")"
   ]
  },
  {
   "cell_type": "code",
   "execution_count": 109,
   "id": "e3e8cfed-5ff3-49ae-a724-58a8830647a5",
   "metadata": {},
   "outputs": [
    {
     "name": "stderr",
     "output_type": "stream",
     "text": [
      "/opt/conda/lib/python3.9/site-packages/transformers/pipelines/text_classification.py:89: UserWarning: `return_all_scores` is now deprecated, use `top_k=1` if you want similar functionnality\n",
      "  warnings.warn(\n"
     ]
    }
   ],
   "source": [
    "mot_sent = mot[\"split\"].to_list()\n",
    "splitted_mot = np.array_split(mot_sent, 10)\n",
    "\n",
    "cuda = torch.device('cuda')\n",
    "model = AutoModelForSequenceClassification.from_pretrained(\"../Ablation_Studies/classif/valence/bert-base-german-cased_model\", local_files_only=True).cuda()\n",
    "tokenizer = AutoTokenizer.from_pretrained(\"bert-base-german-cased\")\n",
    "pipe = TextClassificationPipeline(model=model, tokenizer=tokenizer, return_all_scores=True, device=0)\n",
    "\n",
    "label_0_scores = []\n",
    "label_1_scores = []\n",
    "\n",
    "for entry in splitted_mot:\n",
    "    with pipe.device_placement():\n",
    "        torch.cuda.empty_cache()\n",
    "        predictions_train = pipe(list(entry), truncation=True, batch_size=4)\n",
    "        for entry in predictions_train:\n",
    "            label_0_scores.append(entry[0]['score'])\n",
    "            label_1_scores.append(entry[1]['score'])"
   ]
  },
  {
   "cell_type": "code",
   "execution_count": 110,
   "id": "5e15e442-9838-4e8e-bfc9-4eeee14ac7c2",
   "metadata": {},
   "outputs": [],
   "source": [
    "pred_mot_df = pd.DataFrame({\"split\": mot_sent, \"0\":label_0_scores, \"1\": label_1_scores })"
   ]
  },
  {
   "cell_type": "code",
   "execution_count": 43,
   "id": "16b83fc5-c33a-410e-9802-17609deb7fde",
   "metadata": {},
   "outputs": [],
   "source": [
    "pred_mot_df.to_csv(\"mot_valence_preds.csv\")"
   ]
  },
  {
   "cell_type": "code",
   "execution_count": 28,
   "id": "c8810272-b755-4a59-af4c-74295d81d773",
   "metadata": {},
   "outputs": [],
   "source": [
    "pred_mot_df = pd.read_csv(\"valence_predictions.csv\")"
   ]
  },
  {
   "cell_type": "code",
   "execution_count": 29,
   "id": "0cdd0d2e-85a3-4cbe-9df0-790d77e70cf9",
   "metadata": {},
   "outputs": [],
   "source": [
    "pos = pred_mot_df[pred_mot_df[\"1\"] > 0.95].copy()"
   ]
  },
  {
   "cell_type": "code",
   "execution_count": 30,
   "id": "7241a368-8a18-426c-a472-09f32dfbcd7b",
   "metadata": {},
   "outputs": [],
   "source": [
    "neg = pred_mot_df[pred_mot_df[\"0\"] > 0.95].copy()"
   ]
  },
  {
   "cell_type": "code",
   "execution_count": 31,
   "id": "a8332063-5daa-425b-9299-563b60f09d1b",
   "metadata": {},
   "outputs": [],
   "source": [
    "pos[\"labels\"] = 1\n",
    "neg[\"labels\"] = 0"
   ]
  },
  {
   "cell_type": "code",
   "execution_count": 32,
   "id": "827bd7b5-0859-4e3f-bf9c-f176b51d1001",
   "metadata": {},
   "outputs": [
    {
     "data": {
      "text/html": [
       "<div>\n",
       "<style scoped>\n",
       "    .dataframe tbody tr th:only-of-type {\n",
       "        vertical-align: middle;\n",
       "    }\n",
       "\n",
       "    .dataframe tbody tr th {\n",
       "        vertical-align: top;\n",
       "    }\n",
       "\n",
       "    .dataframe thead th {\n",
       "        text-align: right;\n",
       "    }\n",
       "</style>\n",
       "<table border=\"1\" class=\"dataframe\">\n",
       "  <thead>\n",
       "    <tr style=\"text-align: right;\">\n",
       "      <th></th>\n",
       "      <th>Unnamed: 0</th>\n",
       "      <th>split</th>\n",
       "      <th>0</th>\n",
       "      <th>1</th>\n",
       "      <th>labels</th>\n",
       "    </tr>\n",
       "  </thead>\n",
       "  <tbody>\n",
       "    <tr>\n",
       "      <th>765</th>\n",
       "      <td>765</td>\n",
       "      <td>Ich hoffe, du fühlst dich dort wohl und es w...</td>\n",
       "      <td>0.000428</td>\n",
       "      <td>0.999572</td>\n",
       "      <td>1</td>\n",
       "    </tr>\n",
       "    <tr>\n",
       "      <th>71</th>\n",
       "      <td>71</td>\n",
       "      <td>Da liege ich aber gerade mit der nächsten WHO...</td>\n",
       "      <td>0.001104</td>\n",
       "      <td>0.998896</td>\n",
       "      <td>1</td>\n",
       "    </tr>\n",
       "    <tr>\n",
       "      <th>903</th>\n",
       "      <td>903</td>\n",
       "      <td>Das sind ja durchaus auch Ansätze, die sich ...</td>\n",
       "      <td>0.000467</td>\n",
       "      <td>0.999533</td>\n",
       "      <td>1</td>\n",
       "    </tr>\n",
       "    <tr>\n",
       "      <th>197</th>\n",
       "      <td>197</td>\n",
       "      <td>Alles Gute jedenfalls für dich!</td>\n",
       "      <td>0.000893</td>\n",
       "      <td>0.999107</td>\n",
       "      <td>1</td>\n",
       "    </tr>\n",
       "    <tr>\n",
       "      <th>481</th>\n",
       "      <td>481</td>\n",
       "      <td>Das Gewicht selbst ignorierte ich, da ich mic...</td>\n",
       "      <td>0.995543</td>\n",
       "      <td>0.004457</td>\n",
       "      <td>0</td>\n",
       "    </tr>\n",
       "  </tbody>\n",
       "</table>\n",
       "</div>"
      ],
      "text/plain": [
       "     Unnamed: 0                                              split         0  \\\n",
       "765         765    Ich hoffe, du fühlst dich dort wohl und es w...  0.000428   \n",
       "71           71   Da liege ich aber gerade mit der nächsten WHO...  0.001104   \n",
       "903         903    Das sind ja durchaus auch Ansätze, die sich ...  0.000467   \n",
       "197         197                    Alles Gute jedenfalls für dich!  0.000893   \n",
       "481         481   Das Gewicht selbst ignorierte ich, da ich mic...  0.995543   \n",
       "\n",
       "            1  labels  \n",
       "765  0.999572       1  \n",
       "71   0.998896       1  \n",
       "903  0.999533       1  \n",
       "197  0.999107       1  \n",
       "481  0.004457       0  "
      ]
     },
     "execution_count": 32,
     "metadata": {},
     "output_type": "execute_result"
    }
   ],
   "source": [
    "mot = pd.concat([pos, neg]).sample(frac=1)\n",
    "mot.head()"
   ]
  },
  {
   "cell_type": "code",
   "execution_count": 33,
   "id": "2f566518-ff2d-4257-8bb2-f0be974fa045",
   "metadata": {},
   "outputs": [],
   "source": [
    "mot.drop(columns={\"0\",\"1\"},inplace=True)\n",
    "mot.rename(columns={\"split\": \"Sentence\"}, inplace=True)"
   ]
  },
  {
   "cell_type": "code",
   "execution_count": 34,
   "id": "5954d804-9075-47a9-ae99-51372e4844ad",
   "metadata": {},
   "outputs": [
    {
     "data": {
      "text/html": [
       "<div>\n",
       "<style scoped>\n",
       "    .dataframe tbody tr th:only-of-type {\n",
       "        vertical-align: middle;\n",
       "    }\n",
       "\n",
       "    .dataframe tbody tr th {\n",
       "        vertical-align: top;\n",
       "    }\n",
       "\n",
       "    .dataframe thead th {\n",
       "        text-align: right;\n",
       "    }\n",
       "</style>\n",
       "<table border=\"1\" class=\"dataframe\">\n",
       "  <thead>\n",
       "    <tr style=\"text-align: right;\">\n",
       "      <th></th>\n",
       "      <th>Unnamed: 0</th>\n",
       "      <th>Sentence</th>\n",
       "      <th>labels</th>\n",
       "    </tr>\n",
       "  </thead>\n",
       "  <tbody>\n",
       "    <tr>\n",
       "      <th>765</th>\n",
       "      <td>765</td>\n",
       "      <td>Ich hoffe, du fühlst dich dort wohl und es w...</td>\n",
       "      <td>1</td>\n",
       "    </tr>\n",
       "    <tr>\n",
       "      <th>71</th>\n",
       "      <td>71</td>\n",
       "      <td>Da liege ich aber gerade mit der nächsten WHO...</td>\n",
       "      <td>1</td>\n",
       "    </tr>\n",
       "    <tr>\n",
       "      <th>903</th>\n",
       "      <td>903</td>\n",
       "      <td>Das sind ja durchaus auch Ansätze, die sich ...</td>\n",
       "      <td>1</td>\n",
       "    </tr>\n",
       "    <tr>\n",
       "      <th>197</th>\n",
       "      <td>197</td>\n",
       "      <td>Alles Gute jedenfalls für dich!</td>\n",
       "      <td>1</td>\n",
       "    </tr>\n",
       "    <tr>\n",
       "      <th>481</th>\n",
       "      <td>481</td>\n",
       "      <td>Das Gewicht selbst ignorierte ich, da ich mic...</td>\n",
       "      <td>0</td>\n",
       "    </tr>\n",
       "  </tbody>\n",
       "</table>\n",
       "</div>"
      ],
      "text/plain": [
       "     Unnamed: 0                                           Sentence  labels\n",
       "765         765    Ich hoffe, du fühlst dich dort wohl und es w...       1\n",
       "71           71   Da liege ich aber gerade mit der nächsten WHO...       1\n",
       "903         903    Das sind ja durchaus auch Ansätze, die sich ...       1\n",
       "197         197                    Alles Gute jedenfalls für dich!       1\n",
       "481         481   Das Gewicht selbst ignorierte ich, da ich mic...       0"
      ]
     },
     "execution_count": 34,
     "metadata": {},
     "output_type": "execute_result"
    }
   ],
   "source": [
    "mot.head()"
   ]
  },
  {
   "cell_type": "code",
   "execution_count": 35,
   "id": "dd48cf6e-e82b-4122-8401-eff58117b09c",
   "metadata": {},
   "outputs": [
    {
     "data": {
      "text/html": [
       "<div>\n",
       "<style scoped>\n",
       "    .dataframe tbody tr th:only-of-type {\n",
       "        vertical-align: middle;\n",
       "    }\n",
       "\n",
       "    .dataframe tbody tr th {\n",
       "        vertical-align: top;\n",
       "    }\n",
       "\n",
       "    .dataframe thead th {\n",
       "        text-align: right;\n",
       "    }\n",
       "</style>\n",
       "<table border=\"1\" class=\"dataframe\">\n",
       "  <thead>\n",
       "    <tr style=\"text-align: right;\">\n",
       "      <th></th>\n",
       "      <th>Sentence</th>\n",
       "      <th>labels</th>\n",
       "      <th>function_Sentence</th>\n",
       "      <th>nonfunction_Sentence</th>\n",
       "      <th>non_noun_adj</th>\n",
       "      <th>non_noun_verb_adj</th>\n",
       "      <th>non_verb</th>\n",
       "      <th>non_verb_aux</th>\n",
       "      <th>non_noun</th>\n",
       "    </tr>\n",
       "  </thead>\n",
       "  <tbody>\n",
       "    <tr>\n",
       "      <th>14</th>\n",
       "      <td>Ich habe mich halt zusammengerissen und wenige...</td>\n",
       "      <td>1</td>\n",
       "      <td>Ich habe mich weniger der war sollte was</td>\n",
       "      <td>halt zusammengerissen und gegessen , kurs teue...</td>\n",
       "      <td>Ich habe mich halt zusammengerissen und wenige...</td>\n",
       "      <td>Ich habe mich halt und weniger , der war teuer...</td>\n",
       "      <td>Ich habe mich halt und weniger , der kurs war ...</td>\n",
       "      <td>Ich mich halt und weniger , der kurs teuer gen...</td>\n",
       "      <td>Ich habe mich halt zusammengerissen und wenige...</td>\n",
       "    </tr>\n",
       "    <tr>\n",
       "      <th>4164</th>\n",
       "      <td>ich habe so toll und erfolgreich 45kg abgenom...</td>\n",
       "      <td>1</td>\n",
       "      <td>ich habe</td>\n",
       "      <td>so toll und erfolgreich 45 kg abgenommen .</td>\n",
       "      <td>ich habe so toll und erfolgreich 45 abgenomm...</td>\n",
       "      <td>ich habe so toll und erfolgreich 45 .</td>\n",
       "      <td>ich habe so toll und erfolgreich 45 kg .</td>\n",
       "      <td>ich so toll und erfolgreich 45 kg .</td>\n",
       "      <td>ich habe so toll und erfolgreich 45 abgenomm...</td>\n",
       "    </tr>\n",
       "    <tr>\n",
       "      <th>3361</th>\n",
       "      <td>Schwimmen gehe ich nach wie vor und das war e...</td>\n",
       "      <td>1</td>\n",
       "      <td>ich das war es</td>\n",
       "      <td>Schwimmen gehe nach wie vor und auch schon .</td>\n",
       "      <td>gehe ich nach wie vor und das war es auch sc...</td>\n",
       "      <td>ich nach wie vor und das war es auch schon .</td>\n",
       "      <td>Schwimmen ich nach wie vor und das war es au...</td>\n",
       "      <td>Schwimmen ich nach wie vor und das es auch s...</td>\n",
       "      <td>gehe ich nach wie vor und das war es auch sc...</td>\n",
       "    </tr>\n",
       "    <tr>\n",
       "      <th>2741</th>\n",
       "      <td>Ich fühle mich als Dicke leider sauwohl.</td>\n",
       "      <td>0</td>\n",
       "      <td>Ich mich als</td>\n",
       "      <td>fühle Dicke leider sauwohl .</td>\n",
       "      <td>Ich fühle mich als leider sauwohl .</td>\n",
       "      <td>Ich mich als leider sauwohl .</td>\n",
       "      <td>Ich mich als Dicke leider sauwohl .</td>\n",
       "      <td>Ich mich als Dicke leider sauwohl .</td>\n",
       "      <td>Ich fühle mich als leider sauwohl .</td>\n",
       "    </tr>\n",
       "    <tr>\n",
       "      <th>696</th>\n",
       "      <td>es war mir alles egal, denn ich war stolz, da...</td>\n",
       "      <td>1</td>\n",
       "      <td>es war mir alles ich war ich mit meinem</td>\n",
       "      <td>egal , denn stolz , dass fetten Hinterteil i...</td>\n",
       "      <td>es war mir alles egal , denn ich war stolz ,...</td>\n",
       "      <td>es war mir alles egal , denn ich war stolz ,...</td>\n",
       "      <td>es war mir alles egal , denn ich war stolz ,...</td>\n",
       "      <td>es mir alles egal , denn ich stolz , dass ic...</td>\n",
       "      <td>es war mir alles egal , denn ich war stolz ,...</td>\n",
       "    </tr>\n",
       "  </tbody>\n",
       "</table>\n",
       "</div>"
      ],
      "text/plain": [
       "                                               Sentence  labels  \\\n",
       "14    Ich habe mich halt zusammengerissen und wenige...       1   \n",
       "4164   ich habe so toll und erfolgreich 45kg abgenom...       1   \n",
       "3361   Schwimmen gehe ich nach wie vor und das war e...       1   \n",
       "2741           Ich fühle mich als Dicke leider sauwohl.       0   \n",
       "696    es war mir alles egal, denn ich war stolz, da...       1   \n",
       "\n",
       "                             function_Sentence  \\\n",
       "14    Ich habe mich weniger der war sollte was   \n",
       "4164                                  ich habe   \n",
       "3361                            ich das war es   \n",
       "2741                              Ich mich als   \n",
       "696    es war mir alles ich war ich mit meinem   \n",
       "\n",
       "                                   nonfunction_Sentence  \\\n",
       "14    halt zusammengerissen und gegessen , kurs teue...   \n",
       "4164         so toll und erfolgreich 45 kg abgenommen .   \n",
       "3361       Schwimmen gehe nach wie vor und auch schon .   \n",
       "2741                       fühle Dicke leider sauwohl .   \n",
       "696     egal , denn stolz , dass fetten Hinterteil i...   \n",
       "\n",
       "                                           non_noun_adj  \\\n",
       "14    Ich habe mich halt zusammengerissen und wenige...   \n",
       "4164    ich habe so toll und erfolgreich 45 abgenomm...   \n",
       "3361    gehe ich nach wie vor und das war es auch sc...   \n",
       "2741                Ich fühle mich als leider sauwohl .   \n",
       "696     es war mir alles egal , denn ich war stolz ,...   \n",
       "\n",
       "                                      non_noun_verb_adj  \\\n",
       "14    Ich habe mich halt und weniger , der war teuer...   \n",
       "4164              ich habe so toll und erfolgreich 45 .   \n",
       "3361       ich nach wie vor und das war es auch schon .   \n",
       "2741                      Ich mich als leider sauwohl .   \n",
       "696     es war mir alles egal , denn ich war stolz ,...   \n",
       "\n",
       "                                               non_verb  \\\n",
       "14    Ich habe mich halt und weniger , der kurs war ...   \n",
       "4164           ich habe so toll und erfolgreich 45 kg .   \n",
       "3361    Schwimmen ich nach wie vor und das war es au...   \n",
       "2741                Ich mich als Dicke leider sauwohl .   \n",
       "696     es war mir alles egal , denn ich war stolz ,...   \n",
       "\n",
       "                                           non_verb_aux  \\\n",
       "14    Ich mich halt und weniger , der kurs teuer gen...   \n",
       "4164                ich so toll und erfolgreich 45 kg .   \n",
       "3361    Schwimmen ich nach wie vor und das es auch s...   \n",
       "2741                Ich mich als Dicke leider sauwohl .   \n",
       "696     es mir alles egal , denn ich stolz , dass ic...   \n",
       "\n",
       "                                               non_noun  \n",
       "14    Ich habe mich halt zusammengerissen und wenige...  \n",
       "4164    ich habe so toll und erfolgreich 45 abgenomm...  \n",
       "3361    gehe ich nach wie vor und das war es auch sc...  \n",
       "2741                Ich fühle mich als leider sauwohl .  \n",
       "696     es war mir alles egal , denn ich war stolz ,...  "
      ]
     },
     "execution_count": 35,
     "metadata": {},
     "output_type": "execute_result"
    }
   ],
   "source": [
    "orig = pd.read_csv(\"../Ablation_Studies/forum/valence/train_valence_preproc.csv\", index_col=\"Unnamed: 0\")\n",
    "orig.head()"
   ]
  },
  {
   "cell_type": "code",
   "execution_count": 36,
   "id": "dc53a2c8-13a5-4ddf-915e-ea7bced8792d",
   "metadata": {},
   "outputs": [],
   "source": [
    "orig = orig[[\"Sentence\", \"labels\"]]"
   ]
  },
  {
   "cell_type": "code",
   "execution_count": 37,
   "id": "7f7e520c-9230-40b4-8aff-cd441f484e01",
   "metadata": {},
   "outputs": [],
   "source": [
    "enhanced = pd.concat([orig, mot]).sample(frac=1)"
   ]
  },
  {
   "cell_type": "code",
   "execution_count": 38,
   "id": "0858965c-9d78-4287-867d-04e87a20681a",
   "metadata": {},
   "outputs": [],
   "source": [
    "enhanced.to_csv(\"enhanced_train_only_valence_pred_095.csv\")"
   ]
  },
  {
   "cell_type": "code",
   "execution_count": 39,
   "id": "c27c1b4f-5caf-43d1-b943-5dda9e8aa598",
   "metadata": {},
   "outputs": [
    {
     "data": {
      "text/plain": [
       "811"
      ]
     },
     "execution_count": 39,
     "metadata": {},
     "output_type": "execute_result"
    }
   ],
   "source": [
    "len(enhanced) - len(orig)"
   ]
  },
  {
   "cell_type": "code",
   "execution_count": 137,
   "id": "024d944d-d83e-4661-8cf6-19142f63f22b",
   "metadata": {},
   "outputs": [
    {
     "data": {
      "text/plain": [
       "166"
      ]
     },
     "execution_count": 137,
     "metadata": {},
     "output_type": "execute_result"
    }
   ],
   "source": [
    "enhanced = pd.read_csv(\"enhanced_train_all_05.csv\")\n",
    "len(enhanced) - len(orig)"
   ]
  }
 ],
 "metadata": {
  "kernelspec": {
   "display_name": "Python 3 (ipykernel)",
   "language": "python",
   "name": "python3"
  },
  "language_info": {
   "codemirror_mode": {
    "name": "ipython",
    "version": 3
   },
   "file_extension": ".py",
   "mimetype": "text/x-python",
   "name": "python",
   "nbconvert_exporter": "python",
   "pygments_lexer": "ipython3",
   "version": "3.9.13"
  }
 },
 "nbformat": 4,
 "nbformat_minor": 5
}
