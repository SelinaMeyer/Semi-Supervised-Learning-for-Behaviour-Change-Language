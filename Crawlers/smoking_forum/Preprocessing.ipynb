{
 "cells": [
  {
   "cell_type": "markdown",
   "id": "8e1292ad",
   "metadata": {},
   "source": [
    "### This is the code used to match the crawled forum data to Behavior Change Annotations\n",
    "Matching was last successfully tested in December, 2021"
   ]
  },
  {
   "cell_type": "code",
   "execution_count": 1,
   "id": "fccb6a67",
   "metadata": {},
   "outputs": [],
   "source": [
    "import pandas as pd\n",
    "import numpy as np\n",
    "import re"
   ]
  },
  {
   "cell_type": "code",
   "execution_count": 41,
   "id": "ec652f1f",
   "metadata": {},
   "outputs": [],
   "source": [
    "#data = pd.read_json(path_or_buf=\"baldNichtraucher.json\", encoding='utf-8')\n",
    "data = pd.read_json(path_or_buf=\"nichtraucherTagebuch.json\")"
   ]
  },
  {
   "cell_type": "code",
   "execution_count": 42,
   "id": "9e726b2c",
   "metadata": {},
   "outputs": [
    {
     "data": {
      "text/html": [
       "<div>\n",
       "<style scoped>\n",
       "    .dataframe tbody tr th:only-of-type {\n",
       "        vertical-align: middle;\n",
       "    }\n",
       "\n",
       "    .dataframe tbody tr th {\n",
       "        vertical-align: top;\n",
       "    }\n",
       "\n",
       "    .dataframe thead th {\n",
       "        text-align: right;\n",
       "    }\n",
       "</style>\n",
       "<table border=\"1\" class=\"dataframe\">\n",
       "  <thead>\n",
       "    <tr style=\"text-align: right;\">\n",
       "      <th></th>\n",
       "      <th>title</th>\n",
       "      <th>thread_id</th>\n",
       "      <th>post_id</th>\n",
       "      <th>date</th>\n",
       "      <th>username</th>\n",
       "      <th>content</th>\n",
       "    </tr>\n",
       "  </thead>\n",
       "  <tbody>\n",
       "    <tr>\n",
       "      <th>0</th>\n",
       "      <td>Ein neuer Anfang und diesmal muss es klappen</td>\n",
       "      <td>thread-3553</td>\n",
       "      <td>post-227196</td>\n",
       "      <td>2021-09-21T18:51:50+0100</td>\n",
       "      <td>Flip-flop</td>\n",
       "      <td>So, nun schreibe ich im NT weiter. \\nHeute hab...</td>\n",
       "    </tr>\n",
       "    <tr>\n",
       "      <th>1</th>\n",
       "      <td>Ein neuer Anfang und diesmal muss es klappen</td>\n",
       "      <td>thread-3553</td>\n",
       "      <td>post-227219</td>\n",
       "      <td>2021-09-23T08:16:18+0100</td>\n",
       "      <td>Flip-flop</td>\n",
       "      <td>Danke für die Glückwünsche!\\nMit meinen andere...</td>\n",
       "    </tr>\n",
       "    <tr>\n",
       "      <th>2</th>\n",
       "      <td>Ein neuer Anfang und diesmal muss es klappen</td>\n",
       "      <td>thread-3553</td>\n",
       "      <td>post-227258</td>\n",
       "      <td>2021-09-25T13:57:00+0100</td>\n",
       "      <td>Flip-flop</td>\n",
       "      <td>Danke dir Waldfee, mir geht es gerade ganz gut...</td>\n",
       "    </tr>\n",
       "    <tr>\n",
       "      <th>3</th>\n",
       "      <td>Ein neuer Anfang und diesmal muss es klappen</td>\n",
       "      <td>thread-3553</td>\n",
       "      <td>post-227350</td>\n",
       "      <td>2021-10-02T17:23:05+0100</td>\n",
       "      <td>Flip-flop</td>\n",
       "      <td>Jetzt hatte ich mich lange nicht gemeldet. Man...</td>\n",
       "    </tr>\n",
       "    <tr>\n",
       "      <th>4</th>\n",
       "      <td>Ein neuer Anfang und diesmal muss es klappen</td>\n",
       "      <td>thread-3553</td>\n",
       "      <td>post-227360</td>\n",
       "      <td>2021-10-03T09:08:39+0100</td>\n",
       "      <td>Flip-flop</td>\n",
       "      <td>Hallo Wilde Hilde,\\ndas möchte ich natürlich n...</td>\n",
       "    </tr>\n",
       "  </tbody>\n",
       "</table>\n",
       "</div>"
      ],
      "text/plain": [
       "                                          title    thread_id      post_id  \\\n",
       "0  Ein neuer Anfang und diesmal muss es klappen  thread-3553  post-227196   \n",
       "1  Ein neuer Anfang und diesmal muss es klappen  thread-3553  post-227219   \n",
       "2  Ein neuer Anfang und diesmal muss es klappen  thread-3553  post-227258   \n",
       "3  Ein neuer Anfang und diesmal muss es klappen  thread-3553  post-227350   \n",
       "4  Ein neuer Anfang und diesmal muss es klappen  thread-3553  post-227360   \n",
       "\n",
       "                       date   username  \\\n",
       "0  2021-09-21T18:51:50+0100  Flip-flop   \n",
       "1  2021-09-23T08:16:18+0100  Flip-flop   \n",
       "2  2021-09-25T13:57:00+0100  Flip-flop   \n",
       "3  2021-10-02T17:23:05+0100  Flip-flop   \n",
       "4  2021-10-03T09:08:39+0100  Flip-flop   \n",
       "\n",
       "                                             content  \n",
       "0  So, nun schreibe ich im NT weiter. \\nHeute hab...  \n",
       "1  Danke für die Glückwünsche!\\nMit meinen andere...  \n",
       "2  Danke dir Waldfee, mir geht es gerade ganz gut...  \n",
       "3  Jetzt hatte ich mich lange nicht gemeldet. Man...  \n",
       "4  Hallo Wilde Hilde,\\ndas möchte ich natürlich n...  "
      ]
     },
     "execution_count": 42,
     "metadata": {},
     "output_type": "execute_result"
    }
   ],
   "source": [
    "data.head()"
   ]
  },
  {
   "cell_type": "code",
   "execution_count": 43,
   "id": "81abfe4d",
   "metadata": {
    "scrolled": true
   },
   "outputs": [
    {
     "data": {
      "text/plain": [
       "682"
      ]
     },
     "execution_count": 43,
     "metadata": {},
     "output_type": "execute_result"
    }
   ],
   "source": [
    "delimiter = \"REPLACE\"   \n",
    " \n",
    "def break_line(match):\n",
    "   return match.group() + delimiter\n",
    "\n",
    "dict_of_regex_replacements = {r\"z\\. *b\\.\": \"zb\",  r\"z\\. *B\\.\": \"zb\",r\"EW\\.\": \"EW\",r\"Z\\. *B\\.\": \"zb\", r\"zB\\.\": \"zb\",\n",
    "                       r\"z\\.B\\.\": \"zb\", r\"zb\\.\": \"zb\",r\"z\\.B\": \"zb\", r\"z\\.b\": \"zb\", r\"u\\. *a\\.\": \"ua\", r\"etc\\.\": \"etc\", r\"etc\\.\\)\": \"etc\",\n",
    "                       r\" eig\\.\": \"eig\", r\"l\\.g\\.\": \"lg\", r\"o\\.k\\.\": \"ok\", r\"ca\\.\": \"ca\", r\"Ca\\.\": \"ca\", r\"d\\.m\\.\": \"dm\", r\"d\\.M\\.\": \"dm\",\n",
    "                       r\"p\\. *s\\.\": \"ps\", r\"P\\. *s\\.\": \"ps\", r\"P\\. *S\\.\": \"ps\", r\"z\\.t\\.\": \"zt\", r\"wg\\.\": \"wg\",r\"\\.-\": \"-\",\n",
    "                       r\"-\\.\": \"-\", r\"Tg\\.\": \"Tg\", r\"o\\. *ä\\.\": \"oä\", r\"d\\. *h\\.\": \"dh\", r\"D\\. *H\\.\": \"dh\", r\"d\\. *H\\.\": \"dh\",\n",
    "                       r\"dH\\.\": \"dh\",r\"dh\\.\": \"dh\", r\"z\\. *Zt\\.\": \"zzt\", r\"Dr\\.\": \"Dr\", r\"v\\. *a\\.\": \"va\", r\"\\d\\d\\.*\\d\\d\\.\": \"xx/xx/\",\n",
    "                       r\"s\\. *u\\.\": \"su\", r\"u\\.s\\.w\\.\": \"usw\", r\"usw\\.\":\"usw\",r\"soz\\.\": \"soz\", r\"vllt\\.\": \"vlt\", r\"\\(\\!\\)\": \" \",\n",
    "                       r\"ank\\.tzt\": \"ankotzt\", r\"\\!\\\" z\\.B\\.\": \"\\\" zb\",r\"Gr\\.\": \"Gr\", r\"Dez\\.\": \"Dez\", r\"(\\d+\\.)(\\d+\\.)\\d*\": \"xx/xx/xxxx\",\n",
    "                       r\"(\\d+\\.)(\\d+) \": \"12,3 \",r\"(\\d+\\.)(\\d+)\": \"xx/xx\", r\"\\d+\\.\\d+\\.\": \"xx/xx\", r\"bz\\.w\": \"bzw\", r\"Bzw\\.\": \"bzw\", \n",
    "                       r\"bzw\\.\": \"bzw\", r\"inkl\\.\": \"inkl\", r\"psych\\.\": \"psych\",r\"mind\\.\": \"mind\", r\"Min\\.\": \"Min\", r\" min\\.\": \"min\", r\"Verh\\.\": \"Verh\",\n",
    "                       r\"Ern\\.\": \"Ern\", r\"bezgl\\.\": \"bezgl\", r\"ltd\\.\": \"ltd\", r\"bspw\\.\": \"bspw\", r\"ltr\\.\": \"ltr\", r\"anschl\\.\": \"anschl\",\n",
    "                       r\"s\\.oliver\": \"soliver\", r\" event\\.\": \" event\", r\"std\\.\": \"std\", r\"Std\\.\": \"std\", r\"max\\.\": \"max\", r\"L\\.G\\.\": \"lg\",\n",
    "                       r\"LG\\.\": \"lg\", r\"tägl\\.\": \"tägl\", r\" u\\.\": \" u\", r\" u\\.\":\" u\", r\" od\\.\": \" od\",r\"Co\\.\": \"Co\", r\"co\\.\": \" co\",r\"bzgl\\.\": \"bzgl\", r\"evtl\\.\": \"evtl\",\n",
    "                       r\"pos\\.\": \"evtl\", r\"M\\.O\\.B\\.I\\.L\\.I\\.S\": \"mobilis\",r\"m\\.o\\.b\\.i\\.l\\.i\\.s\\.\": \"mobilis\", \"fddb\\.info\":\"fddb_info\", r\"i\\.d\\.R\\.*\": \"idR\",\n",
    "                       r\"z\\. *T\\.\":\"zT\", r\"Vit\\.\":\"Vit\",r\"ggf\\.\":\"ggf\", r\"m\\.E\\.\": \"mE\", r\"k\\.o\": \"ko\", r\"bezw\\.\":\"bzw\",r\"Dh\\.\":\"dh\", r\"Nr\\.\":\"Nr\", r\"Evtl\\.\":\"evtl\",\n",
    "                       r\"O\\.k\\.\":\"ok\", r\"D\\.h\\.\":\"dh\", r\"zBsp\\.\":\"zb\", r\"U\\.a\\.\":\"Ua\", r\"Bzgl\\.\":\"bzgl\", \"gr\\.\":\"gr\", \"d\\.h\":\"dh\", \"i\\.d\\.R\\.\":\"idR\"}\n",
    "\n",
    "dict_of_non_regex_replacements = {\"etc.\": \"etc\", \" u.\": \" u\", \"z.b.\": \"zb\", \" ca.\": \" ca\", \"Co.\": \"Co\", \"ggf.\":\"ggf\",\"ua.\":\"ua\", \"U.a.\":\"ua\",\n",
    "                               \"Bzgl.\": \"bzgl\", \"Mrs.\":\"Mrs\", \"Nr.\":\"Nr\", \"z.T.\":\"zT\", \"gr.\": \"gr\", \"(!)\": \"()\", \"d.h\": \"dh\", \"D.h.\":\"dh\",\n",
    "                               \"Vit.\":\"Vit\", \"m.E.\": \"mE\", \"k.o\": \"ko\", \"bezw.\":\"bzw\", \"O.k.\":\"ok\", \"Dh.\":\"dh\", \"Evtl.\":\"evtl\", \"Bsp.\":\"Bsp\", \"Bzgl.\":\"bzgl\", \"d.h\":\"dh\"}\n",
    "\n",
    "\n",
    "data[\"split\"] = \"\"\n",
    "\n",
    "for key in dict_of_regex_replacements.keys():\n",
    "    data[\"content\"].replace(key, dict_of_regex_replacements[key], inplace=True, regex=True)\n",
    "    \n",
    "for key in dict_of_non_regex_replacements.keys():\n",
    "    data[\"content\"].replace(key, dict_of_non_regex_replacements[key], inplace=True)\n",
    "\n",
    "for index, row in data.iterrows():\n",
    "    data.loc[index, \"split\"] = re.sub(r\"!+|\\?+|\\.+|\\!\\?+|\\?\\!+|\\.+\\?+\", break_line, data.loc[index,\"content\"])\n",
    "\n",
    "data = data.replace(r'\\n',' ', regex=True) \n",
    "data.drop(columns=\"content\", inplace=True)\n",
    "data = data.assign(split=data['split'].str.split(delimiter)).explode('split', ignore_index=True)\n",
    "len(data)"
   ]
  },
  {
   "cell_type": "code",
   "execution_count": 44,
   "id": "234f82a0",
   "metadata": {},
   "outputs": [
    {
     "data": {
      "text/html": [
       "<div>\n",
       "<style scoped>\n",
       "    .dataframe tbody tr th:only-of-type {\n",
       "        vertical-align: middle;\n",
       "    }\n",
       "\n",
       "    .dataframe tbody tr th {\n",
       "        vertical-align: top;\n",
       "    }\n",
       "\n",
       "    .dataframe thead th {\n",
       "        text-align: right;\n",
       "    }\n",
       "</style>\n",
       "<table border=\"1\" class=\"dataframe\">\n",
       "  <thead>\n",
       "    <tr style=\"text-align: right;\">\n",
       "      <th></th>\n",
       "      <th>title</th>\n",
       "      <th>thread_id</th>\n",
       "      <th>post_id</th>\n",
       "      <th>date</th>\n",
       "      <th>username</th>\n",
       "      <th>split</th>\n",
       "    </tr>\n",
       "  </thead>\n",
       "  <tbody>\n",
       "    <tr>\n",
       "      <th>0</th>\n",
       "      <td>Ein neuer Anfang und diesmal muss es klappen</td>\n",
       "      <td>thread-3553</td>\n",
       "      <td>post-227196</td>\n",
       "      <td>2021-09-21T18:51:50+0100</td>\n",
       "      <td>Flip-flop</td>\n",
       "      <td>So, nun schreibe ich im NT weiter.</td>\n",
       "    </tr>\n",
       "    <tr>\n",
       "      <th>1</th>\n",
       "      <td>Ein neuer Anfang und diesmal muss es klappen</td>\n",
       "      <td>thread-3553</td>\n",
       "      <td>post-227196</td>\n",
       "      <td>2021-09-21T18:51:50+0100</td>\n",
       "      <td>Flip-flop</td>\n",
       "      <td>Heute habe ich eine Schnapszahl 111 Tage ohn...</td>\n",
       "    </tr>\n",
       "    <tr>\n",
       "      <th>2</th>\n",
       "      <td>Ein neuer Anfang und diesmal muss es klappen</td>\n",
       "      <td>thread-3553</td>\n",
       "      <td>post-227196</td>\n",
       "      <td>2021-09-21T18:51:50+0100</td>\n",
       "      <td>Flip-flop</td>\n",
       "      <td>Das ist ein Grund zum feiern.</td>\n",
       "    </tr>\n",
       "    <tr>\n",
       "      <th>3</th>\n",
       "      <td>Ein neuer Anfang und diesmal muss es klappen</td>\n",
       "      <td>thread-3553</td>\n",
       "      <td>post-227196</td>\n",
       "      <td>2021-09-21T18:51:50+0100</td>\n",
       "      <td>Flip-flop</td>\n",
       "      <td>Bis jetzt ist es ja ganz gut gelaufen und ...</td>\n",
       "    </tr>\n",
       "    <tr>\n",
       "      <th>4</th>\n",
       "      <td>Ein neuer Anfang und diesmal muss es klappen</td>\n",
       "      <td>thread-3553</td>\n",
       "      <td>post-227196</td>\n",
       "      <td>2021-09-21T18:51:50+0100</td>\n",
       "      <td>Flip-flop</td>\n",
       "      <td>Natürlich kommt mir die Zigarette in den Sinn...</td>\n",
       "    </tr>\n",
       "  </tbody>\n",
       "</table>\n",
       "</div>"
      ],
      "text/plain": [
       "                                          title    thread_id      post_id  \\\n",
       "0  Ein neuer Anfang und diesmal muss es klappen  thread-3553  post-227196   \n",
       "1  Ein neuer Anfang und diesmal muss es klappen  thread-3553  post-227196   \n",
       "2  Ein neuer Anfang und diesmal muss es klappen  thread-3553  post-227196   \n",
       "3  Ein neuer Anfang und diesmal muss es klappen  thread-3553  post-227196   \n",
       "4  Ein neuer Anfang und diesmal muss es klappen  thread-3553  post-227196   \n",
       "\n",
       "                       date   username  \\\n",
       "0  2021-09-21T18:51:50+0100  Flip-flop   \n",
       "1  2021-09-21T18:51:50+0100  Flip-flop   \n",
       "2  2021-09-21T18:51:50+0100  Flip-flop   \n",
       "3  2021-09-21T18:51:50+0100  Flip-flop   \n",
       "4  2021-09-21T18:51:50+0100  Flip-flop   \n",
       "\n",
       "                                               split  \n",
       "0                 So, nun schreibe ich im NT weiter.  \n",
       "1    Heute habe ich eine Schnapszahl 111 Tage ohn...  \n",
       "2                      Das ist ein Grund zum feiern.  \n",
       "3      Bis jetzt ist es ja ganz gut gelaufen und ...  \n",
       "4   Natürlich kommt mir die Zigarette in den Sinn...  "
      ]
     },
     "execution_count": 44,
     "metadata": {},
     "output_type": "execute_result"
    }
   ],
   "source": [
    "data.head()"
   ]
  },
  {
   "cell_type": "code",
   "execution_count": 45,
   "id": "d55ba333",
   "metadata": {},
   "outputs": [
    {
     "data": {
      "text/plain": [
       "652"
      ]
     },
     "execution_count": 45,
     "metadata": {},
     "output_type": "execute_result"
    }
   ],
   "source": [
    "nan_value = float(\"NaN\")\n",
    "\n",
    "list_to_replace = [\"\", \" \", \"  \", \"    \", \"   \", \"           \", \"      \", \"!\", \"?\", \".\", \"!!\", \"??\", \"..\",\n",
    "                  \"!!!\", \"???\", \"...\", \" !\", \" ?\", \" .\", \" !!\", \" ??\", \" ..\", \" !!!\", \" ???\", \"????\", \"  ...\", \"  ....\",\n",
    "                  \" ....\", \"....\", \".......\", \" ......\", \"    \", \".......\", \" ......\", \"  ....\", \"      \", \" ...\", \"                   \",\n",
    "                  \" .....\", \".....\", \"    ...\", \"     ...\", \"  .\", \"   .\", \"  ????\", \"     \", \"        \"]\n",
    "                   \n",
    "for item in list_to_replace:\n",
    "    data[\"split\"].replace(item, nan_value, inplace=True) \n",
    "\n",
    "data.dropna(subset = [\"split\"], inplace=True)\n",
    "data.reset_index(inplace=True)\n",
    "\n",
    "# Making sure that both datasets have the same length\n",
    "len(data)"
   ]
  },
  {
   "cell_type": "code",
   "execution_count": 46,
   "id": "199a7a3c",
   "metadata": {},
   "outputs": [],
   "source": [
    "data.to_csv(\"nichtraucherTagebuch.csv\")"
   ]
  },
  {
   "cell_type": "markdown",
   "id": "a508d36f",
   "metadata": {},
   "source": [
    "### We can now look at the posts, that have a single label and polarization\n",
    "\n",
    "These were used for the testing Inter-Rater reliability and conducting machine learning experiments"
   ]
  },
  {
   "cell_type": "code",
   "execution_count": 2,
   "id": "468f8959",
   "metadata": {},
   "outputs": [],
   "source": [
    "forum_splitted = pd.read_csv(\"baldNichtraucher_annotiert.csv\", sep=\";\")"
   ]
  },
  {
   "cell_type": "code",
   "execution_count": 3,
   "id": "5dad2013",
   "metadata": {},
   "outputs": [],
   "source": [
    "categories = [\"C\", \"TS\", \"R\"]\n",
    "polarization = [\"+\", \"-\"]\n",
    "\n",
    "forum_splitted = forum_splitted[forum_splitted[\"label\"].isin(categories)]\n",
    "forum_splitted = forum_splitted[forum_splitted[\"valence\"].isin(polarization)]"
   ]
  },
  {
   "cell_type": "code",
   "execution_count": 4,
   "id": "16fd1523",
   "metadata": {},
   "outputs": [
    {
     "data": {
      "text/plain": [
       "683"
      ]
     },
     "execution_count": 4,
     "metadata": {},
     "output_type": "execute_result"
    }
   ],
   "source": [
    "len(forum_splitted)"
   ]
  },
  {
   "cell_type": "code",
   "execution_count": 5,
   "id": "b9fc76c4",
   "metadata": {},
   "outputs": [],
   "source": [
    "forum_splitted.to_csv(\"Nichtraucher_annotations_classifier_v2.csv\")"
   ]
  },
  {
   "cell_type": "code",
   "execution_count": 6,
   "id": "1fd14c38",
   "metadata": {},
   "outputs": [],
   "source": [
    "from sklearn.model_selection import train_test_split"
   ]
  },
  {
   "cell_type": "code",
   "execution_count": 7,
   "id": "ebfc1b4a",
   "metadata": {},
   "outputs": [],
   "source": [
    "forum_splitted = pd.read_csv(\"Nichtraucher_annotations_classifier_v2.csv\")"
   ]
  },
  {
   "cell_type": "code",
   "execution_count": 8,
   "id": "9198bc4a",
   "metadata": {},
   "outputs": [],
   "source": [
    "forum_splitted[\"valence\"].replace(\"+\", 1, inplace=True)\n",
    "forum_splitted[\"valence\"].replace(\"-\", 0, inplace=True)"
   ]
  },
  {
   "cell_type": "code",
   "execution_count": 9,
   "id": "7e215781",
   "metadata": {},
   "outputs": [],
   "source": [
    "forum_splitted[\"label\"].replace(\"R\", 0, inplace=True)\n",
    "forum_splitted[\"label\"].replace(\"TS\", 1, inplace=True)\n",
    "forum_splitted[\"label\"].replace(\"C\", 2, inplace=True)\n",
    "\n",
    "forum_splitted[\"sublabel\"].fillna(0, inplace=True)\n",
    "forum_splitted[\"sublabel\"].replace(\"a\", 1, inplace=True)\n",
    "forum_splitted[\"sublabel\"].replace(\"d\", 2, inplace=True)\n",
    "forum_splitted[\"sublabel\"].replace(\"n\", 3, inplace=True)"
   ]
  },
  {
   "cell_type": "code",
   "execution_count": 10,
   "id": "710088d1",
   "metadata": {},
   "outputs": [],
   "source": [
    "sublabels_forum_splitted = forum_splitted[forum_splitted[\"label\"] == 0]"
   ]
  },
  {
   "cell_type": "code",
   "execution_count": 11,
   "id": "81964e57",
   "metadata": {},
   "outputs": [],
   "source": [
    "valence = forum_splitted[[\"sentence\", \"valence\"]].copy()\n",
    "valence.rename(columns={\"valence\":\"labels\"}, inplace=True)"
   ]
  },
  {
   "cell_type": "code",
   "execution_count": 12,
   "id": "9a39e0da",
   "metadata": {},
   "outputs": [],
   "source": [
    "labels = forum_splitted[[\"sentence\", \"label\"]].copy()\n",
    "labels.rename(columns={\"label\":\"labels\"}, inplace=True)"
   ]
  },
  {
   "cell_type": "code",
   "execution_count": 13,
   "id": "fb3a3b56",
   "metadata": {},
   "outputs": [],
   "source": [
    "sublabels = sublabels_forum_splitted[[\"sentence\", \"sublabel\"]].copy()\n",
    "sublabels.rename(columns={\"sublabel\":\"labels\"}, inplace=True)"
   ]
  },
  {
   "cell_type": "code",
   "execution_count": 14,
   "id": "a072e6c7",
   "metadata": {},
   "outputs": [],
   "source": [
    "valence.to_csv(\"nichtraucher_valence_v2.csv\")\n",
    "labels.to_csv(\"nichtraucher_labels_v2.csv\")\n",
    "sublabels.to_csv(\"nichtraucher_sublabels_v2.csv\")"
   ]
  },
  {
   "cell_type": "code",
   "execution_count": null,
   "id": "783c2e7b",
   "metadata": {},
   "outputs": [],
   "source": []
  }
 ],
 "metadata": {
  "kernelspec": {
   "display_name": "Python 3",
   "language": "python",
   "name": "python3"
  },
  "language_info": {
   "codemirror_mode": {
    "name": "ipython",
    "version": 3
   },
   "file_extension": ".py",
   "mimetype": "text/x-python",
   "name": "python",
   "nbconvert_exporter": "python",
   "pygments_lexer": "ipython3",
   "version": "3.9.9"
  }
 },
 "nbformat": 4,
 "nbformat_minor": 5
}
